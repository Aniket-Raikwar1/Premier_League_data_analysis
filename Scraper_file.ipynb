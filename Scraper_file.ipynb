{
 "cells": [
  {
   "cell_type": "markdown",
   "id": "7f8ee7e4",
   "metadata": {},
   "source": [
    "# Season table scraper"
   ]
  },
  {
   "cell_type": "markdown",
   "id": "dce9f758",
   "metadata": {},
   "source": [
    "### To get our data we will get it from fbref.com "
   ]
  },
  {
   "cell_type": "code",
   "execution_count": 1,
   "id": "e8824018",
   "metadata": {},
   "outputs": [],
   "source": [
    "# Importing libraries\n",
    "# !pip install html5lib\n",
    "import time\n",
    "\n",
    "# Web scraping liberaries\n",
    "from bs4 import BeautifulSoup\n",
    "import requests\n",
    "import time\n",
    "\n",
    "# Data analysis liberaries\n",
    "import pandas as pd\n",
    "import numpy as np\n",
    "import matplotlib.pyplot as plt\n",
    "import seaborn as sns\n"
   ]
  },
  {
   "cell_type": "markdown",
   "id": "155d8c1e-c92b-4eba-abb9-e71efb2a4151",
   "metadata": {},
   "source": [
    "## Scraping the Big 5 league data"
   ]
  },
  {
   "cell_type": "markdown",
   "id": "3a3968fe-c6bc-46a4-9a7e-5f461da71999",
   "metadata": {},
   "source": [
    "#### Player related data"
   ]
  },
  {
   "cell_type": "code",
   "execution_count": 2,
   "id": "8e3223e9-99b7-49b6-83d7-10c8ec667ad6",
   "metadata": {},
   "outputs": [],
   "source": [
    "year = 2023\n",
    "season = f'{year}-{year+1}'"
   ]
  },
  {
   "cell_type": "code",
   "execution_count": 5,
   "id": "a4ba116b-effd-43dd-81a4-07a18502504a",
   "metadata": {},
   "outputs": [],
   "source": [
    "stats_type_and_ids = {\n",
    "    'stats' : 'stats_standard',\n",
    "    'keepers' : 'stats_keeper',\n",
    "    'keepersadv' : 'stats_keeper_adv',\n",
    "    'shooting' : 'stats_shooting',\n",
    "    'passing' : 'stats_passing',\n",
    "    'passing_types' : 'stats_passing_types',\n",
    "    'gca' : 'stats_gca',\n",
    "    'defense' : 'stats_defense',\n",
    "    'possession' : 'stats_possession',\n",
    "    'playingtime' : 'stats_playing_time',\n",
    "    'misc' : 'stats_misc'\n",
    "                     } "
   ]
  },
  {
   "cell_type": "code",
   "execution_count": 6,
   "id": "b68d5cf0-11d1-495f-b8d8-fcf20e0a491f",
   "metadata": {},
   "outputs": [
    {
     "name": "stdout",
     "output_type": "stream",
     "text": [
      "2023-2024\n",
      "2023-2024\n",
      "2023-2024\n",
      "2023-2024\n",
      "2023-2024\n",
      "2023-2024\n",
      "2023-2024\n",
      "2023-2024\n",
      "2023-2024\n",
      "2023-2024\n",
      "2023-2024\n"
     ]
    }
   ],
   "source": [
    "for i,j in stats_type_and_ids.items():\n",
    "    \n",
    "    url_ = f'https://fbref.com/en/comps/Big5/{season}/{i}/players/{season}-Big-5-European-Leagues-Stats'\n",
    "    print(season)\n",
    "    time.sleep(30)\n",
    "    player_stats = pd.read_html(url_,attrs={'id' : f'{j}'})\n",
    "    player_stats =  player_stats[0]\n",
    "    player_stats.columns\n",
    "    \n",
    "    new_col_name = []\n",
    "    for col in player_stats.columns:\n",
    "        left_part,right_part = col[0],col[1]\n",
    "        omit = left_part[:7]\n",
    "        if omit == 'Unnamed':\n",
    "            new_col_name_ = right_part\n",
    "            new_col_name.append(new_col_name_)\n",
    "        else:\n",
    "            new_col_name_ = left_part + \" \" + right_part\n",
    "            new_col_name.append(new_col_name_)\n",
    "    \n",
    "    new_col_name\n",
    "    \n",
    "    \n",
    "    player_stats.columns = new_col_name\n",
    "    player_stats =  player_stats[player_stats['Rk'] != \"Rk\"]\n",
    "    player_stats.to_csv(f'Datasets/Players_data/{season}/Player_{j}-{season}',index=False)\n"
   ]
  },
  {
   "cell_type": "markdown",
   "id": "1efffcd2-03c1-4ded-82e1-75f3050931a9",
   "metadata": {},
   "source": [
    "#### Scraping the LaLiga seasons data"
   ]
  },
  {
   "cell_type": "code",
   "execution_count": 6,
   "id": "cbd4975d-66cf-4a79-90e1-27585cacff66",
   "metadata": {},
   "outputs": [],
   "source": [
    "URL_ = 'https://fbref.com/en/comps/11/1988-1989/1988-1989-Serie-A-Stats'"
   ]
  },
  {
   "cell_type": "code",
   "execution_count": 7,
   "id": "15c0e4b2-1165-4354-92a1-eeae51afe625",
   "metadata": {},
   "outputs": [
    {
     "data": {
      "text/plain": [
       "'1988-1989'"
      ]
     },
     "execution_count": 7,
     "metadata": {},
     "output_type": "execute_result"
    }
   ],
   "source": [
    "season = URL_[30:39]\n",
    "season"
   ]
  },
  {
   "cell_type": "code",
   "execution_count": 9,
   "id": "3d001184-8af7-4bbf-812b-0a0fa0c6e300",
   "metadata": {},
   "outputs": [],
   "source": [
    "la_liga_season = pd.read_html(URL_,attrs={'id': f'results{season}111_overall'})"
   ]
  },
  {
   "cell_type": "code",
   "execution_count": 10,
   "id": "16fcaded-498a-41d4-ac9a-8e64f89b87e2",
   "metadata": {},
   "outputs": [],
   "source": [
    "la_liga_season = la_liga_season[0]"
   ]
  },
  {
   "cell_type": "code",
   "execution_count": 11,
   "id": "bfc8bc80-6306-46ce-ba20-15b6e8bdbb4b",
   "metadata": {},
   "outputs": [
    {
     "data": {
      "text/html": [
       "<div>\n",
       "<style scoped>\n",
       "    .dataframe tbody tr th:only-of-type {\n",
       "        vertical-align: middle;\n",
       "    }\n",
       "\n",
       "    .dataframe tbody tr th {\n",
       "        vertical-align: top;\n",
       "    }\n",
       "\n",
       "    .dataframe thead th {\n",
       "        text-align: right;\n",
       "    }\n",
       "</style>\n",
       "<table border=\"1\" class=\"dataframe\">\n",
       "  <thead>\n",
       "    <tr style=\"text-align: right;\">\n",
       "      <th></th>\n",
       "      <th>Rk</th>\n",
       "      <th>Squad</th>\n",
       "      <th>MP</th>\n",
       "      <th>W</th>\n",
       "      <th>D</th>\n",
       "      <th>L</th>\n",
       "      <th>GF</th>\n",
       "      <th>GA</th>\n",
       "      <th>GD</th>\n",
       "      <th>Pts</th>\n",
       "      <th>Pts/MP</th>\n",
       "      <th>Attendance</th>\n",
       "      <th>Top Team Scorer</th>\n",
       "      <th>Goalkeeper</th>\n",
       "      <th>Notes</th>\n",
       "    </tr>\n",
       "  </thead>\n",
       "  <tbody>\n",
       "    <tr>\n",
       "      <th>0</th>\n",
       "      <td>1</td>\n",
       "      <td>Inter</td>\n",
       "      <td>34</td>\n",
       "      <td>26</td>\n",
       "      <td>6</td>\n",
       "      <td>2</td>\n",
       "      <td>67</td>\n",
       "      <td>19</td>\n",
       "      <td>48</td>\n",
       "      <td>58</td>\n",
       "      <td>1.71</td>\n",
       "      <td>NaN</td>\n",
       "      <td>Aldo Serena - 22</td>\n",
       "      <td>NaN</td>\n",
       "      <td>→ European Cup via league finish</td>\n",
       "    </tr>\n",
       "    <tr>\n",
       "      <th>1</th>\n",
       "      <td>2</td>\n",
       "      <td>Napoli</td>\n",
       "      <td>34</td>\n",
       "      <td>18</td>\n",
       "      <td>11</td>\n",
       "      <td>5</td>\n",
       "      <td>57</td>\n",
       "      <td>28</td>\n",
       "      <td>29</td>\n",
       "      <td>47</td>\n",
       "      <td>1.38</td>\n",
       "      <td>NaN</td>\n",
       "      <td>Careca - 19</td>\n",
       "      <td>NaN</td>\n",
       "      <td>→ UEFA Cup via league finish</td>\n",
       "    </tr>\n",
       "    <tr>\n",
       "      <th>2</th>\n",
       "      <td>3</td>\n",
       "      <td>Milan</td>\n",
       "      <td>34</td>\n",
       "      <td>16</td>\n",
       "      <td>14</td>\n",
       "      <td>4</td>\n",
       "      <td>61</td>\n",
       "      <td>25</td>\n",
       "      <td>36</td>\n",
       "      <td>46</td>\n",
       "      <td>1.35</td>\n",
       "      <td>NaN</td>\n",
       "      <td>Marco van Basten - 19</td>\n",
       "      <td>NaN</td>\n",
       "      <td>→ European Cup via Champions League win</td>\n",
       "    </tr>\n",
       "    <tr>\n",
       "      <th>3</th>\n",
       "      <td>4</td>\n",
       "      <td>Juventus</td>\n",
       "      <td>34</td>\n",
       "      <td>15</td>\n",
       "      <td>13</td>\n",
       "      <td>6</td>\n",
       "      <td>51</td>\n",
       "      <td>36</td>\n",
       "      <td>15</td>\n",
       "      <td>43</td>\n",
       "      <td>1.26</td>\n",
       "      <td>NaN</td>\n",
       "      <td>Rui Barros - 12</td>\n",
       "      <td>NaN</td>\n",
       "      <td>→ UEFA Cup via league finish</td>\n",
       "    </tr>\n",
       "    <tr>\n",
       "      <th>4</th>\n",
       "      <td>5</td>\n",
       "      <td>Sampdoria</td>\n",
       "      <td>34</td>\n",
       "      <td>14</td>\n",
       "      <td>11</td>\n",
       "      <td>9</td>\n",
       "      <td>43</td>\n",
       "      <td>25</td>\n",
       "      <td>18</td>\n",
       "      <td>39</td>\n",
       "      <td>1.15</td>\n",
       "      <td>NaN</td>\n",
       "      <td>Gianluca Vialli - 14</td>\n",
       "      <td>NaN</td>\n",
       "      <td>→ European Cup Winners' Cup via cup win</td>\n",
       "    </tr>\n",
       "    <tr>\n",
       "      <th>5</th>\n",
       "      <td>6</td>\n",
       "      <td>Atalanta</td>\n",
       "      <td>34</td>\n",
       "      <td>11</td>\n",
       "      <td>14</td>\n",
       "      <td>9</td>\n",
       "      <td>37</td>\n",
       "      <td>32</td>\n",
       "      <td>5</td>\n",
       "      <td>36</td>\n",
       "      <td>1.06</td>\n",
       "      <td>NaN</td>\n",
       "      <td>Evair - 10</td>\n",
       "      <td>NaN</td>\n",
       "      <td>→ UEFA Cup via league finish</td>\n",
       "    </tr>\n",
       "    <tr>\n",
       "      <th>6</th>\n",
       "      <td>7</td>\n",
       "      <td>Fiorentina</td>\n",
       "      <td>34</td>\n",
       "      <td>12</td>\n",
       "      <td>10</td>\n",
       "      <td>12</td>\n",
       "      <td>44</td>\n",
       "      <td>43</td>\n",
       "      <td>1</td>\n",
       "      <td>34</td>\n",
       "      <td>1.00</td>\n",
       "      <td>NaN</td>\n",
       "      <td>Roberto Baggio - 15</td>\n",
       "      <td>NaN</td>\n",
       "      <td>→ UEFA Cup via league finish</td>\n",
       "    </tr>\n",
       "    <tr>\n",
       "      <th>7</th>\n",
       "      <td>8</td>\n",
       "      <td>Roma</td>\n",
       "      <td>34</td>\n",
       "      <td>11</td>\n",
       "      <td>12</td>\n",
       "      <td>11</td>\n",
       "      <td>33</td>\n",
       "      <td>40</td>\n",
       "      <td>-7</td>\n",
       "      <td>34</td>\n",
       "      <td>1.00</td>\n",
       "      <td>NaN</td>\n",
       "      <td>Rudi Völler - 10</td>\n",
       "      <td>NaN</td>\n",
       "      <td>NaN</td>\n",
       "    </tr>\n",
       "    <tr>\n",
       "      <th>8</th>\n",
       "      <td>9</td>\n",
       "      <td>Lecce</td>\n",
       "      <td>34</td>\n",
       "      <td>8</td>\n",
       "      <td>15</td>\n",
       "      <td>11</td>\n",
       "      <td>25</td>\n",
       "      <td>35</td>\n",
       "      <td>-10</td>\n",
       "      <td>31</td>\n",
       "      <td>0.91</td>\n",
       "      <td>NaN</td>\n",
       "      <td>Pedro Pasculli - 7</td>\n",
       "      <td>NaN</td>\n",
       "      <td>NaN</td>\n",
       "    </tr>\n",
       "    <tr>\n",
       "      <th>9</th>\n",
       "      <td>10</td>\n",
       "      <td>Lazio</td>\n",
       "      <td>34</td>\n",
       "      <td>5</td>\n",
       "      <td>19</td>\n",
       "      <td>10</td>\n",
       "      <td>23</td>\n",
       "      <td>32</td>\n",
       "      <td>-9</td>\n",
       "      <td>29</td>\n",
       "      <td>0.85</td>\n",
       "      <td>NaN</td>\n",
       "      <td>Rubén Sosa - 8</td>\n",
       "      <td>NaN</td>\n",
       "      <td>NaN</td>\n",
       "    </tr>\n",
       "    <tr>\n",
       "      <th>10</th>\n",
       "      <td>11</td>\n",
       "      <td>Hellas Verona</td>\n",
       "      <td>34</td>\n",
       "      <td>5</td>\n",
       "      <td>19</td>\n",
       "      <td>10</td>\n",
       "      <td>18</td>\n",
       "      <td>27</td>\n",
       "      <td>-9</td>\n",
       "      <td>29</td>\n",
       "      <td>0.85</td>\n",
       "      <td>NaN</td>\n",
       "      <td>Marco Pacione - 5</td>\n",
       "      <td>NaN</td>\n",
       "      <td>NaN</td>\n",
       "    </tr>\n",
       "    <tr>\n",
       "      <th>11</th>\n",
       "      <td>12</td>\n",
       "      <td>Ascoli</td>\n",
       "      <td>34</td>\n",
       "      <td>9</td>\n",
       "      <td>11</td>\n",
       "      <td>14</td>\n",
       "      <td>30</td>\n",
       "      <td>41</td>\n",
       "      <td>-11</td>\n",
       "      <td>29</td>\n",
       "      <td>0.85</td>\n",
       "      <td>NaN</td>\n",
       "      <td>Bruno Giordano - 10</td>\n",
       "      <td>NaN</td>\n",
       "      <td>NaN</td>\n",
       "    </tr>\n",
       "    <tr>\n",
       "      <th>12</th>\n",
       "      <td>13</td>\n",
       "      <td>Cesena</td>\n",
       "      <td>34</td>\n",
       "      <td>8</td>\n",
       "      <td>13</td>\n",
       "      <td>13</td>\n",
       "      <td>24</td>\n",
       "      <td>39</td>\n",
       "      <td>-15</td>\n",
       "      <td>29</td>\n",
       "      <td>0.85</td>\n",
       "      <td>NaN</td>\n",
       "      <td>Massimo Agostini - 11</td>\n",
       "      <td>NaN</td>\n",
       "      <td>NaN</td>\n",
       "    </tr>\n",
       "    <tr>\n",
       "      <th>13</th>\n",
       "      <td>14</td>\n",
       "      <td>Bologna</td>\n",
       "      <td>34</td>\n",
       "      <td>8</td>\n",
       "      <td>13</td>\n",
       "      <td>13</td>\n",
       "      <td>26</td>\n",
       "      <td>43</td>\n",
       "      <td>-17</td>\n",
       "      <td>29</td>\n",
       "      <td>0.85</td>\n",
       "      <td>NaN</td>\n",
       "      <td>Lorenzo Marronaro - 5</td>\n",
       "      <td>NaN</td>\n",
       "      <td>NaN</td>\n",
       "    </tr>\n",
       "    <tr>\n",
       "      <th>14</th>\n",
       "      <td>15</td>\n",
       "      <td>Torino</td>\n",
       "      <td>34</td>\n",
       "      <td>8</td>\n",
       "      <td>11</td>\n",
       "      <td>15</td>\n",
       "      <td>37</td>\n",
       "      <td>49</td>\n",
       "      <td>-12</td>\n",
       "      <td>27</td>\n",
       "      <td>0.79</td>\n",
       "      <td>NaN</td>\n",
       "      <td>Müller - 11</td>\n",
       "      <td>NaN</td>\n",
       "      <td>Relegated</td>\n",
       "    </tr>\n",
       "    <tr>\n",
       "      <th>15</th>\n",
       "      <td>16</td>\n",
       "      <td>Pescara</td>\n",
       "      <td>34</td>\n",
       "      <td>5</td>\n",
       "      <td>17</td>\n",
       "      <td>12</td>\n",
       "      <td>28</td>\n",
       "      <td>43</td>\n",
       "      <td>-15</td>\n",
       "      <td>27</td>\n",
       "      <td>0.79</td>\n",
       "      <td>NaN</td>\n",
       "      <td>Tita - 9</td>\n",
       "      <td>NaN</td>\n",
       "      <td>Relegated</td>\n",
       "    </tr>\n",
       "    <tr>\n",
       "      <th>16</th>\n",
       "      <td>17</td>\n",
       "      <td>Pisa</td>\n",
       "      <td>34</td>\n",
       "      <td>6</td>\n",
       "      <td>11</td>\n",
       "      <td>17</td>\n",
       "      <td>17</td>\n",
       "      <td>39</td>\n",
       "      <td>-22</td>\n",
       "      <td>23</td>\n",
       "      <td>0.68</td>\n",
       "      <td>NaN</td>\n",
       "      <td>Giuseppe Incocciati - 7</td>\n",
       "      <td>NaN</td>\n",
       "      <td>Relegated</td>\n",
       "    </tr>\n",
       "    <tr>\n",
       "      <th>17</th>\n",
       "      <td>18</td>\n",
       "      <td>Como</td>\n",
       "      <td>34</td>\n",
       "      <td>6</td>\n",
       "      <td>10</td>\n",
       "      <td>18</td>\n",
       "      <td>24</td>\n",
       "      <td>49</td>\n",
       "      <td>-25</td>\n",
       "      <td>22</td>\n",
       "      <td>0.65</td>\n",
       "      <td>NaN</td>\n",
       "      <td>Marco Simone - 6</td>\n",
       "      <td>NaN</td>\n",
       "      <td>Relegated</td>\n",
       "    </tr>\n",
       "  </tbody>\n",
       "</table>\n",
       "</div>"
      ],
      "text/plain": [
       "    Rk          Squad  MP   W   D   L  GF  GA  GD  Pts  Pts/MP  Attendance  \\\n",
       "0    1          Inter  34  26   6   2  67  19  48   58    1.71         NaN   \n",
       "1    2         Napoli  34  18  11   5  57  28  29   47    1.38         NaN   \n",
       "2    3          Milan  34  16  14   4  61  25  36   46    1.35         NaN   \n",
       "3    4       Juventus  34  15  13   6  51  36  15   43    1.26         NaN   \n",
       "4    5      Sampdoria  34  14  11   9  43  25  18   39    1.15         NaN   \n",
       "5    6       Atalanta  34  11  14   9  37  32   5   36    1.06         NaN   \n",
       "6    7     Fiorentina  34  12  10  12  44  43   1   34    1.00         NaN   \n",
       "7    8           Roma  34  11  12  11  33  40  -7   34    1.00         NaN   \n",
       "8    9          Lecce  34   8  15  11  25  35 -10   31    0.91         NaN   \n",
       "9   10          Lazio  34   5  19  10  23  32  -9   29    0.85         NaN   \n",
       "10  11  Hellas Verona  34   5  19  10  18  27  -9   29    0.85         NaN   \n",
       "11  12         Ascoli  34   9  11  14  30  41 -11   29    0.85         NaN   \n",
       "12  13         Cesena  34   8  13  13  24  39 -15   29    0.85         NaN   \n",
       "13  14        Bologna  34   8  13  13  26  43 -17   29    0.85         NaN   \n",
       "14  15         Torino  34   8  11  15  37  49 -12   27    0.79         NaN   \n",
       "15  16        Pescara  34   5  17  12  28  43 -15   27    0.79         NaN   \n",
       "16  17           Pisa  34   6  11  17  17  39 -22   23    0.68         NaN   \n",
       "17  18           Como  34   6  10  18  24  49 -25   22    0.65         NaN   \n",
       "\n",
       "            Top Team Scorer  Goalkeeper  \\\n",
       "0          Aldo Serena - 22         NaN   \n",
       "1               Careca - 19         NaN   \n",
       "2     Marco van Basten - 19         NaN   \n",
       "3           Rui Barros - 12         NaN   \n",
       "4      Gianluca Vialli - 14         NaN   \n",
       "5                Evair - 10         NaN   \n",
       "6       Roberto Baggio - 15         NaN   \n",
       "7          Rudi Völler - 10         NaN   \n",
       "8        Pedro Pasculli - 7         NaN   \n",
       "9            Rubén Sosa - 8         NaN   \n",
       "10        Marco Pacione - 5         NaN   \n",
       "11      Bruno Giordano - 10         NaN   \n",
       "12    Massimo Agostini - 11         NaN   \n",
       "13    Lorenzo Marronaro - 5         NaN   \n",
       "14              Müller - 11         NaN   \n",
       "15                 Tita - 9         NaN   \n",
       "16  Giuseppe Incocciati - 7         NaN   \n",
       "17         Marco Simone - 6         NaN   \n",
       "\n",
       "                                      Notes  \n",
       "0          → European Cup via league finish  \n",
       "1              → UEFA Cup via league finish  \n",
       "2   → European Cup via Champions League win  \n",
       "3              → UEFA Cup via league finish  \n",
       "4   → European Cup Winners' Cup via cup win  \n",
       "5              → UEFA Cup via league finish  \n",
       "6              → UEFA Cup via league finish  \n",
       "7                                       NaN  \n",
       "8                                       NaN  \n",
       "9                                       NaN  \n",
       "10                                      NaN  \n",
       "11                                      NaN  \n",
       "12                                      NaN  \n",
       "13                                      NaN  \n",
       "14                                Relegated  \n",
       "15                                Relegated  \n",
       "16                                Relegated  \n",
       "17                                Relegated  "
      ]
     },
     "execution_count": 11,
     "metadata": {},
     "output_type": "execute_result"
    }
   ],
   "source": [
    "la_liga_season"
   ]
  },
  {
   "cell_type": "code",
   "execution_count": 23,
   "id": "2091500d-47fd-4b04-853f-da978e5c2753",
   "metadata": {},
   "outputs": [],
   "source": [
    "la_liga_season.to_csv(f'Datasets/La_Liga/La_Liga_season{season}',index=False)"
   ]
  },
  {
   "cell_type": "code",
   "execution_count": 7,
   "id": "b2eb981e-b0d5-4104-b4b0-0ba24949ed34",
   "metadata": {},
   "outputs": [],
   "source": [
    "League,code_,id_code = 'Ligue-1',13,131"
   ]
  },
  {
   "cell_type": "code",
   "execution_count": 6,
   "id": "5a706aa7-2975-4c81-b8b1-69b0051d51ef",
   "metadata": {},
   "outputs": [],
   "source": [
    "year = 1989"
   ]
  },
  {
   "cell_type": "code",
   "execution_count": 4,
   "id": "e83dd24f-5aaf-46f3-935c-16d4e6ada257",
   "metadata": {},
   "outputs": [
    {
     "name": "stdout",
     "output_type": "stream",
     "text": [
      "2011-2012\n",
      "2012-2013\n",
      "2013-2014\n",
      "2014-2015\n",
      "2015-2016\n",
      "2016-2017\n",
      "2017-2018\n",
      "2018-2019\n",
      "2019-2020\n",
      "2020-2021\n",
      "2021-2022\n",
      "2022-2023\n",
      "2023-2024\n"
     ]
    }
   ],
   "source": [
    "while year < 2024:\n",
    "    # print(year)\n",
    "    URL_ = f'https://fbref.com/en/comps/{code_}/{year}-{year+1}/{year}-{year+1}-{League}-Stats'\n",
    "    season = URL_[30:39]\n",
    "    print(season)\n",
    "    league_season = pd.read_html(URL_,attrs={'id': f'results{season}{id_code}_overall'})\n",
    "    league_season = league_season[0]\n",
    "    league_season.to_csv(f'Datasets/{League}/{League}_season-{season}',index=False)\n",
    "    year = year+1\n",
    "    time.sleep(40)"
   ]
  },
  {
   "cell_type": "markdown",
   "id": "fc87dec1-be0e-4fd2-b7bd-576a1741f84f",
   "metadata": {},
   "source": [
    "#### Scraping the Stadium data from Wikipedia"
   ]
  },
  {
   "cell_type": "code",
   "execution_count": 18,
   "id": "e934f784-73ef-48b0-b6a5-e96e51d0efc9",
   "metadata": {},
   "outputs": [],
   "source": [
    "URL = \"https://en.wikipedia.org/wiki/List_of_Premier_League_stadiums\""
   ]
  },
  {
   "cell_type": "code",
   "execution_count": 20,
   "id": "25419ae7-8e8a-417b-90cc-4acc2558bb11",
   "metadata": {},
   "outputs": [],
   "source": [
    "tables =  pd.read_html(URL)"
   ]
  },
  {
   "cell_type": "code",
   "execution_count": 24,
   "id": "86040f15-8935-4f2c-9099-1560a4c7f027",
   "metadata": {},
   "outputs": [],
   "source": [
    "stadium_detial = tables[0]"
   ]
  },
  {
   "cell_type": "code",
   "execution_count": 25,
   "id": "e5564337-f6ba-4642-9ed3-a4092c457d92",
   "metadata": {},
   "outputs": [],
   "source": [
    "status = tables[1]"
   ]
  },
  {
   "cell_type": "code",
   "execution_count": 28,
   "id": "a1d658df-6ef9-4a4e-8282-ca761be85224",
   "metadata": {},
   "outputs": [],
   "source": [
    "stadium_detial.to_csv(f'Datasets/Seasons/Stadium_details',index=False)\n",
    "status.to_csv(f'Datasets/Seasons/Stadium_status',index=False)"
   ]
  },
  {
   "cell_type": "markdown",
   "id": "d21596c1-b0a0-4596-934c-24d9592c3a1e",
   "metadata": {},
   "source": [
    "------"
   ]
  },
  {
   "cell_type": "markdown",
   "id": "90b1e37c-0e72-48f7-82b5-de14749e57af",
   "metadata": {},
   "source": [
    "Scraping the Season table"
   ]
  },
  {
   "cell_type": "code",
   "execution_count": null,
   "id": "a3c5b30f-0a6b-4cf0-a725-8e157971447a",
   "metadata": {},
   "outputs": [],
   "source": []
  },
  {
   "cell_type": "markdown",
   "id": "518cec5b",
   "metadata": {},
   "source": [
    "### Important funtion for scraping the website"
   ]
  },
  {
   "cell_type": "code",
   "execution_count": null,
   "id": "bbf237e4-d09d-4012-ad3f-0c6da481787b",
   "metadata": {},
   "outputs": [],
   "source": []
  },
  {
   "cell_type": "code",
   "execution_count": 4,
   "id": "f6be6909",
   "metadata": {},
   "outputs": [],
   "source": [
    "def text_extract_from_contents(contents_list):\n",
    "    '''\n",
    "    Input : \n",
    "    Output :  \n",
    "    \n",
    "    '''\n",
    "    list_ = []\n",
    "    for i in range(len(contents_list)):\n",
    "        if contents_list[i] == \" \" or contents_list[i] == \"\\n\":\n",
    "            pass\n",
    "        else:\n",
    "            list_.append(contents_list[i].text)\n",
    "    \n",
    "    return list_"
   ]
  },
  {
   "cell_type": "code",
   "execution_count": 5,
   "id": "bc0b5cd7",
   "metadata": {},
   "outputs": [],
   "source": [
    "def content_to_list(content_list):\n",
    "    '''\n",
    "    Input : Content of tags \n",
    "    Output : Return a list without space and tags as element of list.\n",
    "    \n",
    "    '''\n",
    "    list_ = []\n",
    "    for i in range(len(content_list)):\n",
    "        if content_list[i] == \" \" or content_list[i] == \"\\n\":\n",
    "            pass\n",
    "        else:\n",
    "            list_.append(content_list[i])\n",
    "    return list_"
   ]
  },
  {
   "cell_type": "code",
   "execution_count": 6,
   "id": "8547cc22",
   "metadata": {},
   "outputs": [],
   "source": [
    "def create_dictionary(list_):\n",
    "    '''\n",
    "    Input : List of elements as keys \n",
    "    Output : Return a dictionary with \n",
    "    '''\n",
    "    dictionary = {}\n",
    "    for i in list_:\n",
    "        dictionary[i] = []\n",
    "    return dictionary\n"
   ]
  },
  {
   "cell_type": "code",
   "execution_count": 7,
   "id": "cbb5b2c4",
   "metadata": {},
   "outputs": [],
   "source": [
    "def final_table(table_headers_list,table_content):\n",
    "    dictionary = create_dictionary(table_headers_list)\n",
    "    \n",
    "    for i in range(len(table_content)):\n",
    "        detail = text_extract_from_contents(table_content[i].contents)\n",
    "        for j in range(len(table_headers_list)):\n",
    "            dictionary[table_headers_list[j]].append(detail[j])\n",
    "        \n",
    "    return dictionary"
   ]
  },
  {
   "cell_type": "markdown",
   "id": "27b59c2b",
   "metadata": {},
   "source": [
    "### Understanding the structure and code of the website"
   ]
  },
  {
   "cell_type": "code",
   "execution_count": 8,
   "id": "97132a03",
   "metadata": {},
   "outputs": [],
   "source": [
    "URL = \"https://fbref.com/en/comps/9/2022-2023/2022-2023-Premier-League-Stats\""
   ]
  },
  {
   "cell_type": "code",
   "execution_count": 9,
   "id": "6eef4608",
   "metadata": {},
   "outputs": [],
   "source": [
    "page = requests.get(URL)"
   ]
  },
  {
   "cell_type": "code",
   "execution_count": 10,
   "id": "c5b8b3f7",
   "metadata": {},
   "outputs": [
    {
     "data": {
      "text/plain": [
       "403"
      ]
     },
     "execution_count": 10,
     "metadata": {},
     "output_type": "execute_result"
    }
   ],
   "source": [
    "code = page.status_code\n",
    "code"
   ]
  },
  {
   "cell_type": "code",
   "execution_count": 11,
   "id": "186cffc9",
   "metadata": {},
   "outputs": [],
   "source": [
    "soup = BeautifulSoup(page.text)"
   ]
  },
  {
   "cell_type": "markdown",
   "id": "41d6b965",
   "metadata": {},
   "source": [
    "### Getting list tags "
   ]
  },
  {
   "cell_type": "code",
   "execution_count": 12,
   "id": "7bdb7c55-f8d3-4db8-bc8e-639074142c7e",
   "metadata": {},
   "outputs": [
    {
     "data": {
      "text/plain": [
       "<!DOCTYPE html>\n",
       "<html lang=\"en-US\"><head><title>Just a moment...</title><meta content=\"text/html; charset=utf-8\" http-equiv=\"Content-Type\"/><meta content=\"IE=Edge\" http-equiv=\"X-UA-Compatible\"/><meta content=\"noindex,nofollow\" name=\"robots\"/><meta content=\"width=device-width,initial-scale=1\" name=\"viewport\"/><style>*{box-sizing:border-box;margin:0;padding:0}html{line-height:1.15;-webkit-text-size-adjust:100%;color:#313131;font-family:system-ui,-apple-system,BlinkMacSystemFont,Segoe UI,Roboto,Helvetica Neue,Arial,Noto Sans,sans-serif,Apple Color Emoji,Segoe UI Emoji,Segoe UI Symbol,Noto Color Emoji}body{display:flex;flex-direction:column;height:100vh;min-height:100vh}.main-content{margin:8rem auto;max-width:60rem;padding-left:1.5rem}@media (width <= 720px){.main-content{margin-top:4rem}}.h2{font-size:1.5rem;font-weight:500;line-height:2.25rem}@media (width <= 720px){.h2{font-size:1.25rem;line-height:1.5rem}}#challenge-error-text{background-image:url(data:image/svg+xml;base64,PHN2ZyB4bWxucz0iaHR0cDovL3d3dy53My5vcmcvMjAwMC9zdmciIHdpZHRoPSIzMiIgaGVpZ2h0PSIzMiIgZmlsbD0ibm9uZSI+PHBhdGggZmlsbD0iI0IyMEYwMyIgZD0iTTE2IDNhMTMgMTMgMCAxIDAgMTMgMTNBMTMuMDE1IDEzLjAxNSAwIDAgMCAxNiAzbTAgMjRhMTEgMTEgMCAxIDEgMTEtMTEgMTEuMDEgMTEuMDEgMCAwIDEtMTEgMTEiLz48cGF0aCBmaWxsPSIjQjIwRjAzIiBkPSJNMTcuMDM4IDE4LjYxNUgxNC44N0wxNC41NjMgOS41aDIuNzgzem0tMS4wODQgMS40MjdxLjY2IDAgMS4wNTcuMzg4LjQwNy4zODkuNDA3Ljk5NCAwIC41OTYtLjQwNy45ODQtLjM5Ny4zOS0xLjA1Ny4zODktLjY1IDAtMS4wNTYtLjM4OS0uMzk4LS4zODktLjM5OC0uOTg0IDAtLjU5Ny4zOTgtLjk4NS40MDYtLjM5NyAxLjA1Ni0uMzk3Ii8+PC9zdmc+);background-repeat:no-repeat;background-size:contain;padding-left:34px}@media (prefers-color-scheme:dark){body{background-color:#222;color:#d9d9d9}}</style><meta content=\"360\" http-equiv=\"refresh\"/></head><body class=\"no-js\"><div class=\"main-wrapper\" role=\"main\"><div class=\"main-content\"><noscript><div class=\"h2\"><span id=\"challenge-error-text\">Enable JavaScript and cookies to continue</span></div></noscript></div></div><script>(function(){window._cf_chl_opt={cvId: '3',cZone: \"fbref.com\",cType: 'managed',cRay: '93118a935bea8d30',cH: 'XlfpM2OK5j4FGrMsRBRCmXc7M78zt4tpvm36w4yug1M-1744784054-1.2.1.1-YPnxTxNhatu6ij5FAzW1fJMDmfCDdpSXRRbr5.58V0FwijL8qLo8F1Gsb1HnREB3',cUPMDTk: \"\\/en\\/comps\\/9\\/2022-2023\\/2022-2023-Premier-League-Stats?__cf_chl_tk=qMigch_bySHeb3xRWsuAHMHFkzgTgbVIsX5Txpfzzd8-1744784054-1.0.1.1-17rc8dPO.wKvlEwv9d1Ssfssk_WoPL0yviT7wvJcQRc\",cFPWv: 'b',cITimeS: '1744784054',cTplC: 0,cTplV: 5,cTplB: 'cf',cK: \"unsupported_browser_beacon\",fa: \"\\/en\\/comps\\/9\\/2022-2023\\/2022-2023-Premier-League-Stats?__cf_chl_f_tk=qMigch_bySHeb3xRWsuAHMHFkzgTgbVIsX5Txpfzzd8-1744784054-1.0.1.1-17rc8dPO.wKvlEwv9d1Ssfssk_WoPL0yviT7wvJcQRc\",md: \"kxGG6loojMxF92e1Mk4jifxfDy.KtQC914w9Up4_P_Y-1744784054-1.2.1.1-RxN6OZTfrPGK512k26OXNPE0TrAcao3wkQrXlAV20qm9oFsQNJ.meQxWOBQSGkGOhOe_wj_gwpKvSVe3U9Gc1t.33u.5PYZml67lSebYUODnmud3cePXZPgL3s7Afa8WQtdym.cFR46MzJfQH5xmH2B9ZPLuHX39hJpGnKGyZkUoii3L8E3hlYAEl2Y9Jwf7TRQ8PbhXS.DquATuzj1O8e6S1STpTTox2oLVhmTHxHHkGJ05AEo9I8.gsl4IF7tPXnbOcStJiYvS17.turm725jMr4rdtUz198NWcxfur.PezvzWGCPUcw1hlmUXNTU6lrDmoP5qgRx2fUAORBPp9EP0zF8A65Z72Hb1fUJfkYCre3SNHwFMmBbD4rtn508kTgUT5OOd5.D4Dk4uVbDnReJTaSch5wrUx8gnWFY2ZHfBeRy7lLxeXkWVQPN7l7E2yhs0fgzUVuH6B4HRJRaxD_k14aHrX5pKyIYtCJipl7cX30EFAj.KGIGJhf4hWDoGPxoqyK5veBvV4cKJ3aCAjyTvo0JF.1Wf2t8O6Z2B.GQNGpwt9EJBHQaTRDF03usgo6cIBZqrb8bGMUwbExVevgDrV4XRjMCxpAgnflTNPcp7vK1SPGjhZ1b82oFF_MUEf4.2M41bhpWxd1Wty2hpQS39dtuuUn66ONw26jAX86YzG7GnHf4OALe7KrptWVb6jiv229xD5NI6bPhHGfWeKrHncCAEvA8_QOb3IvJOpiHz.YXn2ukKCTexMCsydXAROn5aWoi5tQRLMSJTypcf0RiClTgIcK4Et03rEFRgppct0WbR.zvKlEz7DCf8fvVvNFWKyk4BpJxdcq1jxF9P.RppJx1MIAflC_aIagnBJVWfsIMTtJVq4UDBlvAfIRb5Euh5r63b8PRkrWBb_cOwc..OTGBDom5NOHAPWpfvt6QyOBtr4j.y70WeR9oz50QJo0SpJ3Nwbj_cquGgrVsrP2Iv5Y3UPUOCXMPejRO2u7YuyROnN1cOWV42T2.vVNR5s6YhRuEtOPPYgBz.KASC5pWxHu9iJHFdhWJXHzzKuirAG5hn.puNZhk1EFRQRO8gCSUfxRtcuhReY.a2c6XGYr3vX57rEyxarQO5cDVMUhFpiYzytkOtaXVwYAdzJGCBH.NZ.l8DhrF8MlT_5AVxm_0XZAlJGyO7o7ieos5ilNI\",mdrd: \"Ywril2IcKFwMwPEzXkm97YcbHTpWSkr7Bg_1l3SBYqo-1744784054-1.2.1.1-PQ129kcmYRII0Hj4jzrJHRwlGk_CvBCWF13C8r6uLxM67jNxXM18VETH8JNaBJPXB17t3cm72vkLMIEusgUH9Ghfev5Ek33PqcEnHDTXjIwEGgOX.21WPOkjsJ4lHkiA3omx7mFE1rSzx74o9dcS1LmCqpTfxE_DE4y8Sz4fmv5CHV2DtzbvoXbdZu1SgiZfBKdwjo2l1TH1pIQ6tGmQJ.m.lb3UJXJMAqEz7P5vDPBorWa8OEYjxq033daiFpO4oyDjvLRss4m1zO.biY_qECdmYw.N7pqQEe6HWNOz.guIQ8l8voogegceIAYHJtYapC7xHTfDM.Ql4VxdJI37ypz28vDdMwd34QBmlXEP9lyHyJlRcn9eZ.sPOgAJoeN2tLVt4C.5pll2nk4Io8Ov3VcEixLFJ4hCw3ugfeN7pKSJlGhWbGluzXIGJjgdkMWunbquOXP2xrvUBAAtXp6YRB38SfpeyalFKa4uq37FLB_POBJz2Io5IBbmhPpDlWJa9RFVqkwAdUnumgoaU4QAm7KX1f2qkpzP55Oy45ghG_0rDlAlaw6EV_KlbI2QPDxXbgCDgYG3BAfHygp.zcPvraMQxUV6zX9b2P7rZ.0HjJDvzBHPuCW8cy.9m_W.O2wg4zy2hK25ZEieWUr3bGXm_vgBImL5p4nU5_KlHzGmwCKBhKLRCS.4kKqRiDY1p0Kw7zXEAjisLsPDw1cAc1ieNjkJ3wAv2uffpQNUxRn9rYoYNtySawxUPCeKO6AF2jHBCcxGnGhxphprgHUeoChWVSMuEJtraJC1oPbzLl5h7d4HIb0lZ2.UouArwob09dPq7X1HATxEx5D2oCBDmzZM92xr3p7ytYNpedCQFm72ZWIgDalt0mSuRTU168V4UD4uhVDLHOP8fUmA.8rVvUZtrgV6FD7ZTwjPvmiRzQn4.K8kQIgIya251qdrhJPgrWZssZdQG_J8AQH6jFyzxNo2Nw7wVZZPLeI1YWwQ3j5ooz6subUzj4lJy7ya3XtrCqYl6RvGdnLMusxwcF9s7aGihgnqBqf0EcE5la6ouk6iABJ6MWNDTZCB0iv43UXesqu.tlEDJUqT1QYKCF.zzRH.6ErAorPS_xqw3VaNeuvtWDd1Ub8dPa8tVqTbFewioDbn.HKQaO6r.wYPzJT7ZzpgaB0WtVjRqwd8oGCRhCRYDipSE.MHIQhrmRK2HfteNmMxxOH8BxMrBZ6O6BtwGCsupvuPf90wmbPSpxtwlk58f9CKRLMJZrNv3fQVV6rj_3dtGJbTCjKpNkaxehkVnvWPdeTwgw8V_jCqH9clcaS0QOh87gJ33_3XxzQrJgEAIlkXvdu4p1.ZB_SWSRyrrLIhVwg6FsdaZ6qIofeu6.LUOw0LH4r0xIBiIn1t7k7SwlZ3UqPmE7lvwDAQ_Cg.ab35Eg.9An7pBSRwf5RhJ3nEaenFNQMM19n8rFkt2vn3TmOzflZaRP8ROU8BA5R66RT4.uoyHBK3CveNDRZYmntSjfzjA.xLr2DMBR4JkRSaw4JDBkqAbY13FVbkJNlU9aU7bqqSBfSD4.8O_.zW83Wglr7eBZcedr_PFUF8Yn2Tp9joqxyyYt6INCe464yTi8qQA6o8gtPsIAYh8Ed3G1i_FUbeeclBM6p7vso9xQiN80z8q.faBjosBs3tMGb7re7FU_U5l67o.aHzpmLYeChze0BJ9pigihCqrEezVNW68a6Px2s0fkY_i38yGv.gFTLLvM8PNwWJx2Lpb4q3e4dXlHqSD6zrNTJdGySeI4SX8WKpnIpNbCBZK88fetpkAiubjXE7jvzuveGqJwerDInePMRni0TD_GqGTdvxIM81OEWlY606qNWBhyWjCqcY1c16uAXsN2y1YRoGjfox3weNevzfPOwAI6_5Y.qVl49_ewG2fJQQxn34LRkF5BtandabT.ZoJ.J5B90KjWonLJhMVOGAnxmaOwdJfwjYamq_XwYQbqOs2h6ZuanKVUX4P0nXAcqaPDM.vfb_3P8Hxti7ZRhGHOZ.fqgv0NHsVupyLqqk7_k4XhrT2csXNCzsxpY8ZxNaz2p5_imkJhff4gCKyU5WscNhdhjVi7gEllrA1lA9DyNPpJegJvYdRJcQgP1R4yEJMaGcieRoN_21JDZvOXlA9Qks.QWts5nVXctudm00MiV4O_ZMJPEBLTm.EsABld7g3_212Is.UfVMmRu6LD6yGyUjx67jDjLcOmLqXIiMfWtm6RdmRj97QZxTrr8_6071lEMN.1JgrU_Ylqj7n7D1vK4CRcvSMEpGN77DTG2h\"};var cpo = document.createElement('script');cpo.src = '/cdn-cgi/challenge-platform/h/b/orchestrate/chl_page/v1?ray=93118a935bea8d30';window._cf_chl_opt.cOgUHash = location.hash === '' && location.href.indexOf('#') !== -1 ? '#' : location.hash;window._cf_chl_opt.cOgUQuery = location.search === '' && location.href.slice(0, location.href.length - window._cf_chl_opt.cOgUHash.length).indexOf('?') !== -1 ? '?' : location.search;if (window.history && window.history.replaceState) {var ogU = location.pathname + window._cf_chl_opt.cOgUQuery + window._cf_chl_opt.cOgUHash;history.replaceState(null, null, \"\\/en\\/comps\\/9\\/2022-2023\\/2022-2023-Premier-League-Stats?__cf_chl_rt_tk=qMigch_bySHeb3xRWsuAHMHFkzgTgbVIsX5Txpfzzd8-1744784054-1.0.1.1-17rc8dPO.wKvlEwv9d1Ssfssk_WoPL0yviT7wvJcQRc\" + window._cf_chl_opt.cOgUHash);cpo.onload = function() {history.replaceState(null, null, ogU);}}document.getElementsByTagName('head')[0].appendChild(cpo);}());</script></body></html>"
      ]
     },
     "execution_count": 12,
     "metadata": {},
     "output_type": "execute_result"
    }
   ],
   "source": [
    "soup"
   ]
  },
  {
   "cell_type": "code",
   "execution_count": 13,
   "id": "6f2d12dd",
   "metadata": {},
   "outputs": [],
   "source": [
    "# Important links \n",
    "Imp_links = soup.find_all(\"ul\",{'class':'hoversmooth'})\n",
    "l = 'https://fbref.com'"
   ]
  },
  {
   "cell_type": "code",
   "execution_count": 14,
   "id": "4033bbc3",
   "metadata": {},
   "outputs": [
    {
     "ename": "IndexError",
     "evalue": "list index out of range",
     "output_type": "error",
     "traceback": [
      "\u001b[1;31m---------------------------------------------------------------------------\u001b[0m",
      "\u001b[1;31mIndexError\u001b[0m                                Traceback (most recent call last)",
      "Cell \u001b[1;32mIn[14], line 1\u001b[0m\n\u001b[1;32m----> 1\u001b[0m Imp_links[\u001b[38;5;241m1\u001b[39m]\n",
      "\u001b[1;31mIndexError\u001b[0m: list index out of range"
     ]
    }
   ],
   "source": [
    "Imp_links[1]"
   ]
  },
  {
   "cell_type": "code",
   "execution_count": null,
   "id": "862b90dd",
   "metadata": {},
   "outputs": [],
   "source": [
    "link_list = {}"
   ]
  },
  {
   "cell_type": "code",
   "execution_count": 13,
   "id": "9c91d426",
   "metadata": {},
   "outputs": [
    {
     "ename": "IndexError",
     "evalue": "list index out of range",
     "output_type": "error",
     "traceback": [
      "\u001b[1;31m---------------------------------------------------------------------------\u001b[0m",
      "\u001b[1;31mIndexError\u001b[0m                                Traceback (most recent call last)",
      "Cell \u001b[1;32mIn[13], line 2\u001b[0m\n\u001b[0;32m      1\u001b[0m page_title \u001b[38;5;241m=\u001b[39m []\n\u001b[1;32m----> 2\u001b[0m \u001b[38;5;28;01mfor\u001b[39;00m j \u001b[38;5;129;01min\u001b[39;00m content_to_list(Imp_links[\u001b[38;5;241m1\u001b[39m]\u001b[38;5;241m.\u001b[39mfind(\u001b[38;5;124m'\u001b[39m\u001b[38;5;124mul\u001b[39m\u001b[38;5;124m'\u001b[39m,{\u001b[38;5;124m'\u001b[39m\u001b[38;5;124mclass\u001b[39m\u001b[38;5;124m'\u001b[39m : \u001b[38;5;124m\"\u001b[39m\u001b[38;5;124m\"\u001b[39m})\u001b[38;5;241m.\u001b[39mcontents):\n\u001b[0;32m      3\u001b[0m     type_ \u001b[38;5;241m=\u001b[39m j\u001b[38;5;241m.\u001b[39ma[\u001b[38;5;124m'\u001b[39m\u001b[38;5;124mhref\u001b[39m\u001b[38;5;124m'\u001b[39m]\u001b[38;5;241m.\u001b[39msplit(\u001b[38;5;124m\"\u001b[39m\u001b[38;5;124m1-\u001b[39m\u001b[38;5;124m\"\u001b[39m)[\u001b[38;5;241m-\u001b[39m\u001b[38;5;241m2\u001b[39m]\u001b[38;5;241m.\u001b[39msplit(\u001b[38;5;124m\"\u001b[39m\u001b[38;5;124m/\u001b[39m\u001b[38;5;124m\"\u001b[39m)[\u001b[38;5;241m-\u001b[39m\u001b[38;5;241m2\u001b[39m]\n\u001b[0;32m      4\u001b[0m     u \u001b[38;5;241m=\u001b[39mj\u001b[38;5;241m.\u001b[39ma[\u001b[38;5;124m'\u001b[39m\u001b[38;5;124mhref\u001b[39m\u001b[38;5;124m'\u001b[39m]\u001b[38;5;241m.\u001b[39msplit(\u001b[38;5;124m\"\u001b[39m\u001b[38;5;124m1-\u001b[39m\u001b[38;5;124m\"\u001b[39m)[\u001b[38;5;241m-\u001b[39m\u001b[38;5;241m1\u001b[39m]\n",
      "\u001b[1;31mIndexError\u001b[0m: list index out of range"
     ]
    }
   ],
   "source": [
    "page_title = []\n",
    "for j in content_to_list(Imp_links[1].find('ul',{'class' : \"\"}).contents):\n",
    "    type_ = j.a['href'].split(\"1-\")[-2].split(\"/\")[-2]\n",
    "    u =j.a['href'].split(\"1-\")[-1]\n",
    "    page_ti = f\"{type_}-{u}\"\n",
    "    link_dic[page_ti] = f\"{l}{j.a['href']}\"\n",
    "    page_title.append(page_ti)\n",
    "#     print(f\"{l}{j.a['href']}\")   \n",
    "for i in content_to_list(Imp_links[1].section.contents):\n",
    "    u_ =i.a['href'].split(\"1-\")[-1]\n",
    "    page_ti_ = f\"{u_}\"\n",
    "    link_dic[page_ti_] = f\"{l}{i.a['href']}\"\n",
    "    page_title.append(page_ti_)\n",
    "#     print(f\"{l}{i.a['href']}\")"
   ]
  },
  {
   "cell_type": "code",
   "execution_count": 157,
   "id": "797b2555",
   "metadata": {
    "scrolled": true
   },
   "outputs": [
    {
     "name": "stdout",
     "output_type": "stream",
     "text": [
      "https://fbref.com/en/comps/9/2020-2021/stats/2020-2021-Premier-League-Stats\n",
      "https://fbref.com/en/comps/9/2020-2021/keepers/2020-2021-Premier-League-Stats\n",
      "https://fbref.com/en/comps/9/2020-2021/keepersadv/2020-2021-Premier-League-Stats\n",
      "https://fbref.com/en/comps/9/2020-2021/shooting/2020-2021-Premier-League-Stats\n",
      "https://fbref.com/en/comps/9/2020-2021/passing/2020-2021-Premier-League-Stats\n",
      "https://fbref.com/en/comps/9/2020-2021/passing_types/2020-2021-Premier-League-Stats\n",
      "https://fbref.com/en/comps/9/2020-2021/gca/2020-2021-Premier-League-Stats\n",
      "https://fbref.com/en/comps/9/2020-2021/defense/2020-2021-Premier-League-Stats\n",
      "https://fbref.com/en/comps/9/2020-2021/possession/2020-2021-Premier-League-Stats\n",
      "https://fbref.com/en/comps/9/2020-2021/playingtime/2020-2021-Premier-League-Stats\n",
      "https://fbref.com/en/comps/9/2020-2021/misc/2020-2021-Premier-League-Stats\n",
      "https://fbref.com/en/comps/9/2020-2021/2020-2021-Premier-League-Stats\n",
      "https://fbref.com/en/comps/9/2020-2021/schedule/2020-2021-Premier-League-Scores-and-Fixtures\n",
      "https://fbref.com/en/comps/9/2020-2021/nations/2020-2021-Premier-League-Nationalities\n",
      "https://fbref.com/en/comps/9/2020-2021/wages/2020-2021-Premier-League-Wages\n",
      "https://fbref.com-/en/comps/9/2019-2020/2019-2020-Premier-League-Stats\n",
      "https://fbref.com-/en/comps/9/2021-2022/2021-2022-Premier-League-Stats\n"
     ]
    }
   ],
   "source": [
    "for k in link_dic.keys():\n",
    "    print(link_dic[k])"
   ]
  },
  {
   "cell_type": "code",
   "execution_count": 158,
   "id": "59acc2f9",
   "metadata": {},
   "outputs": [
    {
     "data": {
      "text/plain": [
       "{'stats-Premier-League-Stats': 'https://fbref.com/en/comps/9/2020-2021/stats/2020-2021-Premier-League-Stats',\n",
       " 'keepers-Premier-League-Stats': 'https://fbref.com/en/comps/9/2020-2021/keepers/2020-2021-Premier-League-Stats',\n",
       " 'keepersadv-Premier-League-Stats': 'https://fbref.com/en/comps/9/2020-2021/keepersadv/2020-2021-Premier-League-Stats',\n",
       " 'shooting-Premier-League-Stats': 'https://fbref.com/en/comps/9/2020-2021/shooting/2020-2021-Premier-League-Stats',\n",
       " 'passing-Premier-League-Stats': 'https://fbref.com/en/comps/9/2020-2021/passing/2020-2021-Premier-League-Stats',\n",
       " 'passing_types-Premier-League-Stats': 'https://fbref.com/en/comps/9/2020-2021/passing_types/2020-2021-Premier-League-Stats',\n",
       " 'gca-Premier-League-Stats': 'https://fbref.com/en/comps/9/2020-2021/gca/2020-2021-Premier-League-Stats',\n",
       " 'defense-Premier-League-Stats': 'https://fbref.com/en/comps/9/2020-2021/defense/2020-2021-Premier-League-Stats',\n",
       " 'possession-Premier-League-Stats': 'https://fbref.com/en/comps/9/2020-2021/possession/2020-2021-Premier-League-Stats',\n",
       " 'playingtime-Premier-League-Stats': 'https://fbref.com/en/comps/9/2020-2021/playingtime/2020-2021-Premier-League-Stats',\n",
       " 'misc-Premier-League-Stats': 'https://fbref.com/en/comps/9/2020-2021/misc/2020-2021-Premier-League-Stats',\n",
       " 'Premier-League-Stats': 'https://fbref.com/en/comps/9/2020-2021/2020-2021-Premier-League-Stats',\n",
       " 'Premier-League-Scores-and-Fixtures': 'https://fbref.com/en/comps/9/2020-2021/schedule/2020-2021-Premier-League-Scores-and-Fixtures',\n",
       " 'Premier-League-Nationalities': 'https://fbref.com/en/comps/9/2020-2021/nations/2020-2021-Premier-League-Nationalities',\n",
       " 'Premier-League-Wages': 'https://fbref.com/en/comps/9/2020-2021/wages/2020-2021-Premier-League-Wages',\n",
       " 'Previous Season': 'https://fbref.com-/en/comps/9/2019-2020/2019-2020-Premier-League-Stats',\n",
       " 'Next Season': 'https://fbref.com-/en/comps/9/2021-2022/2021-2022-Premier-League-Stats'}"
      ]
     },
     "execution_count": 158,
     "metadata": {},
     "output_type": "execute_result"
    }
   ],
   "source": [
    "link_dic"
   ]
  },
  {
   "cell_type": "markdown",
   "id": "f88af011",
   "metadata": {},
   "source": [
    "### Getting tags for previous and Next season."
   ]
  },
  {
   "cell_type": "code",
   "execution_count": 22,
   "id": "60909b6c",
   "metadata": {},
   "outputs": [],
   "source": [
    "# mydivs = soup.find_all(\"div\", {\"class\": \"stylelistrow\"})\n",
    "info = soup.find_all(\"div\",{\"class\": \"prevnext\"})"
   ]
  },
  {
   "cell_type": "code",
   "execution_count": 23,
   "id": "e7e7a4ec-e17c-4d16-9b1c-531ee4e82a30",
   "metadata": {},
   "outputs": [
    {
     "data": {
      "text/plain": [
       "[]"
      ]
     },
     "execution_count": 23,
     "metadata": {},
     "output_type": "execute_result"
    }
   ],
   "source": []
  },
  {
   "cell_type": "code",
   "execution_count": 15,
   "id": "48dbf02a",
   "metadata": {},
   "outputs": [
    {
     "ename": "IndexError",
     "evalue": "list index out of range",
     "output_type": "error",
     "traceback": [
      "\u001b[1;31m---------------------------------------------------------------------------\u001b[0m",
      "\u001b[1;31mIndexError\u001b[0m                                Traceback (most recent call last)",
      "Cell \u001b[1;32mIn[15], line 1\u001b[0m\n\u001b[1;32m----> 1\u001b[0m \u001b[38;5;28;01mfor\u001b[39;00m i \u001b[38;5;129;01min\u001b[39;00m content_to_list(info[\u001b[38;5;241m0\u001b[39m]\u001b[38;5;241m.\u001b[39mcontents):\n\u001b[0;32m      2\u001b[0m     link \u001b[38;5;241m=\u001b[39m \u001b[38;5;124mf\u001b[39m\u001b[38;5;124m\"\u001b[39m\u001b[38;5;132;01m{\u001b[39;00ml\u001b[38;5;132;01m}\u001b[39;00m\u001b[38;5;124m-\u001b[39m\u001b[38;5;132;01m{\u001b[39;00mi[\u001b[38;5;124m'\u001b[39m\u001b[38;5;124mhref\u001b[39m\u001b[38;5;124m'\u001b[39m]\u001b[38;5;132;01m}\u001b[39;00m\u001b[38;5;124m\"\u001b[39m\n\u001b[0;32m      3\u001b[0m     link_key \u001b[38;5;241m=\u001b[39m i\u001b[38;5;241m.\u001b[39mtext\n",
      "\u001b[1;31mIndexError\u001b[0m: list index out of range"
     ]
    }
   ],
   "source": [
    "for i in content_to_list(info[0].contents):\n",
    "    link = f\"{l}-{i['href']}\"\n",
    "    link_key = i.text\n",
    "    link_dic[link_key] = link\n",
    "    print(link_key)\n",
    "    print(link)"
   ]
  },
  {
   "cell_type": "code",
   "execution_count": 161,
   "id": "10166970",
   "metadata": {},
   "outputs": [
    {
     "data": {
      "text/plain": [
       "{'stats-Premier-League-Stats': 'https://fbref.com/en/comps/9/2020-2021/stats/2020-2021-Premier-League-Stats',\n",
       " 'keepers-Premier-League-Stats': 'https://fbref.com/en/comps/9/2020-2021/keepers/2020-2021-Premier-League-Stats',\n",
       " 'keepersadv-Premier-League-Stats': 'https://fbref.com/en/comps/9/2020-2021/keepersadv/2020-2021-Premier-League-Stats',\n",
       " 'shooting-Premier-League-Stats': 'https://fbref.com/en/comps/9/2020-2021/shooting/2020-2021-Premier-League-Stats',\n",
       " 'passing-Premier-League-Stats': 'https://fbref.com/en/comps/9/2020-2021/passing/2020-2021-Premier-League-Stats',\n",
       " 'passing_types-Premier-League-Stats': 'https://fbref.com/en/comps/9/2020-2021/passing_types/2020-2021-Premier-League-Stats',\n",
       " 'gca-Premier-League-Stats': 'https://fbref.com/en/comps/9/2020-2021/gca/2020-2021-Premier-League-Stats',\n",
       " 'defense-Premier-League-Stats': 'https://fbref.com/en/comps/9/2020-2021/defense/2020-2021-Premier-League-Stats',\n",
       " 'possession-Premier-League-Stats': 'https://fbref.com/en/comps/9/2020-2021/possession/2020-2021-Premier-League-Stats',\n",
       " 'playingtime-Premier-League-Stats': 'https://fbref.com/en/comps/9/2020-2021/playingtime/2020-2021-Premier-League-Stats',\n",
       " 'misc-Premier-League-Stats': 'https://fbref.com/en/comps/9/2020-2021/misc/2020-2021-Premier-League-Stats',\n",
       " 'Premier-League-Stats': 'https://fbref.com/en/comps/9/2020-2021/2020-2021-Premier-League-Stats',\n",
       " 'Premier-League-Scores-and-Fixtures': 'https://fbref.com/en/comps/9/2020-2021/schedule/2020-2021-Premier-League-Scores-and-Fixtures',\n",
       " 'Premier-League-Nationalities': 'https://fbref.com/en/comps/9/2020-2021/nations/2020-2021-Premier-League-Nationalities',\n",
       " 'Premier-League-Wages': 'https://fbref.com/en/comps/9/2020-2021/wages/2020-2021-Premier-League-Wages',\n",
       " 'Previous Season': 'https://fbref.com-/en/comps/9/2019-2020/2019-2020-Premier-League-Stats',\n",
       " 'Next Season': 'https://fbref.com-/en/comps/9/2021-2022/2021-2022-Premier-League-Stats'}"
      ]
     },
     "execution_count": 161,
     "metadata": {},
     "output_type": "execute_result"
    }
   ],
   "source": [
    "link_dic"
   ]
  },
  {
   "cell_type": "markdown",
   "id": "df33ddc8",
   "metadata": {},
   "source": [
    "#### Find the table tags from web page"
   ]
  },
  {
   "cell_type": "code",
   "execution_count": 24,
   "id": "00957f25",
   "metadata": {},
   "outputs": [],
   "source": [
    "table_tags = soup.find('table')"
   ]
  },
  {
   "cell_type": "code",
   "execution_count": null,
   "id": "0ab30797",
   "metadata": {},
   "outputs": [],
   "source": []
  },
  {
   "cell_type": "markdown",
   "id": "829774a5",
   "metadata": {},
   "source": [
    "#### Table head tags "
   ]
  },
  {
   "cell_type": "code",
   "execution_count": 20,
   "id": "ed213e49",
   "metadata": {},
   "outputs": [],
   "source": [
    "table_tags"
   ]
  },
  {
   "cell_type": "code",
   "execution_count": null,
   "id": "eecc60ae",
   "metadata": {},
   "outputs": [],
   "source": []
  },
  {
   "cell_type": "markdown",
   "id": "e33d47d5",
   "metadata": {},
   "source": [
    "#### Table body tags "
   ]
  },
  {
   "cell_type": "code",
   "execution_count": 18,
   "id": "bd850b00",
   "metadata": {},
   "outputs": [
    {
     "ename": "AttributeError",
     "evalue": "'NoneType' object has no attribute 'tbody'",
     "output_type": "error",
     "traceback": [
      "\u001b[1;31m---------------------------------------------------------------------------\u001b[0m",
      "\u001b[1;31mAttributeError\u001b[0m                            Traceback (most recent call last)",
      "Cell \u001b[1;32mIn[18], line 1\u001b[0m\n\u001b[1;32m----> 1\u001b[0m body_tags \u001b[38;5;241m=\u001b[39m table_tags\u001b[38;5;241m.\u001b[39mtbody\n",
      "\u001b[1;31mAttributeError\u001b[0m: 'NoneType' object has no attribute 'tbody'"
     ]
    }
   ],
   "source": [
    "body_tags = table_tags.tbody"
   ]
  },
  {
   "cell_type": "code",
   "execution_count": 19,
   "id": "12deba66",
   "metadata": {},
   "outputs": [
    {
     "data": {
      "text/plain": [
       "[<tr> <th aria-label=\"Rank\" class=\"poptip sort_default_asc center\" data-stat=\"rank\" data-tip=\"&lt;strong&gt;Rank&lt;/strong&gt;&lt;br&gt;Squad finish in competition&lt;br&gt;Finish within the league or competition.&lt;br&gt;For knockout competitions may show final round reached.&lt;br&gt;Colors and arrows represent promotion/relegation or qualifiation for continental cups.&lt;br&gt;Trophy indicates team won league whether by playoffs or by leading the table.&lt;br&gt;Star indicates topped table in league USING another means of naming champion.\" scope=\"col\">Rk</th> <th aria-label=\"Squad\" class=\"poptip sort_default_asc center\" data-stat=\"team\" scope=\"col\">Squad</th> <th aria-label=\"Matches Played\" class=\"poptip center\" data-stat=\"games\" data-tip=\"&lt;strong&gt;Matches Played&lt;/strong&gt;&lt;br&gt;Matches Played by the player or squad\" scope=\"col\">MP</th> <th aria-label=\"Wins\" class=\"poptip center\" data-stat=\"wins\" data-tip=\"&lt;strong&gt;Wins&lt;/strong&gt;&lt;br&gt;Wins\" scope=\"col\">W</th> <th aria-label=\"Draws\" class=\"poptip center\" data-stat=\"ties\" data-tip=\"&lt;strong&gt;Draws&lt;/strong&gt;&lt;br&gt;Draws\" scope=\"col\">D</th> <th aria-label=\"Losses\" class=\"poptip center\" data-stat=\"losses\" data-tip=\"&lt;strong&gt;Losses&lt;/strong&gt;&lt;br&gt;Losses\" scope=\"col\">L</th> <th aria-label=\"Goals For\" class=\"poptip center\" data-stat=\"goals_for\" data-tip=\"&lt;strong&gt;Goals For&lt;/strong&gt;&lt;br&gt;Goals For\" scope=\"col\">GF</th> <th aria-label=\"Goals Against\" class=\"poptip center\" data-stat=\"goals_against\" data-tip=\"&lt;strong&gt;Goals Against&lt;/strong&gt;&lt;br&gt;Goals Against\" scope=\"col\">GA</th> <th aria-label=\"Goal Difference\" class=\"poptip center\" data-stat=\"goal_diff\" data-tip=\"&lt;strong&gt;Goal Difference&lt;/strong&gt;&lt;br&gt;Goal Difference\" scope=\"col\">GD</th> <th aria-label=\"Points\" class=\"poptip center\" data-stat=\"points\" data-tip=\"&lt;strong&gt;Points&lt;/strong&gt;&lt;br&gt;Most leagues are ordered by points.&lt;br&gt;Three for a win and one for a draw.\" scope=\"col\">Pts</th> <th aria-label=\"Points/Game\" class=\"poptip center\" data-stat=\"points_avg\" data-tip=\"&lt;strong&gt;Points/Game&lt;/strong&gt;&lt;br&gt;Points per Match Played\" scope=\"col\">Pts/MP</th> <th aria-label=\"xG\" class=\"poptip center\" data-filter=\"1\" data-name=\"xG\" data-stat=\"xg_for\" data-tip=\"&lt;strong&gt;Expected Goals&lt;/strong&gt;&lt;br&gt;xG totals include penalty kicks, but do not include penalty shootouts (unless otherwise noted).&lt;br&gt;Provided by Opta.&lt;br&gt;An underline indicates there is a match that is missing data, but will be updated when available.\" scope=\"col\">xG</th> <th aria-label=\"xG Allowed\" class=\"poptip sort_default_asc center\" data-stat=\"xg_against\" data-tip=\"&lt;strong&gt;xG Allowed&lt;/strong&gt;&lt;br&gt;&lt;strong&gt;Expected Goals Allowed&lt;/strong&gt;&lt;br&gt;xG totals include penalty kicks, but do not include penalty shootouts (unless otherwise noted).&lt;br&gt;Provided by Opta.&lt;br&gt;An underline indicates there is a match that is missing data, but will be updated when available.\" scope=\"col\">xGA</th> <th aria-label=\"xG Difference\" class=\"poptip center\" data-filter=\"1\" data-name=\"xG Difference\" data-stat=\"xg_diff\" data-tip=\"&lt;strong&gt;xG Difference&lt;/strong&gt;&lt;br&gt;&lt;strong&gt;Expected Goals Difference&lt;/strong&gt;&lt;br&gt;xG totals include penalty kicks, but do not include penalty shootouts (unless otherwise noted).&lt;br&gt;Provided by Opta.&lt;br&gt;An underline indicates there is a match that is missing data, but will be updated when available.\" scope=\"col\">xGD</th> <th aria-label=\"xG Difference/90\" class=\"poptip hide_non_quals center\" data-stat=\"xg_diff_per90\" data-tip=\"&lt;strong&gt;xG Difference/90&lt;/strong&gt;&lt;br&gt;&lt;strong&gt;Expected Goals Difference per 90 Minutes&lt;/strong&gt;&lt;br&gt;xG totals include penalty kicks, but do not include penalty shootouts (unless otherwise noted).&lt;br&gt;Provided by Opta.&lt;br&gt;An underline indicates there is a match that is missing data, but will be updated when available.\" scope=\"col\">xGD/90</th> <th aria-label=\"Attendance/Game\" class=\"poptip center\" data-stat=\"attendance_per_g\" data-tip=\"&lt;strong&gt;Attendance/Game&lt;/strong&gt;&lt;br&gt;Attendance per game during this season, only for home matches\" scope=\"col\">Attendance</th> <th aria-label=\"Top Team Scorer\" class=\"poptip center\" data-stat=\"top_team_scorers\" data-tip=\"Only includes league matches for that season\" scope=\"col\">Top Team Scorer</th> <th aria-label=\"Goalkeeper\" class=\"poptip center\" data-stat=\"top_keeper\" data-tip=\"Goalkeeper with the most minutes in league play\" scope=\"col\">Goalkeeper</th> <th aria-label=\"Notes\" class=\"poptip center\" data-stat=\"notes\" scope=\"col\">Notes</th> </tr>]"
      ]
     },
     "execution_count": 19,
     "metadata": {},
     "output_type": "execute_result"
    }
   ],
   "source": [
    "content_to_list(table_tags.thead.contents)"
   ]
  },
  {
   "cell_type": "code",
   "execution_count": 20,
   "id": "220000f3",
   "metadata": {},
   "outputs": [],
   "source": [
    "table_header_tags = content_to_list(table_tags.thead.contents)"
   ]
  },
  {
   "cell_type": "code",
   "execution_count": 21,
   "id": "dfa7ed33",
   "metadata": {},
   "outputs": [
    {
     "data": {
      "text/plain": [
       "[<tr> <th aria-label=\"Rank\" class=\"poptip sort_default_asc center\" data-stat=\"rank\" data-tip=\"&lt;strong&gt;Rank&lt;/strong&gt;&lt;br&gt;Squad finish in competition&lt;br&gt;Finish within the league or competition.&lt;br&gt;For knockout competitions may show final round reached.&lt;br&gt;Colors and arrows represent promotion/relegation or qualifiation for continental cups.&lt;br&gt;Trophy indicates team won league whether by playoffs or by leading the table.&lt;br&gt;Star indicates topped table in league USING another means of naming champion.\" scope=\"col\">Rk</th> <th aria-label=\"Squad\" class=\"poptip sort_default_asc center\" data-stat=\"team\" scope=\"col\">Squad</th> <th aria-label=\"Matches Played\" class=\"poptip center\" data-stat=\"games\" data-tip=\"&lt;strong&gt;Matches Played&lt;/strong&gt;&lt;br&gt;Matches Played by the player or squad\" scope=\"col\">MP</th> <th aria-label=\"Wins\" class=\"poptip center\" data-stat=\"wins\" data-tip=\"&lt;strong&gt;Wins&lt;/strong&gt;&lt;br&gt;Wins\" scope=\"col\">W</th> <th aria-label=\"Draws\" class=\"poptip center\" data-stat=\"ties\" data-tip=\"&lt;strong&gt;Draws&lt;/strong&gt;&lt;br&gt;Draws\" scope=\"col\">D</th> <th aria-label=\"Losses\" class=\"poptip center\" data-stat=\"losses\" data-tip=\"&lt;strong&gt;Losses&lt;/strong&gt;&lt;br&gt;Losses\" scope=\"col\">L</th> <th aria-label=\"Goals For\" class=\"poptip center\" data-stat=\"goals_for\" data-tip=\"&lt;strong&gt;Goals For&lt;/strong&gt;&lt;br&gt;Goals For\" scope=\"col\">GF</th> <th aria-label=\"Goals Against\" class=\"poptip center\" data-stat=\"goals_against\" data-tip=\"&lt;strong&gt;Goals Against&lt;/strong&gt;&lt;br&gt;Goals Against\" scope=\"col\">GA</th> <th aria-label=\"Goal Difference\" class=\"poptip center\" data-stat=\"goal_diff\" data-tip=\"&lt;strong&gt;Goal Difference&lt;/strong&gt;&lt;br&gt;Goal Difference\" scope=\"col\">GD</th> <th aria-label=\"Points\" class=\"poptip center\" data-stat=\"points\" data-tip=\"&lt;strong&gt;Points&lt;/strong&gt;&lt;br&gt;Most leagues are ordered by points.&lt;br&gt;Three for a win and one for a draw.\" scope=\"col\">Pts</th> <th aria-label=\"Points/Game\" class=\"poptip center\" data-stat=\"points_avg\" data-tip=\"&lt;strong&gt;Points/Game&lt;/strong&gt;&lt;br&gt;Points per Match Played\" scope=\"col\">Pts/MP</th> <th aria-label=\"xG\" class=\"poptip center\" data-filter=\"1\" data-name=\"xG\" data-stat=\"xg_for\" data-tip=\"&lt;strong&gt;Expected Goals&lt;/strong&gt;&lt;br&gt;xG totals include penalty kicks, but do not include penalty shootouts (unless otherwise noted).&lt;br&gt;Provided by Opta.&lt;br&gt;An underline indicates there is a match that is missing data, but will be updated when available.\" scope=\"col\">xG</th> <th aria-label=\"xG Allowed\" class=\"poptip sort_default_asc center\" data-stat=\"xg_against\" data-tip=\"&lt;strong&gt;xG Allowed&lt;/strong&gt;&lt;br&gt;&lt;strong&gt;Expected Goals Allowed&lt;/strong&gt;&lt;br&gt;xG totals include penalty kicks, but do not include penalty shootouts (unless otherwise noted).&lt;br&gt;Provided by Opta.&lt;br&gt;An underline indicates there is a match that is missing data, but will be updated when available.\" scope=\"col\">xGA</th> <th aria-label=\"xG Difference\" class=\"poptip center\" data-filter=\"1\" data-name=\"xG Difference\" data-stat=\"xg_diff\" data-tip=\"&lt;strong&gt;xG Difference&lt;/strong&gt;&lt;br&gt;&lt;strong&gt;Expected Goals Difference&lt;/strong&gt;&lt;br&gt;xG totals include penalty kicks, but do not include penalty shootouts (unless otherwise noted).&lt;br&gt;Provided by Opta.&lt;br&gt;An underline indicates there is a match that is missing data, but will be updated when available.\" scope=\"col\">xGD</th> <th aria-label=\"xG Difference/90\" class=\"poptip hide_non_quals center\" data-stat=\"xg_diff_per90\" data-tip=\"&lt;strong&gt;xG Difference/90&lt;/strong&gt;&lt;br&gt;&lt;strong&gt;Expected Goals Difference per 90 Minutes&lt;/strong&gt;&lt;br&gt;xG totals include penalty kicks, but do not include penalty shootouts (unless otherwise noted).&lt;br&gt;Provided by Opta.&lt;br&gt;An underline indicates there is a match that is missing data, but will be updated when available.\" scope=\"col\">xGD/90</th> <th aria-label=\"Attendance/Game\" class=\"poptip center\" data-stat=\"attendance_per_g\" data-tip=\"&lt;strong&gt;Attendance/Game&lt;/strong&gt;&lt;br&gt;Attendance per game during this season, only for home matches\" scope=\"col\">Attendance</th> <th aria-label=\"Top Team Scorer\" class=\"poptip center\" data-stat=\"top_team_scorers\" data-tip=\"Only includes league matches for that season\" scope=\"col\">Top Team Scorer</th> <th aria-label=\"Goalkeeper\" class=\"poptip center\" data-stat=\"top_keeper\" data-tip=\"Goalkeeper with the most minutes in league play\" scope=\"col\">Goalkeeper</th> <th aria-label=\"Notes\" class=\"poptip center\" data-stat=\"notes\" scope=\"col\">Notes</th> </tr>]"
      ]
     },
     "execution_count": 21,
     "metadata": {},
     "output_type": "execute_result"
    }
   ],
   "source": [
    "table_header_tags"
   ]
  },
  {
   "cell_type": "markdown",
   "id": "89ce0915",
   "metadata": {},
   "source": [
    "#### Creating a list containing the table headers"
   ]
  },
  {
   "cell_type": "code",
   "execution_count": 22,
   "id": "7fe4877e",
   "metadata": {},
   "outputs": [],
   "source": [
    "table_header_tags = table_header_tags[0]"
   ]
  },
  {
   "cell_type": "code",
   "execution_count": 23,
   "id": "d4d92fbc",
   "metadata": {},
   "outputs": [],
   "source": [
    "table_header_tags = content_to_list(table_header_tags.contents)"
   ]
  },
  {
   "cell_type": "code",
   "execution_count": 24,
   "id": "2654713f",
   "metadata": {},
   "outputs": [],
   "source": [
    "list_of_table_header = []\n",
    "for i in table_header_tags:\n",
    "    list_of_table_header.append(i.text)"
   ]
  },
  {
   "cell_type": "code",
   "execution_count": 25,
   "id": "35ea3223",
   "metadata": {},
   "outputs": [
    {
     "data": {
      "text/plain": [
       "['Rk',\n",
       " 'Squad',\n",
       " 'MP',\n",
       " 'W',\n",
       " 'D',\n",
       " 'L',\n",
       " 'GF',\n",
       " 'GA',\n",
       " 'GD',\n",
       " 'Pts',\n",
       " 'Pts/MP',\n",
       " 'xG',\n",
       " 'xGA',\n",
       " 'xGD',\n",
       " 'xGD/90',\n",
       " 'Attendance',\n",
       " 'Top Team Scorer',\n",
       " 'Goalkeeper',\n",
       " 'Notes']"
      ]
     },
     "execution_count": 25,
     "metadata": {},
     "output_type": "execute_result"
    }
   ],
   "source": [
    "list_of_table_header"
   ]
  },
  {
   "cell_type": "markdown",
   "id": "b0aafc02",
   "metadata": {},
   "source": [
    "#### Creating a list of content of table body"
   ]
  },
  {
   "cell_type": "code",
   "execution_count": 26,
   "id": "b4583b67",
   "metadata": {},
   "outputs": [],
   "source": [
    "table_body_tags = content_to_list(table_tags.tbody.contents)"
   ]
  },
  {
   "cell_type": "markdown",
   "id": "dd3a7e1b",
   "metadata": {},
   "source": [
    "#### Creating a dictionary of table "
   ]
  },
  {
   "cell_type": "code",
   "execution_count": 27,
   "id": "93b93bf9",
   "metadata": {},
   "outputs": [],
   "source": [
    "header_dictionary = create_dictionary(list_of_table_header)"
   ]
  },
  {
   "cell_type": "code",
   "execution_count": 28,
   "id": "95d20e73",
   "metadata": {},
   "outputs": [],
   "source": [
    "for i in table_body_tags:\n",
    "    team_detail = text_extract_from_contents(i.contents)\n",
    "    for j in range(len(header_dictionary)):\n",
    "        header_dictionary[list_of_table_header[j]].append(team_detail[j])\n",
    "        "
   ]
  },
  {
   "cell_type": "code",
   "execution_count": 29,
   "id": "4c102518",
   "metadata": {},
   "outputs": [
    {
     "data": {
      "text/html": [
       "<div>\n",
       "<style scoped>\n",
       "    .dataframe tbody tr th:only-of-type {\n",
       "        vertical-align: middle;\n",
       "    }\n",
       "\n",
       "    .dataframe tbody tr th {\n",
       "        vertical-align: top;\n",
       "    }\n",
       "\n",
       "    .dataframe thead th {\n",
       "        text-align: right;\n",
       "    }\n",
       "</style>\n",
       "<table border=\"1\" class=\"dataframe\">\n",
       "  <thead>\n",
       "    <tr style=\"text-align: right;\">\n",
       "      <th></th>\n",
       "      <th>Rk</th>\n",
       "      <th>Squad</th>\n",
       "      <th>MP</th>\n",
       "      <th>W</th>\n",
       "      <th>D</th>\n",
       "      <th>L</th>\n",
       "      <th>GF</th>\n",
       "      <th>GA</th>\n",
       "      <th>GD</th>\n",
       "      <th>Pts</th>\n",
       "      <th>Pts/MP</th>\n",
       "      <th>xG</th>\n",
       "      <th>xGA</th>\n",
       "      <th>xGD</th>\n",
       "      <th>xGD/90</th>\n",
       "      <th>Attendance</th>\n",
       "      <th>Top Team Scorer</th>\n",
       "      <th>Goalkeeper</th>\n",
       "      <th>Notes</th>\n",
       "    </tr>\n",
       "  </thead>\n",
       "  <tbody>\n",
       "    <tr>\n",
       "      <th>0</th>\n",
       "      <td>1</td>\n",
       "      <td>Manchester City</td>\n",
       "      <td>38</td>\n",
       "      <td>28</td>\n",
       "      <td>5</td>\n",
       "      <td>5</td>\n",
       "      <td>94</td>\n",
       "      <td>33</td>\n",
       "      <td>+61</td>\n",
       "      <td>89</td>\n",
       "      <td>2.34</td>\n",
       "      <td>78.7</td>\n",
       "      <td>32.1</td>\n",
       "      <td>+46.6</td>\n",
       "      <td>+1.23</td>\n",
       "      <td>53,249</td>\n",
       "      <td>Erling Haaland - 36</td>\n",
       "      <td>Ederson</td>\n",
       "      <td>→ Champions League via league finish</td>\n",
       "    </tr>\n",
       "    <tr>\n",
       "      <th>1</th>\n",
       "      <td>2</td>\n",
       "      <td>Arsenal</td>\n",
       "      <td>38</td>\n",
       "      <td>26</td>\n",
       "      <td>6</td>\n",
       "      <td>6</td>\n",
       "      <td>88</td>\n",
       "      <td>43</td>\n",
       "      <td>+45</td>\n",
       "      <td>84</td>\n",
       "      <td>2.21</td>\n",
       "      <td>71.9</td>\n",
       "      <td>42.0</td>\n",
       "      <td>+29.9</td>\n",
       "      <td>+0.79</td>\n",
       "      <td>60,191</td>\n",
       "      <td>Martin Ødegaard, Martinelli - 15</td>\n",
       "      <td>Aaron Ramsdale</td>\n",
       "      <td>→ Champions League via league finish</td>\n",
       "    </tr>\n",
       "    <tr>\n",
       "      <th>2</th>\n",
       "      <td>3</td>\n",
       "      <td>Manchester Utd</td>\n",
       "      <td>38</td>\n",
       "      <td>23</td>\n",
       "      <td>6</td>\n",
       "      <td>9</td>\n",
       "      <td>58</td>\n",
       "      <td>43</td>\n",
       "      <td>+15</td>\n",
       "      <td>75</td>\n",
       "      <td>1.97</td>\n",
       "      <td>67.7</td>\n",
       "      <td>50.4</td>\n",
       "      <td>+17.3</td>\n",
       "      <td>+0.45</td>\n",
       "      <td>73,671</td>\n",
       "      <td>Marcus Rashford - 17</td>\n",
       "      <td>David de Gea</td>\n",
       "      <td>→ Champions League via league finish</td>\n",
       "    </tr>\n",
       "    <tr>\n",
       "      <th>3</th>\n",
       "      <td>4</td>\n",
       "      <td>Newcastle Utd</td>\n",
       "      <td>38</td>\n",
       "      <td>19</td>\n",
       "      <td>14</td>\n",
       "      <td>5</td>\n",
       "      <td>68</td>\n",
       "      <td>33</td>\n",
       "      <td>+35</td>\n",
       "      <td>71</td>\n",
       "      <td>1.87</td>\n",
       "      <td>72.0</td>\n",
       "      <td>39.6</td>\n",
       "      <td>+32.4</td>\n",
       "      <td>+0.85</td>\n",
       "      <td>52,127</td>\n",
       "      <td>Callum Wilson - 18</td>\n",
       "      <td>Nick Pope</td>\n",
       "      <td>→ Champions League via league finish</td>\n",
       "    </tr>\n",
       "    <tr>\n",
       "      <th>4</th>\n",
       "      <td>5</td>\n",
       "      <td>Liverpool</td>\n",
       "      <td>38</td>\n",
       "      <td>19</td>\n",
       "      <td>10</td>\n",
       "      <td>9</td>\n",
       "      <td>75</td>\n",
       "      <td>47</td>\n",
       "      <td>+28</td>\n",
       "      <td>67</td>\n",
       "      <td>1.76</td>\n",
       "      <td>72.6</td>\n",
       "      <td>50.9</td>\n",
       "      <td>+21.7</td>\n",
       "      <td>+0.57</td>\n",
       "      <td>53,163</td>\n",
       "      <td>Mohamed Salah - 19</td>\n",
       "      <td>Alisson</td>\n",
       "      <td>→ Europa League via league finish</td>\n",
       "    </tr>\n",
       "    <tr>\n",
       "      <th>5</th>\n",
       "      <td>6</td>\n",
       "      <td>Brighton</td>\n",
       "      <td>38</td>\n",
       "      <td>18</td>\n",
       "      <td>8</td>\n",
       "      <td>12</td>\n",
       "      <td>72</td>\n",
       "      <td>53</td>\n",
       "      <td>+19</td>\n",
       "      <td>62</td>\n",
       "      <td>1.63</td>\n",
       "      <td>73.3</td>\n",
       "      <td>50.2</td>\n",
       "      <td>+23.1</td>\n",
       "      <td>+0.61</td>\n",
       "      <td>31,477</td>\n",
       "      <td>Alexis Mac Allister - 10</td>\n",
       "      <td>Robert Sánchez</td>\n",
       "      <td>→ Europa League via league finish</td>\n",
       "    </tr>\n",
       "    <tr>\n",
       "      <th>6</th>\n",
       "      <td>7</td>\n",
       "      <td>Aston Villa</td>\n",
       "      <td>38</td>\n",
       "      <td>18</td>\n",
       "      <td>7</td>\n",
       "      <td>13</td>\n",
       "      <td>51</td>\n",
       "      <td>46</td>\n",
       "      <td>+5</td>\n",
       "      <td>61</td>\n",
       "      <td>1.61</td>\n",
       "      <td>50.2</td>\n",
       "      <td>52.5</td>\n",
       "      <td>-2.2</td>\n",
       "      <td>-0.06</td>\n",
       "      <td>39,485</td>\n",
       "      <td>Ollie Watkins - 15</td>\n",
       "      <td>Emiliano Martínez</td>\n",
       "      <td>→ Europa Conference League via league finish</td>\n",
       "    </tr>\n",
       "    <tr>\n",
       "      <th>7</th>\n",
       "      <td>8</td>\n",
       "      <td>Tottenham</td>\n",
       "      <td>38</td>\n",
       "      <td>18</td>\n",
       "      <td>6</td>\n",
       "      <td>14</td>\n",
       "      <td>70</td>\n",
       "      <td>63</td>\n",
       "      <td>+7</td>\n",
       "      <td>60</td>\n",
       "      <td>1.58</td>\n",
       "      <td>57.1</td>\n",
       "      <td>49.7</td>\n",
       "      <td>+7.4</td>\n",
       "      <td>+0.20</td>\n",
       "      <td>61,585</td>\n",
       "      <td>Harry Kane - 30</td>\n",
       "      <td>Hugo Lloris</td>\n",
       "      <td></td>\n",
       "    </tr>\n",
       "    <tr>\n",
       "      <th>8</th>\n",
       "      <td>9</td>\n",
       "      <td>Brentford</td>\n",
       "      <td>38</td>\n",
       "      <td>15</td>\n",
       "      <td>14</td>\n",
       "      <td>9</td>\n",
       "      <td>58</td>\n",
       "      <td>46</td>\n",
       "      <td>+12</td>\n",
       "      <td>59</td>\n",
       "      <td>1.55</td>\n",
       "      <td>56.8</td>\n",
       "      <td>49.9</td>\n",
       "      <td>+6.8</td>\n",
       "      <td>+0.18</td>\n",
       "      <td>17,078</td>\n",
       "      <td>Ivan Toney - 20</td>\n",
       "      <td>David Raya</td>\n",
       "      <td></td>\n",
       "    </tr>\n",
       "    <tr>\n",
       "      <th>9</th>\n",
       "      <td>10</td>\n",
       "      <td>Fulham</td>\n",
       "      <td>38</td>\n",
       "      <td>15</td>\n",
       "      <td>7</td>\n",
       "      <td>16</td>\n",
       "      <td>55</td>\n",
       "      <td>53</td>\n",
       "      <td>+2</td>\n",
       "      <td>52</td>\n",
       "      <td>1.37</td>\n",
       "      <td>46.2</td>\n",
       "      <td>63.8</td>\n",
       "      <td>-17.6</td>\n",
       "      <td>-0.46</td>\n",
       "      <td>23,746</td>\n",
       "      <td>Aleksandar Mitrović - 14</td>\n",
       "      <td>Bernd Leno</td>\n",
       "      <td></td>\n",
       "    </tr>\n",
       "    <tr>\n",
       "      <th>10</th>\n",
       "      <td>11</td>\n",
       "      <td>Crystal Palace</td>\n",
       "      <td>38</td>\n",
       "      <td>11</td>\n",
       "      <td>12</td>\n",
       "      <td>15</td>\n",
       "      <td>40</td>\n",
       "      <td>49</td>\n",
       "      <td>-9</td>\n",
       "      <td>45</td>\n",
       "      <td>1.18</td>\n",
       "      <td>39.3</td>\n",
       "      <td>48.1</td>\n",
       "      <td>-8.8</td>\n",
       "      <td>-0.23</td>\n",
       "      <td>24,952</td>\n",
       "      <td>Eberechi Eze - 10</td>\n",
       "      <td>Vicente Guaita</td>\n",
       "      <td></td>\n",
       "    </tr>\n",
       "    <tr>\n",
       "      <th>11</th>\n",
       "      <td>12</td>\n",
       "      <td>Chelsea</td>\n",
       "      <td>38</td>\n",
       "      <td>11</td>\n",
       "      <td>11</td>\n",
       "      <td>16</td>\n",
       "      <td>38</td>\n",
       "      <td>47</td>\n",
       "      <td>-9</td>\n",
       "      <td>44</td>\n",
       "      <td>1.16</td>\n",
       "      <td>49.5</td>\n",
       "      <td>52.5</td>\n",
       "      <td>-3.0</td>\n",
       "      <td>-0.08</td>\n",
       "      <td>40,002</td>\n",
       "      <td>Kai Havertz - 7</td>\n",
       "      <td>Kepa Arrizabalaga</td>\n",
       "      <td></td>\n",
       "    </tr>\n",
       "    <tr>\n",
       "      <th>12</th>\n",
       "      <td>13</td>\n",
       "      <td>Wolves</td>\n",
       "      <td>38</td>\n",
       "      <td>11</td>\n",
       "      <td>8</td>\n",
       "      <td>19</td>\n",
       "      <td>31</td>\n",
       "      <td>58</td>\n",
       "      <td>-27</td>\n",
       "      <td>41</td>\n",
       "      <td>1.08</td>\n",
       "      <td>36.8</td>\n",
       "      <td>59.9</td>\n",
       "      <td>-23.1</td>\n",
       "      <td>-0.61</td>\n",
       "      <td>31,482</td>\n",
       "      <td>Rúben Neves, Daniel Podence - 6</td>\n",
       "      <td>José Sá</td>\n",
       "      <td></td>\n",
       "    </tr>\n",
       "    <tr>\n",
       "      <th>13</th>\n",
       "      <td>14</td>\n",
       "      <td>West Ham</td>\n",
       "      <td>38</td>\n",
       "      <td>11</td>\n",
       "      <td>7</td>\n",
       "      <td>20</td>\n",
       "      <td>42</td>\n",
       "      <td>55</td>\n",
       "      <td>-13</td>\n",
       "      <td>40</td>\n",
       "      <td>1.05</td>\n",
       "      <td>49.2</td>\n",
       "      <td>53.0</td>\n",
       "      <td>-3.9</td>\n",
       "      <td>-0.10</td>\n",
       "      <td>62,462</td>\n",
       "      <td>Saïd Benrahma, Jarrod Bowen - 6</td>\n",
       "      <td>Łukasz Fabiański</td>\n",
       "      <td></td>\n",
       "    </tr>\n",
       "    <tr>\n",
       "      <th>14</th>\n",
       "      <td>15</td>\n",
       "      <td>Bournemouth</td>\n",
       "      <td>38</td>\n",
       "      <td>11</td>\n",
       "      <td>6</td>\n",
       "      <td>21</td>\n",
       "      <td>37</td>\n",
       "      <td>71</td>\n",
       "      <td>-34</td>\n",
       "      <td>39</td>\n",
       "      <td>1.03</td>\n",
       "      <td>38.6</td>\n",
       "      <td>63.9</td>\n",
       "      <td>-25.3</td>\n",
       "      <td>-0.67</td>\n",
       "      <td>10,362</td>\n",
       "      <td>Philip Billing - 7</td>\n",
       "      <td>Neto</td>\n",
       "      <td></td>\n",
       "    </tr>\n",
       "    <tr>\n",
       "      <th>15</th>\n",
       "      <td>16</td>\n",
       "      <td>Nott'ham Forest</td>\n",
       "      <td>38</td>\n",
       "      <td>9</td>\n",
       "      <td>11</td>\n",
       "      <td>18</td>\n",
       "      <td>38</td>\n",
       "      <td>68</td>\n",
       "      <td>-30</td>\n",
       "      <td>38</td>\n",
       "      <td>1.00</td>\n",
       "      <td>39.3</td>\n",
       "      <td>64.2</td>\n",
       "      <td>-24.9</td>\n",
       "      <td>-0.66</td>\n",
       "      <td>29,188</td>\n",
       "      <td>Taiwo Awoniyi - 10</td>\n",
       "      <td>Dean Henderson</td>\n",
       "      <td></td>\n",
       "    </tr>\n",
       "    <tr>\n",
       "      <th>16</th>\n",
       "      <td>17</td>\n",
       "      <td>Everton</td>\n",
       "      <td>38</td>\n",
       "      <td>8</td>\n",
       "      <td>12</td>\n",
       "      <td>18</td>\n",
       "      <td>34</td>\n",
       "      <td>57</td>\n",
       "      <td>-23</td>\n",
       "      <td>36</td>\n",
       "      <td>0.95</td>\n",
       "      <td>45.2</td>\n",
       "      <td>65.7</td>\n",
       "      <td>-20.5</td>\n",
       "      <td>-0.54</td>\n",
       "      <td>39,243</td>\n",
       "      <td>Dwight McNeil - 7</td>\n",
       "      <td>Jordan Pickford</td>\n",
       "      <td></td>\n",
       "    </tr>\n",
       "    <tr>\n",
       "      <th>17</th>\n",
       "      <td>18</td>\n",
       "      <td>Leicester City</td>\n",
       "      <td>38</td>\n",
       "      <td>9</td>\n",
       "      <td>7</td>\n",
       "      <td>22</td>\n",
       "      <td>51</td>\n",
       "      <td>68</td>\n",
       "      <td>-17</td>\n",
       "      <td>34</td>\n",
       "      <td>0.89</td>\n",
       "      <td>50.6</td>\n",
       "      <td>63.4</td>\n",
       "      <td>-12.8</td>\n",
       "      <td>-0.34</td>\n",
       "      <td>31,887</td>\n",
       "      <td>Harvey Barnes - 13</td>\n",
       "      <td>Danny Ward</td>\n",
       "      <td>Relegated</td>\n",
       "    </tr>\n",
       "    <tr>\n",
       "      <th>18</th>\n",
       "      <td>19</td>\n",
       "      <td>Leeds United</td>\n",
       "      <td>38</td>\n",
       "      <td>7</td>\n",
       "      <td>10</td>\n",
       "      <td>21</td>\n",
       "      <td>48</td>\n",
       "      <td>78</td>\n",
       "      <td>-30</td>\n",
       "      <td>31</td>\n",
       "      <td>0.82</td>\n",
       "      <td>47.4</td>\n",
       "      <td>67.2</td>\n",
       "      <td>-19.8</td>\n",
       "      <td>-0.52</td>\n",
       "      <td>36,566</td>\n",
       "      <td>Rodrigo - 13</td>\n",
       "      <td>Illan Meslier</td>\n",
       "      <td>Relegated</td>\n",
       "    </tr>\n",
       "    <tr>\n",
       "      <th>19</th>\n",
       "      <td>20</td>\n",
       "      <td>Southampton</td>\n",
       "      <td>38</td>\n",
       "      <td>6</td>\n",
       "      <td>7</td>\n",
       "      <td>25</td>\n",
       "      <td>36</td>\n",
       "      <td>73</td>\n",
       "      <td>-37</td>\n",
       "      <td>25</td>\n",
       "      <td>0.66</td>\n",
       "      <td>37.7</td>\n",
       "      <td>61.0</td>\n",
       "      <td>-23.3</td>\n",
       "      <td>-0.61</td>\n",
       "      <td>30,440</td>\n",
       "      <td>James Ward-Prowse - 9</td>\n",
       "      <td>Gavin Bazunu</td>\n",
       "      <td>Relegated</td>\n",
       "    </tr>\n",
       "  </tbody>\n",
       "</table>\n",
       "</div>"
      ],
      "text/plain": [
       "    Rk             Squad  MP   W   D   L  GF  GA   GD Pts Pts/MP    xG   xGA  \\\n",
       "0    1   Manchester City  38  28   5   5  94  33  +61  89   2.34  78.7  32.1   \n",
       "1    2           Arsenal  38  26   6   6  88  43  +45  84   2.21  71.9  42.0   \n",
       "2    3    Manchester Utd  38  23   6   9  58  43  +15  75   1.97  67.7  50.4   \n",
       "3    4     Newcastle Utd  38  19  14   5  68  33  +35  71   1.87  72.0  39.6   \n",
       "4    5         Liverpool  38  19  10   9  75  47  +28  67   1.76  72.6  50.9   \n",
       "5    6          Brighton  38  18   8  12  72  53  +19  62   1.63  73.3  50.2   \n",
       "6    7       Aston Villa  38  18   7  13  51  46   +5  61   1.61  50.2  52.5   \n",
       "7    8         Tottenham  38  18   6  14  70  63   +7  60   1.58  57.1  49.7   \n",
       "8    9         Brentford  38  15  14   9  58  46  +12  59   1.55  56.8  49.9   \n",
       "9   10            Fulham  38  15   7  16  55  53   +2  52   1.37  46.2  63.8   \n",
       "10  11    Crystal Palace  38  11  12  15  40  49   -9  45   1.18  39.3  48.1   \n",
       "11  12           Chelsea  38  11  11  16  38  47   -9  44   1.16  49.5  52.5   \n",
       "12  13            Wolves  38  11   8  19  31  58  -27  41   1.08  36.8  59.9   \n",
       "13  14          West Ham  38  11   7  20  42  55  -13  40   1.05  49.2  53.0   \n",
       "14  15       Bournemouth  38  11   6  21  37  71  -34  39   1.03  38.6  63.9   \n",
       "15  16   Nott'ham Forest  38   9  11  18  38  68  -30  38   1.00  39.3  64.2   \n",
       "16  17           Everton  38   8  12  18  34  57  -23  36   0.95  45.2  65.7   \n",
       "17  18    Leicester City  38   9   7  22  51  68  -17  34   0.89  50.6  63.4   \n",
       "18  19      Leeds United  38   7  10  21  48  78  -30  31   0.82  47.4  67.2   \n",
       "19  20       Southampton  38   6   7  25  36  73  -37  25   0.66  37.7  61.0   \n",
       "\n",
       "      xGD xGD/90 Attendance                   Top Team Scorer  \\\n",
       "0   +46.6  +1.23     53,249               Erling Haaland - 36   \n",
       "1   +29.9  +0.79     60,191  Martin Ødegaard, Martinelli - 15   \n",
       "2   +17.3  +0.45     73,671              Marcus Rashford - 17   \n",
       "3   +32.4  +0.85     52,127                Callum Wilson - 18   \n",
       "4   +21.7  +0.57     53,163                Mohamed Salah - 19   \n",
       "5   +23.1  +0.61     31,477          Alexis Mac Allister - 10   \n",
       "6    -2.2  -0.06     39,485                Ollie Watkins - 15   \n",
       "7    +7.4  +0.20     61,585                   Harry Kane - 30   \n",
       "8    +6.8  +0.18     17,078                   Ivan Toney - 20   \n",
       "9   -17.6  -0.46     23,746          Aleksandar Mitrović - 14   \n",
       "10   -8.8  -0.23     24,952                 Eberechi Eze - 10   \n",
       "11   -3.0  -0.08     40,002                   Kai Havertz - 7   \n",
       "12  -23.1  -0.61     31,482   Rúben Neves, Daniel Podence - 6   \n",
       "13   -3.9  -0.10     62,462   Saïd Benrahma, Jarrod Bowen - 6   \n",
       "14  -25.3  -0.67     10,362                Philip Billing - 7   \n",
       "15  -24.9  -0.66     29,188                Taiwo Awoniyi - 10   \n",
       "16  -20.5  -0.54     39,243                 Dwight McNeil - 7   \n",
       "17  -12.8  -0.34     31,887                Harvey Barnes - 13   \n",
       "18  -19.8  -0.52     36,566                      Rodrigo - 13   \n",
       "19  -23.3  -0.61     30,440             James Ward-Prowse - 9   \n",
       "\n",
       "           Goalkeeper                                         Notes  \n",
       "0             Ederson          → Champions League via league finish  \n",
       "1      Aaron Ramsdale          → Champions League via league finish  \n",
       "2        David de Gea          → Champions League via league finish  \n",
       "3           Nick Pope          → Champions League via league finish  \n",
       "4             Alisson             → Europa League via league finish  \n",
       "5      Robert Sánchez             → Europa League via league finish  \n",
       "6   Emiliano Martínez  → Europa Conference League via league finish  \n",
       "7         Hugo Lloris                                                \n",
       "8          David Raya                                                \n",
       "9          Bernd Leno                                                \n",
       "10     Vicente Guaita                                                \n",
       "11  Kepa Arrizabalaga                                                \n",
       "12            José Sá                                                \n",
       "13   Łukasz Fabiański                                                \n",
       "14               Neto                                                \n",
       "15     Dean Henderson                                                \n",
       "16    Jordan Pickford                                                \n",
       "17         Danny Ward                                     Relegated  \n",
       "18      Illan Meslier                                     Relegated  \n",
       "19       Gavin Bazunu                                     Relegated  "
      ]
     },
     "execution_count": 29,
     "metadata": {},
     "output_type": "execute_result"
    }
   ],
   "source": [
    "pd.DataFrame(header_dictionary)"
   ]
  },
  {
   "cell_type": "markdown",
   "id": "4f3f1d12",
   "metadata": {},
   "source": [
    "### Making  a function for scraping more season table from different seasons"
   ]
  },
  {
   "cell_type": "code",
   "execution_count": 30,
   "id": "4957e447",
   "metadata": {},
   "outputs": [],
   "source": [
    "def request_to_soup(url):\n",
    "    # Requesting web server to get acces to the web page and converting it into text\n",
    "    page = requests.get(url)\n",
    "\n",
    "    # Checking status code for URL\n",
    "    code = page.status_code\n",
    "    print(code)\n",
    "    \n",
    "    # Instantiating BeautifulSoup library\n",
    "    soup = BeautifulSoup(page.text)\n",
    "    \n",
    "    return soup"
   ]
  },
  {
   "cell_type": "markdown",
   "id": "0d9278cd",
   "metadata": {},
   "source": [
    "### Create a scaper funtion get needed table tags and convert them into soutable form."
   ]
  },
  {
   "cell_type": "code",
   "execution_count": 31,
   "id": "3674f939",
   "metadata": {},
   "outputs": [],
   "source": [
    "def scraper(soup_):\n",
    "    \n",
    "    # Finding tags which contain the season table    \n",
    "    table_tags = soup_.find('table')\n",
    "    \n",
    "    # Separating the table header tags and table body tags..\n",
    "    table_header_tags = table_tags.thead\n",
    "    table_body_tags = table_tags.tbody\n",
    "    \n",
    "    # Creating a list of heading from header tags\n",
    "    table_header_contents_list = content_to_list(table_tags.thead.contents)\n",
    "    table_header_contents_list = table_header_contents_list[0]\n",
    "    \n",
    "    table_header_contents_list = content_to_list(table_header_contents_list.contents)\n",
    "    \n",
    "    list_of_table_header = []\n",
    "    for i in table_header_contents_list:\n",
    "        list_of_table_header.append(i.text)\n",
    "    \n",
    "    # Creating a list which contain table content in the row-wise from\n",
    "    table_body_content_tags = content_to_list(table_tags.tbody.contents)\n",
    "    \n",
    "    return list_of_table_header,table_body_content_tags\n"
   ]
  },
  {
   "cell_type": "markdown",
   "id": "afe1bbc2",
   "metadata": {},
   "source": [
    "### Create final_table function return a dictionary or data from which connect header list to body contents of table"
   ]
  },
  {
   "cell_type": "code",
   "execution_count": 32,
   "id": "704eb1d6",
   "metadata": {},
   "outputs": [],
   "source": [
    "def final_table(list_of_table_header,table_body_content_tags):\n",
    "    \n",
    "    # Creating header dictionary\n",
    "    header_dictionary = create_dictionary(list_of_table_header)\n",
    "    \n",
    "    for i in table_body_content_tags:\n",
    "        team_detail = text_extract_from_contents(i.contents)\n",
    "        for j in range(len(header_dictionary)):\n",
    "            header_dictionary[list_of_table_header[j]].append(team_detail[j])\n",
    "\n",
    "    \n",
    "    return pd.DataFrame(header_dictionary)"
   ]
  },
  {
   "cell_type": "markdown",
   "id": "4dfac1d3",
   "metadata": {},
   "source": [
    "### Finally create a function which returns all season table according to inputs like season year and number of seasons to scrape"
   ]
  },
  {
   "cell_type": "code",
   "execution_count": 33,
   "id": "c35d6dcf",
   "metadata": {},
   "outputs": [],
   "source": [
    "def URL_to_table_csv(start_year,number_of_seasons):\n",
    "\n",
    "    for i in range(number_of_seasons):\n",
    "        # Creating a template of years for url\n",
    "        dummy_years = f\"{start_year+i}-{start_year+i+1}\"\n",
    "        base_dummy_url = f\"https://fbref.com/en/comps/9/{str(dummy_years)}/{str(dummy_years)}-Premier-League-Stats\"\n",
    "        print(base_dummy_url)\n",
    "\n",
    "        # Getting tags\n",
    "        soup = request_to_soup(url= base_dummy_url)\n",
    "\n",
    "        # Calling the scraper function\n",
    "        tags = scraper(soup_= soup)\n",
    "        \n",
    "        # Creating a final table\n",
    "        Season_table = final_table(list_of_table_header=tags[0],table_body_content_tags=tags[1])\n",
    "\n",
    "        # Creating a template for naming the files \n",
    "        file_name =f\"Premier_league_season_table_{dummy_years}\"\n",
    "\n",
    "        # Converting the dataframe to csv file\n",
    "        Season_table.to_csv(f'Season_tables/{file_name}',index=False)\n",
    "        if i == 0: \n",
    "            print(f\"{i+1} season successfully scraped ✔ \")\n",
    "        elif i >0:\n",
    "            print(f\"{i+1} seasons successfully scraped ✔ \")\n",
    "        if i == number_of_seasons-1:\n",
    "            print(f'All seasons scraped')\n",
    "        \n",
    "        time.sleep(5)"
   ]
  },
  {
   "cell_type": "code",
   "execution_count": 34,
   "id": "4133c839",
   "metadata": {},
   "outputs": [
    {
     "name": "stdout",
     "output_type": "stream",
     "text": [
      "https://fbref.com/en/comps/9/1992-1993/1992-1993-Premier-League-Stats\n",
      "200\n",
      "1 season successfully scraped ✔ \n",
      "https://fbref.com/en/comps/9/1993-1994/1993-1994-Premier-League-Stats\n",
      "403\n"
     ]
    },
    {
     "ename": "AttributeError",
     "evalue": "'NoneType' object has no attribute 'thead'",
     "output_type": "error",
     "traceback": [
      "\u001b[1;31m---------------------------------------------------------------------------\u001b[0m",
      "\u001b[1;31mAttributeError\u001b[0m                            Traceback (most recent call last)",
      "\u001b[1;32m~\\AppData\\Local\\Temp/ipykernel_10704/4230681478.py\u001b[0m in \u001b[0;36m<module>\u001b[1;34m\u001b[0m\n\u001b[1;32m----> 1\u001b[1;33m \u001b[0mURL_to_table_csv\u001b[0m\u001b[1;33m(\u001b[0m\u001b[0mstart_year\u001b[0m\u001b[1;33m=\u001b[0m\u001b[1;36m1992\u001b[0m\u001b[1;33m,\u001b[0m\u001b[0mnumber_of_seasons\u001b[0m\u001b[1;33m=\u001b[0m\u001b[1;36m31\u001b[0m\u001b[1;33m)\u001b[0m\u001b[1;33m\u001b[0m\u001b[1;33m\u001b[0m\u001b[0m\n\u001b[0m",
      "\u001b[1;32m~\\AppData\\Local\\Temp/ipykernel_10704/261325085.py\u001b[0m in \u001b[0;36mURL_to_table_csv\u001b[1;34m(start_year, number_of_seasons)\u001b[0m\n\u001b[0;32m     11\u001b[0m \u001b[1;33m\u001b[0m\u001b[0m\n\u001b[0;32m     12\u001b[0m         \u001b[1;31m# Calling the scraper function\u001b[0m\u001b[1;33m\u001b[0m\u001b[1;33m\u001b[0m\u001b[0m\n\u001b[1;32m---> 13\u001b[1;33m         \u001b[0mtags\u001b[0m \u001b[1;33m=\u001b[0m \u001b[0mscraper\u001b[0m\u001b[1;33m(\u001b[0m\u001b[0msoup_\u001b[0m\u001b[1;33m=\u001b[0m \u001b[0msoup\u001b[0m\u001b[1;33m)\u001b[0m\u001b[1;33m\u001b[0m\u001b[1;33m\u001b[0m\u001b[0m\n\u001b[0m\u001b[0;32m     14\u001b[0m \u001b[1;33m\u001b[0m\u001b[0m\n\u001b[0;32m     15\u001b[0m         \u001b[1;31m# Creating a final table\u001b[0m\u001b[1;33m\u001b[0m\u001b[1;33m\u001b[0m\u001b[0m\n",
      "\u001b[1;32m~\\AppData\\Local\\Temp/ipykernel_10704/2378478089.py\u001b[0m in \u001b[0;36mscraper\u001b[1;34m(soup_)\u001b[0m\n\u001b[0;32m      5\u001b[0m \u001b[1;33m\u001b[0m\u001b[0m\n\u001b[0;32m      6\u001b[0m     \u001b[1;31m# Separating the table header tags and table body tags..\u001b[0m\u001b[1;33m\u001b[0m\u001b[1;33m\u001b[0m\u001b[0m\n\u001b[1;32m----> 7\u001b[1;33m     \u001b[0mtable_header_tags\u001b[0m \u001b[1;33m=\u001b[0m \u001b[0mtable_tags\u001b[0m\u001b[1;33m.\u001b[0m\u001b[0mthead\u001b[0m\u001b[1;33m\u001b[0m\u001b[1;33m\u001b[0m\u001b[0m\n\u001b[0m\u001b[0;32m      8\u001b[0m     \u001b[0mtable_body_tags\u001b[0m \u001b[1;33m=\u001b[0m \u001b[0mtable_tags\u001b[0m\u001b[1;33m.\u001b[0m\u001b[0mtbody\u001b[0m\u001b[1;33m\u001b[0m\u001b[1;33m\u001b[0m\u001b[0m\n\u001b[0;32m      9\u001b[0m \u001b[1;33m\u001b[0m\u001b[0m\n",
      "\u001b[1;31mAttributeError\u001b[0m: 'NoneType' object has no attribute 'thead'"
     ]
    }
   ],
   "source": [
    "URL_to_table_csv(start_year=1992,number_of_seasons=31)"
   ]
  },
  {
   "cell_type": "code",
   "execution_count": null,
   "id": "ba893eef",
   "metadata": {},
   "outputs": [],
   "source": []
  }
 ],
 "metadata": {
  "kernelspec": {
   "display_name": "Python 3 (ipykernel)",
   "language": "python",
   "name": "python3"
  },
  "language_info": {
   "codemirror_mode": {
    "name": "ipython",
    "version": 3
   },
   "file_extension": ".py",
   "mimetype": "text/x-python",
   "name": "python",
   "nbconvert_exporter": "python",
   "pygments_lexer": "ipython3",
   "version": "3.12.4"
  }
 },
 "nbformat": 4,
 "nbformat_minor": 5
}
