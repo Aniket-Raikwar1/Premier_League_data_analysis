{
 "cells": [
  {
   "cell_type": "markdown",
   "id": "7f8ee7e4",
   "metadata": {},
   "source": [
    "# Season table scraper"
   ]
  },
  {
   "cell_type": "markdown",
   "id": "dce9f758",
   "metadata": {},
   "source": [
    "### To get our data we will get it from fbref.com "
   ]
  },
  {
   "cell_type": "code",
   "execution_count": 1,
   "id": "e8824018",
   "metadata": {},
   "outputs": [
    {
     "ename": "ModuleNotFoundError",
     "evalue": "No module named 'import_ipynb'",
     "output_type": "error",
     "traceback": [
      "\u001b[1;31m---------------------------------------------------------------------------\u001b[0m",
      "\u001b[1;31mModuleNotFoundError\u001b[0m                       Traceback (most recent call last)",
      "Cell \u001b[1;32mIn[1], line 15\u001b[0m\n\u001b[0;32m     12\u001b[0m \u001b[38;5;28;01mimport\u001b[39;00m \u001b[38;5;21;01mseaborn\u001b[39;00m \u001b[38;5;28;01mas\u001b[39;00m \u001b[38;5;21;01msns\u001b[39;00m\n\u001b[0;32m     14\u001b[0m \u001b[38;5;66;03m# !pip install import_ipynb\u001b[39;00m\n\u001b[1;32m---> 15\u001b[0m \u001b[38;5;28;01mimport\u001b[39;00m \u001b[38;5;21;01mimport_ipynb\u001b[39;00m\n",
      "\u001b[1;31mModuleNotFoundError\u001b[0m: No module named 'import_ipynb'"
     ]
    }
   ],
   "source": [
    "# Importing libraries\n",
    "\n",
    "# Web scraping liberaries\n",
    "from bs4 import BeautifulSoup\n",
    "import requests\n",
    "import time\n",
    "\n",
    "# Data analysis liberaries\n",
    "import pandas as pd\n",
    "import numpy as np\n",
    "import matplotlib.pyplot as plt\n",
    "import seaborn as sns\n",
    "\n",
    "# !pip install import_ipynb\n",
    "# import import_ipynb\n",
    "# import /path/to/notebook.ipynb"
   ]
  },
  {
   "cell_type": "code",
   "execution_count": 2,
   "id": "83c1fe2c",
   "metadata": {
    "scrolled": true
   },
   "outputs": [],
   "source": [
    "# import Analysing_premier_league_seasons.ipynb"
   ]
  },
  {
   "cell_type": "markdown",
   "id": "518cec5b",
   "metadata": {},
   "source": [
    "### Important funtion for scraping the website"
   ]
  },
  {
   "cell_type": "code",
   "execution_count": 3,
   "id": "f6be6909",
   "metadata": {},
   "outputs": [],
   "source": [
    "def text_extract_from_contents(contents_list):\n",
    "    '''\n",
    "    Input : \n",
    "    Output :  \n",
    "    \n",
    "    '''\n",
    "    list_ = []\n",
    "    for i in range(len(contents_list)):\n",
    "        if contents_list[i] == \" \" or contents_list[i] == \"\\n\":\n",
    "            pass\n",
    "        else:\n",
    "            list_.append(contents_list[i].text)\n",
    "    \n",
    "    return list_"
   ]
  },
  {
   "cell_type": "code",
   "execution_count": 4,
   "id": "bc0b5cd7",
   "metadata": {},
   "outputs": [],
   "source": [
    "def content_to_list(content_list):\n",
    "    '''\n",
    "    Input : Content of tags \n",
    "    Output : Return a list without space and tags as element of list.\n",
    "    \n",
    "    '''\n",
    "    list_ = []\n",
    "    for i in range(len(content_list)):\n",
    "        if content_list[i] == \" \" or content_list[i] == \"\\n\":\n",
    "            pass\n",
    "        else:\n",
    "            list_.append(content_list[i])\n",
    "    return list_"
   ]
  },
  {
   "cell_type": "code",
   "execution_count": 5,
   "id": "8547cc22",
   "metadata": {},
   "outputs": [],
   "source": [
    "def create_dictionary(list_):\n",
    "    '''\n",
    "    Input : List of elements as keys \n",
    "    Output : Return a dictionary with \n",
    "    '''\n",
    "    dictionary = {}\n",
    "    for i in list_:\n",
    "        dictionary[i] = []\n",
    "    return dictionary\n"
   ]
  },
  {
   "cell_type": "code",
   "execution_count": 6,
   "id": "cbb5b2c4",
   "metadata": {},
   "outputs": [],
   "source": [
    "def final_table(table_headers_list,table_content):\n",
    "    dictionary = create_dictionary(table_headers_list)\n",
    "    \n",
    "    for i in range(len(table_content)):\n",
    "        detail = text_extract_from_contents(table_content[i].contents)\n",
    "        for j in range(len(table_headers_list)):\n",
    "            dictionary[table_headers_list[j]].append(detail[j])\n",
    "        \n",
    "    return dictionary"
   ]
  },
  {
   "cell_type": "markdown",
   "id": "27b59c2b",
   "metadata": {},
   "source": [
    "### Understanding the structure and code of the website"
   ]
  },
  {
   "cell_type": "code",
   "execution_count": 7,
   "id": "97132a03",
   "metadata": {},
   "outputs": [],
   "source": [
    "URL = \"https://fbref.com/en/comps/9/2022-2023/2022-2023-Premier-League-Stats\""
   ]
  },
  {
   "cell_type": "code",
   "execution_count": 8,
   "id": "6eef4608",
   "metadata": {},
   "outputs": [],
   "source": [
    "page = requests.get(URL)"
   ]
  },
  {
   "cell_type": "code",
   "execution_count": 9,
   "id": "c5b8b3f7",
   "metadata": {},
   "outputs": [
    {
     "data": {
      "text/plain": [
       "403"
      ]
     },
     "execution_count": 9,
     "metadata": {},
     "output_type": "execute_result"
    }
   ],
   "source": [
    "code = page.status_code\n",
    "code"
   ]
  },
  {
   "cell_type": "code",
   "execution_count": 10,
   "id": "186cffc9",
   "metadata": {},
   "outputs": [],
   "source": [
    "soup = BeautifulSoup(page.text)"
   ]
  },
  {
   "cell_type": "markdown",
   "id": "41d6b965",
   "metadata": {},
   "source": [
    "### Getting list tags "
   ]
  },
  {
   "cell_type": "code",
   "execution_count": 21,
   "id": "7bdb7c55-f8d3-4db8-bc8e-639074142c7e",
   "metadata": {},
   "outputs": [
    {
     "data": {
      "text/plain": [
       "<!DOCTYPE html>\n",
       "<html lang=\"en-US\"><head><title>Just a moment...</title><meta content=\"text/html; charset=utf-8\" http-equiv=\"Content-Type\"/><meta content=\"IE=Edge\" http-equiv=\"X-UA-Compatible\"/><meta content=\"noindex,nofollow\" name=\"robots\"/><meta content=\"width=device-width,initial-scale=1\" name=\"viewport\"/><style>*{box-sizing:border-box;margin:0;padding:0}html{line-height:1.15;-webkit-text-size-adjust:100%;color:#313131;font-family:system-ui,-apple-system,BlinkMacSystemFont,Segoe UI,Roboto,Helvetica Neue,Arial,Noto Sans,sans-serif,Apple Color Emoji,Segoe UI Emoji,Segoe UI Symbol,Noto Color Emoji}body{display:flex;flex-direction:column;height:100vh;min-height:100vh}.main-content{margin:8rem auto;max-width:60rem;padding-left:1.5rem}@media (width <= 720px){.main-content{margin-top:4rem}}.h2{font-size:1.5rem;font-weight:500;line-height:2.25rem}@media (width <= 720px){.h2{font-size:1.25rem;line-height:1.5rem}}#challenge-error-text{background-image:url(data:image/svg+xml;base64,PHN2ZyB4bWxucz0iaHR0cDovL3d3dy53My5vcmcvMjAwMC9zdmciIHdpZHRoPSIzMiIgaGVpZ2h0PSIzMiIgZmlsbD0ibm9uZSI+PHBhdGggZmlsbD0iI0IyMEYwMyIgZD0iTTE2IDNhMTMgMTMgMCAxIDAgMTMgMTNBMTMuMDE1IDEzLjAxNSAwIDAgMCAxNiAzbTAgMjRhMTEgMTEgMCAxIDEgMTEtMTEgMTEuMDEgMTEuMDEgMCAwIDEtMTEgMTEiLz48cGF0aCBmaWxsPSIjQjIwRjAzIiBkPSJNMTcuMDM4IDE4LjYxNUgxNC44N0wxNC41NjMgOS41aDIuNzgzem0tMS4wODQgMS40MjdxLjY2IDAgMS4wNTcuMzg4LjQwNy4zODkuNDA3Ljk5NCAwIC41OTYtLjQwNy45ODQtLjM5Ny4zOS0xLjA1Ny4zODktLjY1IDAtMS4wNTYtLjM4OS0uMzk4LS4zODktLjM5OC0uOTg0IDAtLjU5Ny4zOTgtLjk4NS40MDYtLjM5NyAxLjA1Ni0uMzk3Ii8+PC9zdmc+);background-repeat:no-repeat;background-size:contain;padding-left:34px}@media (prefers-color-scheme:dark){body{background-color:#222;color:#d9d9d9}}</style><meta content=\"390\" http-equiv=\"refresh\"/></head><body class=\"no-js\"><div class=\"main-wrapper\" role=\"main\"><div class=\"main-content\"><noscript><div class=\"h2\"><span id=\"challenge-error-text\">Enable JavaScript and cookies to continue</span></div></noscript></div></div><script>(function(){window._cf_chl_opt={cvId: '3',cZone: \"fbref.com\",cType: 'managed',cRay: '92561be65eae441e',cH: 'Op2XZXurBCcrdB6vDb5xilozvxb5jXO_QIfuUVdzKFY-1742818683-1.2.1.1-O5eUVRalsRoM3va5Lr2l7IIBCHf_zTL.3vkB7HAcV42QfAXIThRyDiib2GF8B1vI',cUPMDTk: \"\\/en\\/comps\\/9\\/2022-2023\\/2022-2023-Premier-League-Stats?__cf_chl_tk=EbsI9G2MgvBJmpfB3Ks6vVlqCpkXZBwk.tLLt6fmIYI-1742818683-1.0.1.1-H3olAX0F0zK_GIr__cMwh837bCquL2N.JiYXpgWHbPE\",cFPWv: 'b',cITimeS: '1742818683',cTTimeMs: '1000',cMTimeMs: '390000',cTplC: 0,cTplV: 5,cTplB: 'cf',cK: \"\",fa: \"\\/en\\/comps\\/9\\/2022-2023\\/2022-2023-Premier-League-Stats?__cf_chl_f_tk=EbsI9G2MgvBJmpfB3Ks6vVlqCpkXZBwk.tLLt6fmIYI-1742818683-1.0.1.1-H3olAX0F0zK_GIr__cMwh837bCquL2N.JiYXpgWHbPE\",md: \"ohszwBZKPVPnizHrf2X2vHOCl5L9kz4xnFF.Jtyf9oE-1742818683-1.2.1.1-Wrp52mop1ba9SQxvjWa42WCatoFaCJpXGvmuWCYcJphpt9aoAkN4clBOAkaU.kQQA8wp7Slhi62ibU5tF4KR.2qUS1i75RAj42mJNmONPQMyX3cHHFdALCgolwaYfj9kMAcSBbyFaYqEhsP51I6xdTtKZBB9B9KTxrXBCxEkNBS7DTbnezSj3.DYDw44hTcG19.4GhId8INp7r6tTX66LGsaODqBvcltylkMmgrDic6DfSN2WPFarAxoZEvJSdULpQKDl2.2KxvtBZ5wHYR21Pmk9IPzaj3hKhnLRkAmir74iAOMT1plA_O1pHhW_TBnHcjt.d2Qq3SAs.ptHVoAS2A.GphBe.CK4oDnm21tRNxF0RhILfdboEjoKTCoNm9kWr3LDS3ipTM1xhe2vwMgUSTeC2UW.UCg3DwAcpLIp1GCvbVsqDb_J6yLVkp6fgZVFR45dILFbOoLiKNsguGiDsaAFc0OLjxsSQxjv9c7QcjC1EM7EY8ycUrYzyYr3xCHxow1FDczMBrF_654AvdP4BUIcdOUc5RdWrCxUjB0Jyd7UzTzBhucN4dmcr8_rnLviq6PsuWicXTJ4DSCdLHP6YhFR4uutjawngd6Nn4_6r43ljuiRIEtqBrAzBSQTRYeFKHNbiNZ4WYax9yFo0D7zCwHxpM567cQYJ4h7whJyos45wFknyIC2ZJuM1wD65eVmnC5y7ufQtwMvwnwMejNfGuDsAv5XIvCrbElDsYr._fNWhDe8OGVqazqZbALr4kJ79ITOHisz_llrMm1GzurybLfgnHPDyH8ugFWc2YUlzGwCsqcB0oedd0JXNb.PB2kXDyLvoSu_4PiaOq5XEwNQ3Tf7f8hyaNNEUiroaR5batXg6to9axi6iMsDyH0CcmF1VbWb.kwN8VrYVVnd0bfyCMcps1.39N2XTb6ZKJM4XNjkVKCQc_E3m9b8VcixjFpBPEXSHTIMQfMRiMlhHS5qQ0sdgklVFMjs9KhXTGGQevwvzxnOt9L6ex6hi2BM11XIIm6rPNCR0Mey.u2IJBTWl0bIi.6QaNYrfT04KFId.7Tt_yxowprJ2g6_UFcrpEZj53w02mgUfpfF3LfFiGvCgq8pc3oNtGicGW0Qhr268Gsd7.mprCIs0a.s_Q2PXbRo2vU2mOQ2OhY2Dy7ts9A1v1L5dE0RJRz5WYCD7mP1Mk\",mdrd: \"AmAo7d8OB6ouveAnxfpCoet9l5hT9tz4742IZ3eC0jw-1742818683-1.2.1.1-NW1x9T2ZflGFVhKDgrcC9AQjmjRZk2Bn9qm3tAwJ7uNw969N50FgZYRytraveNoFTUhngMJ0vRLPV4EipBsrSAMh6kPKsHk9q_yZ7WD3QiNdXe10SmoA__hec5OksihPrPGVRZFGe4cnTj.q4wYOeA9SKvZ0_Dl4Y7zTxfEOF7OsuarnvPO3d4CtAZqZvC81F0YYTjnwGUyfD.jrxacGdhsmaGjIh7ZXcEnS5KJO40uOZEOJI6olRfNgrb7b8J7B1OolJuASKUs0FpDQwl2qS.HY.uo3IJxQ2rKJMxBJ9hLp9D5dVQgpacH1q.pS4skKJAnEhrqQJ6cp4KTaznvsvstJSfkplw0dJUKTpq8oaO4kj7.WWoLKmxLvjuOefNhNd5222hKmez_9e9Ao9tA1ltxKkUr25Q3V63Vsy2jS53dm8EgOeJmZgmXx3MSvgvq99l_PBjHlpfi9ml2KDtvljwLow0rUP8TU85oKY_mIgVb6IlvtGQ3GkBX6pv9Z3_4.b.SAsWruJ_J5PDeSEboPqtvq9duS3kfHaMfBERF6N9Sy_6EtVCqywCbRMRlo3mcfZk.kcVP9nP8cHdFF6DvhAYZ2B5tcGc0wEeyYhalhpekmMmwf2e1WOHDn7341lRCGfAozCxokDQ8zSmHTUAoNJKboFP0IOr4mRZazXdYk0Z7Ffd8thcE5123Dg2vDdA6p_azq4NaaMJPogyb9VDWcs89QLgbWjiEdspmo_zzFBv8NuMEJcAOMQIKc2uUIQzfIgsRTlhGM9bhMsRj.eYVgwgq38pGkJr7c9j8abWEbCgDz1OFH3KURmiaHAPQajBBDTzIudPTG8.Ovbwdga4C.7JAsEPtNBQH.1oXboXBSFZE2miCfQPy_aMZdg_61J_jPBWzU_UzrfiVzCTKcpxou2kl6GO.4hLz45DMLPucCFSw3UPNmTJ.Ortn1BXhpFAbw0znnWkw18qLQGnw3xTDGzpFtg7dYVB8FlZWarxx6RZldQBI7Tnwo.FbCDd2YtyKCR5haH5Eo5RnMmOWsGflhXEPbbIxpumZuKRwBiTGhDSfCFOLzjQRJGVUmZsnkePy30WvOdabCDutzVZ8LeQ0kMOS7LwQkimUSvWeXSr0GCXCVcLSBiUmlltlpmdjEsgYNAytSM6mgXlYznJ4J3hpwub7_XIJCgXGaSkQmTFXTO0T0wHlaYpDEh.EqBgnxjzcru5YtPdXrmjA3foCJ8TC9hgakLw6Pt5izJNs.O.0KQjHf7EqEhUSbBypKax8w3jRoS87iIQaeuJDO_KpxOiI5v_yUWRbSbdFWco9.nIae1QLeHIHpzQQmc6Al4itJo25Y2fV06Kl_qeCf2VExpu.m8rhseCOI.BZMnrMf5Yw4Krj32cDrprVE1cl0qxdkNl2QpGYRgUVqKM32sgKOj5B2G_l_0xhZaa6tu.vtogHA.iZHu53Ldn4WyCpUc4RsnyrOxCF.71V7LDxQ6m.4ygIdEVo9hmbkraRBxudKBdIlOSJ1oeUAvoVAHEw4YcjCtc.Tko2Zf_mwfDJiZpDrNb5LxxCye.Ki8kkArSSKVmjg59zghhNcl_CH2ZIxlrWtV7UXrsw8mvhfFzHM_F5wzFRHYtMynrs2WCj_ThcanDNN0pL2Kj5PLnqw.1Y3rws6ht6uDZN4poinajQs_RwORcvybkmqwW0esrsFwXcP.GCeDJ26zSRfq7N1qVOIHEUy_SghYBxkFALG_H3c078unwZLk3BkPXwqNinXbd1Q6gtq0YfrKhkjmSYd1y.O515GRxgWRIzoSHM96TZrcXKvrGyKEitbRWJhAIUvWLviMZPKm8G19PnjTs11bxObJNkproceUzFWHiv4Pt.ZKtXnk4PoMTh8uMcS7BDQuVY1YsFLd_Awb0Ow_pFq9FAOHAu6Yppl8s1BjIUnWLqcc11_PaMiADPN4yIndheKbH6DJ.RVl4UHDxMHccl0eWQ2.Odrc5Q7w_HgwBLPa30A_fO2B_eMYCsuX0BMd7WMqUCT3GEkPHy9J1x5I7_c3X.YtJsmUiNL2segor_AMIT1bbpAUhMWp_p7OvSl.RP3BUqpnWwDAns8U9W9cLDBAJ29Rj45rfrcr8j67QMgY991Nyvv7RUIRh4eOdmZrneJpr3qKcZoQxhUKDuOKodVY_i2Ys3k6irvF4oRN96LqZO7FWO.HMblpqVq3YCjRrHIYXfmT0LpRAfH6sIAqCwJY5TmKTnaEhecxMUplv_sIIXkkTg_Cl01z3i5vkW7aJS9aHmgXBmgWVRUwVRThta4nSyOXujRGj3Ek1vCLmFkvNo50oo7JYKqdA\"};var cpo = document.createElement('script');cpo.src = '/cdn-cgi/challenge-platform/h/b/orchestrate/chl_page/v1?ray=92561be65eae441e';window._cf_chl_opt.cOgUHash = location.hash === '' && location.href.indexOf('#') !== -1 ? '#' : location.hash;window._cf_chl_opt.cOgUQuery = location.search === '' && location.href.slice(0, location.href.length - window._cf_chl_opt.cOgUHash.length).indexOf('?') !== -1 ? '?' : location.search;if (window.history && window.history.replaceState) {var ogU = location.pathname + window._cf_chl_opt.cOgUQuery + window._cf_chl_opt.cOgUHash;history.replaceState(null, null, \"\\/en\\/comps\\/9\\/2022-2023\\/2022-2023-Premier-League-Stats?__cf_chl_rt_tk=EbsI9G2MgvBJmpfB3Ks6vVlqCpkXZBwk.tLLt6fmIYI-1742818683-1.0.1.1-H3olAX0F0zK_GIr__cMwh837bCquL2N.JiYXpgWHbPE\" + window._cf_chl_opt.cOgUHash);cpo.onload = function() {history.replaceState(null, null, ogU);}}document.getElementsByTagName('head')[0].appendChild(cpo);}());</script></body></html>"
      ]
     },
     "execution_count": 21,
     "metadata": {},
     "output_type": "execute_result"
    }
   ],
   "source": [
    "soup"
   ]
  },
  {
   "cell_type": "code",
   "execution_count": 11,
   "id": "6f2d12dd",
   "metadata": {},
   "outputs": [],
   "source": [
    "# Important links \n",
    "Imp_links = soup.find_all(\"ul\",{'class':'hoversmooth'})\n",
    "l = 'https://fbref.com'"
   ]
  },
  {
   "cell_type": "code",
   "execution_count": 12,
   "id": "4033bbc3",
   "metadata": {},
   "outputs": [
    {
     "ename": "IndexError",
     "evalue": "list index out of range",
     "output_type": "error",
     "traceback": [
      "\u001b[1;31m---------------------------------------------------------------------------\u001b[0m",
      "\u001b[1;31mIndexError\u001b[0m                                Traceback (most recent call last)",
      "Cell \u001b[1;32mIn[12], line 1\u001b[0m\n\u001b[1;32m----> 1\u001b[0m Imp_links[\u001b[38;5;241m1\u001b[39m]\n",
      "\u001b[1;31mIndexError\u001b[0m: list index out of range"
     ]
    }
   ],
   "source": [
    "Imp_links[1]"
   ]
  },
  {
   "cell_type": "code",
   "execution_count": null,
   "id": "862b90dd",
   "metadata": {},
   "outputs": [],
   "source": [
    "link_list = {}"
   ]
  },
  {
   "cell_type": "code",
   "execution_count": 13,
   "id": "9c91d426",
   "metadata": {},
   "outputs": [
    {
     "ename": "IndexError",
     "evalue": "list index out of range",
     "output_type": "error",
     "traceback": [
      "\u001b[1;31m---------------------------------------------------------------------------\u001b[0m",
      "\u001b[1;31mIndexError\u001b[0m                                Traceback (most recent call last)",
      "Cell \u001b[1;32mIn[13], line 2\u001b[0m\n\u001b[0;32m      1\u001b[0m page_title \u001b[38;5;241m=\u001b[39m []\n\u001b[1;32m----> 2\u001b[0m \u001b[38;5;28;01mfor\u001b[39;00m j \u001b[38;5;129;01min\u001b[39;00m content_to_list(Imp_links[\u001b[38;5;241m1\u001b[39m]\u001b[38;5;241m.\u001b[39mfind(\u001b[38;5;124m'\u001b[39m\u001b[38;5;124mul\u001b[39m\u001b[38;5;124m'\u001b[39m,{\u001b[38;5;124m'\u001b[39m\u001b[38;5;124mclass\u001b[39m\u001b[38;5;124m'\u001b[39m : \u001b[38;5;124m\"\u001b[39m\u001b[38;5;124m\"\u001b[39m})\u001b[38;5;241m.\u001b[39mcontents):\n\u001b[0;32m      3\u001b[0m     type_ \u001b[38;5;241m=\u001b[39m j\u001b[38;5;241m.\u001b[39ma[\u001b[38;5;124m'\u001b[39m\u001b[38;5;124mhref\u001b[39m\u001b[38;5;124m'\u001b[39m]\u001b[38;5;241m.\u001b[39msplit(\u001b[38;5;124m\"\u001b[39m\u001b[38;5;124m1-\u001b[39m\u001b[38;5;124m\"\u001b[39m)[\u001b[38;5;241m-\u001b[39m\u001b[38;5;241m2\u001b[39m]\u001b[38;5;241m.\u001b[39msplit(\u001b[38;5;124m\"\u001b[39m\u001b[38;5;124m/\u001b[39m\u001b[38;5;124m\"\u001b[39m)[\u001b[38;5;241m-\u001b[39m\u001b[38;5;241m2\u001b[39m]\n\u001b[0;32m      4\u001b[0m     u \u001b[38;5;241m=\u001b[39mj\u001b[38;5;241m.\u001b[39ma[\u001b[38;5;124m'\u001b[39m\u001b[38;5;124mhref\u001b[39m\u001b[38;5;124m'\u001b[39m]\u001b[38;5;241m.\u001b[39msplit(\u001b[38;5;124m\"\u001b[39m\u001b[38;5;124m1-\u001b[39m\u001b[38;5;124m\"\u001b[39m)[\u001b[38;5;241m-\u001b[39m\u001b[38;5;241m1\u001b[39m]\n",
      "\u001b[1;31mIndexError\u001b[0m: list index out of range"
     ]
    }
   ],
   "source": [
    "page_title = []\n",
    "for j in content_to_list(Imp_links[1].find('ul',{'class' : \"\"}).contents):\n",
    "    type_ = j.a['href'].split(\"1-\")[-2].split(\"/\")[-2]\n",
    "    u =j.a['href'].split(\"1-\")[-1]\n",
    "    page_ti = f\"{type_}-{u}\"\n",
    "    link_dic[page_ti] = f\"{l}{j.a['href']}\"\n",
    "    page_title.append(page_ti)\n",
    "#     print(f\"{l}{j.a['href']}\")   \n",
    "for i in content_to_list(Imp_links[1].section.contents):\n",
    "    u_ =i.a['href'].split(\"1-\")[-1]\n",
    "    page_ti_ = f\"{u_}\"\n",
    "    link_dic[page_ti_] = f\"{l}{i.a['href']}\"\n",
    "    page_title.append(page_ti_)\n",
    "#     print(f\"{l}{i.a['href']}\")"
   ]
  },
  {
   "cell_type": "code",
   "execution_count": 157,
   "id": "797b2555",
   "metadata": {
    "scrolled": true
   },
   "outputs": [
    {
     "name": "stdout",
     "output_type": "stream",
     "text": [
      "https://fbref.com/en/comps/9/2020-2021/stats/2020-2021-Premier-League-Stats\n",
      "https://fbref.com/en/comps/9/2020-2021/keepers/2020-2021-Premier-League-Stats\n",
      "https://fbref.com/en/comps/9/2020-2021/keepersadv/2020-2021-Premier-League-Stats\n",
      "https://fbref.com/en/comps/9/2020-2021/shooting/2020-2021-Premier-League-Stats\n",
      "https://fbref.com/en/comps/9/2020-2021/passing/2020-2021-Premier-League-Stats\n",
      "https://fbref.com/en/comps/9/2020-2021/passing_types/2020-2021-Premier-League-Stats\n",
      "https://fbref.com/en/comps/9/2020-2021/gca/2020-2021-Premier-League-Stats\n",
      "https://fbref.com/en/comps/9/2020-2021/defense/2020-2021-Premier-League-Stats\n",
      "https://fbref.com/en/comps/9/2020-2021/possession/2020-2021-Premier-League-Stats\n",
      "https://fbref.com/en/comps/9/2020-2021/playingtime/2020-2021-Premier-League-Stats\n",
      "https://fbref.com/en/comps/9/2020-2021/misc/2020-2021-Premier-League-Stats\n",
      "https://fbref.com/en/comps/9/2020-2021/2020-2021-Premier-League-Stats\n",
      "https://fbref.com/en/comps/9/2020-2021/schedule/2020-2021-Premier-League-Scores-and-Fixtures\n",
      "https://fbref.com/en/comps/9/2020-2021/nations/2020-2021-Premier-League-Nationalities\n",
      "https://fbref.com/en/comps/9/2020-2021/wages/2020-2021-Premier-League-Wages\n",
      "https://fbref.com-/en/comps/9/2019-2020/2019-2020-Premier-League-Stats\n",
      "https://fbref.com-/en/comps/9/2021-2022/2021-2022-Premier-League-Stats\n"
     ]
    }
   ],
   "source": [
    "for k in link_dic.keys():\n",
    "    print(link_dic[k])"
   ]
  },
  {
   "cell_type": "code",
   "execution_count": 158,
   "id": "59acc2f9",
   "metadata": {},
   "outputs": [
    {
     "data": {
      "text/plain": [
       "{'stats-Premier-League-Stats': 'https://fbref.com/en/comps/9/2020-2021/stats/2020-2021-Premier-League-Stats',\n",
       " 'keepers-Premier-League-Stats': 'https://fbref.com/en/comps/9/2020-2021/keepers/2020-2021-Premier-League-Stats',\n",
       " 'keepersadv-Premier-League-Stats': 'https://fbref.com/en/comps/9/2020-2021/keepersadv/2020-2021-Premier-League-Stats',\n",
       " 'shooting-Premier-League-Stats': 'https://fbref.com/en/comps/9/2020-2021/shooting/2020-2021-Premier-League-Stats',\n",
       " 'passing-Premier-League-Stats': 'https://fbref.com/en/comps/9/2020-2021/passing/2020-2021-Premier-League-Stats',\n",
       " 'passing_types-Premier-League-Stats': 'https://fbref.com/en/comps/9/2020-2021/passing_types/2020-2021-Premier-League-Stats',\n",
       " 'gca-Premier-League-Stats': 'https://fbref.com/en/comps/9/2020-2021/gca/2020-2021-Premier-League-Stats',\n",
       " 'defense-Premier-League-Stats': 'https://fbref.com/en/comps/9/2020-2021/defense/2020-2021-Premier-League-Stats',\n",
       " 'possession-Premier-League-Stats': 'https://fbref.com/en/comps/9/2020-2021/possession/2020-2021-Premier-League-Stats',\n",
       " 'playingtime-Premier-League-Stats': 'https://fbref.com/en/comps/9/2020-2021/playingtime/2020-2021-Premier-League-Stats',\n",
       " 'misc-Premier-League-Stats': 'https://fbref.com/en/comps/9/2020-2021/misc/2020-2021-Premier-League-Stats',\n",
       " 'Premier-League-Stats': 'https://fbref.com/en/comps/9/2020-2021/2020-2021-Premier-League-Stats',\n",
       " 'Premier-League-Scores-and-Fixtures': 'https://fbref.com/en/comps/9/2020-2021/schedule/2020-2021-Premier-League-Scores-and-Fixtures',\n",
       " 'Premier-League-Nationalities': 'https://fbref.com/en/comps/9/2020-2021/nations/2020-2021-Premier-League-Nationalities',\n",
       " 'Premier-League-Wages': 'https://fbref.com/en/comps/9/2020-2021/wages/2020-2021-Premier-League-Wages',\n",
       " 'Previous Season': 'https://fbref.com-/en/comps/9/2019-2020/2019-2020-Premier-League-Stats',\n",
       " 'Next Season': 'https://fbref.com-/en/comps/9/2021-2022/2021-2022-Premier-League-Stats'}"
      ]
     },
     "execution_count": 158,
     "metadata": {},
     "output_type": "execute_result"
    }
   ],
   "source": [
    "link_dic"
   ]
  },
  {
   "cell_type": "markdown",
   "id": "f88af011",
   "metadata": {},
   "source": [
    "### Getting tags for previous and Next season."
   ]
  },
  {
   "cell_type": "code",
   "execution_count": 22,
   "id": "60909b6c",
   "metadata": {},
   "outputs": [],
   "source": [
    "# mydivs = soup.find_all(\"div\", {\"class\": \"stylelistrow\"})\n",
    "info = soup.find_all(\"div\",{\"class\": \"prevnext\"})"
   ]
  },
  {
   "cell_type": "code",
   "execution_count": 23,
   "id": "e7e7a4ec-e17c-4d16-9b1c-531ee4e82a30",
   "metadata": {},
   "outputs": [
    {
     "data": {
      "text/plain": [
       "[]"
      ]
     },
     "execution_count": 23,
     "metadata": {},
     "output_type": "execute_result"
    }
   ],
   "source": []
  },
  {
   "cell_type": "code",
   "execution_count": 15,
   "id": "48dbf02a",
   "metadata": {},
   "outputs": [
    {
     "ename": "IndexError",
     "evalue": "list index out of range",
     "output_type": "error",
     "traceback": [
      "\u001b[1;31m---------------------------------------------------------------------------\u001b[0m",
      "\u001b[1;31mIndexError\u001b[0m                                Traceback (most recent call last)",
      "Cell \u001b[1;32mIn[15], line 1\u001b[0m\n\u001b[1;32m----> 1\u001b[0m \u001b[38;5;28;01mfor\u001b[39;00m i \u001b[38;5;129;01min\u001b[39;00m content_to_list(info[\u001b[38;5;241m0\u001b[39m]\u001b[38;5;241m.\u001b[39mcontents):\n\u001b[0;32m      2\u001b[0m     link \u001b[38;5;241m=\u001b[39m \u001b[38;5;124mf\u001b[39m\u001b[38;5;124m\"\u001b[39m\u001b[38;5;132;01m{\u001b[39;00ml\u001b[38;5;132;01m}\u001b[39;00m\u001b[38;5;124m-\u001b[39m\u001b[38;5;132;01m{\u001b[39;00mi[\u001b[38;5;124m'\u001b[39m\u001b[38;5;124mhref\u001b[39m\u001b[38;5;124m'\u001b[39m]\u001b[38;5;132;01m}\u001b[39;00m\u001b[38;5;124m\"\u001b[39m\n\u001b[0;32m      3\u001b[0m     link_key \u001b[38;5;241m=\u001b[39m i\u001b[38;5;241m.\u001b[39mtext\n",
      "\u001b[1;31mIndexError\u001b[0m: list index out of range"
     ]
    }
   ],
   "source": [
    "for i in content_to_list(info[0].contents):\n",
    "    link = f\"{l}-{i['href']}\"\n",
    "    link_key = i.text\n",
    "    link_dic[link_key] = link\n",
    "    print(link_key)\n",
    "    print(link)"
   ]
  },
  {
   "cell_type": "code",
   "execution_count": 161,
   "id": "10166970",
   "metadata": {},
   "outputs": [
    {
     "data": {
      "text/plain": [
       "{'stats-Premier-League-Stats': 'https://fbref.com/en/comps/9/2020-2021/stats/2020-2021-Premier-League-Stats',\n",
       " 'keepers-Premier-League-Stats': 'https://fbref.com/en/comps/9/2020-2021/keepers/2020-2021-Premier-League-Stats',\n",
       " 'keepersadv-Premier-League-Stats': 'https://fbref.com/en/comps/9/2020-2021/keepersadv/2020-2021-Premier-League-Stats',\n",
       " 'shooting-Premier-League-Stats': 'https://fbref.com/en/comps/9/2020-2021/shooting/2020-2021-Premier-League-Stats',\n",
       " 'passing-Premier-League-Stats': 'https://fbref.com/en/comps/9/2020-2021/passing/2020-2021-Premier-League-Stats',\n",
       " 'passing_types-Premier-League-Stats': 'https://fbref.com/en/comps/9/2020-2021/passing_types/2020-2021-Premier-League-Stats',\n",
       " 'gca-Premier-League-Stats': 'https://fbref.com/en/comps/9/2020-2021/gca/2020-2021-Premier-League-Stats',\n",
       " 'defense-Premier-League-Stats': 'https://fbref.com/en/comps/9/2020-2021/defense/2020-2021-Premier-League-Stats',\n",
       " 'possession-Premier-League-Stats': 'https://fbref.com/en/comps/9/2020-2021/possession/2020-2021-Premier-League-Stats',\n",
       " 'playingtime-Premier-League-Stats': 'https://fbref.com/en/comps/9/2020-2021/playingtime/2020-2021-Premier-League-Stats',\n",
       " 'misc-Premier-League-Stats': 'https://fbref.com/en/comps/9/2020-2021/misc/2020-2021-Premier-League-Stats',\n",
       " 'Premier-League-Stats': 'https://fbref.com/en/comps/9/2020-2021/2020-2021-Premier-League-Stats',\n",
       " 'Premier-League-Scores-and-Fixtures': 'https://fbref.com/en/comps/9/2020-2021/schedule/2020-2021-Premier-League-Scores-and-Fixtures',\n",
       " 'Premier-League-Nationalities': 'https://fbref.com/en/comps/9/2020-2021/nations/2020-2021-Premier-League-Nationalities',\n",
       " 'Premier-League-Wages': 'https://fbref.com/en/comps/9/2020-2021/wages/2020-2021-Premier-League-Wages',\n",
       " 'Previous Season': 'https://fbref.com-/en/comps/9/2019-2020/2019-2020-Premier-League-Stats',\n",
       " 'Next Season': 'https://fbref.com-/en/comps/9/2021-2022/2021-2022-Premier-League-Stats'}"
      ]
     },
     "execution_count": 161,
     "metadata": {},
     "output_type": "execute_result"
    }
   ],
   "source": [
    "link_dic"
   ]
  },
  {
   "cell_type": "markdown",
   "id": "df33ddc8",
   "metadata": {},
   "source": [
    "#### Find the table tags from web page"
   ]
  },
  {
   "cell_type": "code",
   "execution_count": 24,
   "id": "00957f25",
   "metadata": {},
   "outputs": [],
   "source": [
    "table_tags = soup.find('table')"
   ]
  },
  {
   "cell_type": "code",
   "execution_count": null,
   "id": "0ab30797",
   "metadata": {},
   "outputs": [],
   "source": []
  },
  {
   "cell_type": "markdown",
   "id": "829774a5",
   "metadata": {},
   "source": [
    "#### Table head tags "
   ]
  },
  {
   "cell_type": "code",
   "execution_count": 20,
   "id": "ed213e49",
   "metadata": {},
   "outputs": [],
   "source": [
    "table_tags"
   ]
  },
  {
   "cell_type": "code",
   "execution_count": null,
   "id": "eecc60ae",
   "metadata": {},
   "outputs": [],
   "source": []
  },
  {
   "cell_type": "markdown",
   "id": "e33d47d5",
   "metadata": {},
   "source": [
    "#### Table body tags "
   ]
  },
  {
   "cell_type": "code",
   "execution_count": 18,
   "id": "bd850b00",
   "metadata": {},
   "outputs": [
    {
     "ename": "AttributeError",
     "evalue": "'NoneType' object has no attribute 'tbody'",
     "output_type": "error",
     "traceback": [
      "\u001b[1;31m---------------------------------------------------------------------------\u001b[0m",
      "\u001b[1;31mAttributeError\u001b[0m                            Traceback (most recent call last)",
      "Cell \u001b[1;32mIn[18], line 1\u001b[0m\n\u001b[1;32m----> 1\u001b[0m body_tags \u001b[38;5;241m=\u001b[39m table_tags\u001b[38;5;241m.\u001b[39mtbody\n",
      "\u001b[1;31mAttributeError\u001b[0m: 'NoneType' object has no attribute 'tbody'"
     ]
    }
   ],
   "source": [
    "body_tags = table_tags.tbody"
   ]
  },
  {
   "cell_type": "code",
   "execution_count": 19,
   "id": "12deba66",
   "metadata": {},
   "outputs": [
    {
     "data": {
      "text/plain": [
       "[<tr> <th aria-label=\"Rank\" class=\"poptip sort_default_asc center\" data-stat=\"rank\" data-tip=\"&lt;strong&gt;Rank&lt;/strong&gt;&lt;br&gt;Squad finish in competition&lt;br&gt;Finish within the league or competition.&lt;br&gt;For knockout competitions may show final round reached.&lt;br&gt;Colors and arrows represent promotion/relegation or qualifiation for continental cups.&lt;br&gt;Trophy indicates team won league whether by playoffs or by leading the table.&lt;br&gt;Star indicates topped table in league USING another means of naming champion.\" scope=\"col\">Rk</th> <th aria-label=\"Squad\" class=\"poptip sort_default_asc center\" data-stat=\"team\" scope=\"col\">Squad</th> <th aria-label=\"Matches Played\" class=\"poptip center\" data-stat=\"games\" data-tip=\"&lt;strong&gt;Matches Played&lt;/strong&gt;&lt;br&gt;Matches Played by the player or squad\" scope=\"col\">MP</th> <th aria-label=\"Wins\" class=\"poptip center\" data-stat=\"wins\" data-tip=\"&lt;strong&gt;Wins&lt;/strong&gt;&lt;br&gt;Wins\" scope=\"col\">W</th> <th aria-label=\"Draws\" class=\"poptip center\" data-stat=\"ties\" data-tip=\"&lt;strong&gt;Draws&lt;/strong&gt;&lt;br&gt;Draws\" scope=\"col\">D</th> <th aria-label=\"Losses\" class=\"poptip center\" data-stat=\"losses\" data-tip=\"&lt;strong&gt;Losses&lt;/strong&gt;&lt;br&gt;Losses\" scope=\"col\">L</th> <th aria-label=\"Goals For\" class=\"poptip center\" data-stat=\"goals_for\" data-tip=\"&lt;strong&gt;Goals For&lt;/strong&gt;&lt;br&gt;Goals For\" scope=\"col\">GF</th> <th aria-label=\"Goals Against\" class=\"poptip center\" data-stat=\"goals_against\" data-tip=\"&lt;strong&gt;Goals Against&lt;/strong&gt;&lt;br&gt;Goals Against\" scope=\"col\">GA</th> <th aria-label=\"Goal Difference\" class=\"poptip center\" data-stat=\"goal_diff\" data-tip=\"&lt;strong&gt;Goal Difference&lt;/strong&gt;&lt;br&gt;Goal Difference\" scope=\"col\">GD</th> <th aria-label=\"Points\" class=\"poptip center\" data-stat=\"points\" data-tip=\"&lt;strong&gt;Points&lt;/strong&gt;&lt;br&gt;Most leagues are ordered by points.&lt;br&gt;Three for a win and one for a draw.\" scope=\"col\">Pts</th> <th aria-label=\"Points/Game\" class=\"poptip center\" data-stat=\"points_avg\" data-tip=\"&lt;strong&gt;Points/Game&lt;/strong&gt;&lt;br&gt;Points per Match Played\" scope=\"col\">Pts/MP</th> <th aria-label=\"xG\" class=\"poptip center\" data-filter=\"1\" data-name=\"xG\" data-stat=\"xg_for\" data-tip=\"&lt;strong&gt;Expected Goals&lt;/strong&gt;&lt;br&gt;xG totals include penalty kicks, but do not include penalty shootouts (unless otherwise noted).&lt;br&gt;Provided by Opta.&lt;br&gt;An underline indicates there is a match that is missing data, but will be updated when available.\" scope=\"col\">xG</th> <th aria-label=\"xG Allowed\" class=\"poptip sort_default_asc center\" data-stat=\"xg_against\" data-tip=\"&lt;strong&gt;xG Allowed&lt;/strong&gt;&lt;br&gt;&lt;strong&gt;Expected Goals Allowed&lt;/strong&gt;&lt;br&gt;xG totals include penalty kicks, but do not include penalty shootouts (unless otherwise noted).&lt;br&gt;Provided by Opta.&lt;br&gt;An underline indicates there is a match that is missing data, but will be updated when available.\" scope=\"col\">xGA</th> <th aria-label=\"xG Difference\" class=\"poptip center\" data-filter=\"1\" data-name=\"xG Difference\" data-stat=\"xg_diff\" data-tip=\"&lt;strong&gt;xG Difference&lt;/strong&gt;&lt;br&gt;&lt;strong&gt;Expected Goals Difference&lt;/strong&gt;&lt;br&gt;xG totals include penalty kicks, but do not include penalty shootouts (unless otherwise noted).&lt;br&gt;Provided by Opta.&lt;br&gt;An underline indicates there is a match that is missing data, but will be updated when available.\" scope=\"col\">xGD</th> <th aria-label=\"xG Difference/90\" class=\"poptip hide_non_quals center\" data-stat=\"xg_diff_per90\" data-tip=\"&lt;strong&gt;xG Difference/90&lt;/strong&gt;&lt;br&gt;&lt;strong&gt;Expected Goals Difference per 90 Minutes&lt;/strong&gt;&lt;br&gt;xG totals include penalty kicks, but do not include penalty shootouts (unless otherwise noted).&lt;br&gt;Provided by Opta.&lt;br&gt;An underline indicates there is a match that is missing data, but will be updated when available.\" scope=\"col\">xGD/90</th> <th aria-label=\"Attendance/Game\" class=\"poptip center\" data-stat=\"attendance_per_g\" data-tip=\"&lt;strong&gt;Attendance/Game&lt;/strong&gt;&lt;br&gt;Attendance per game during this season, only for home matches\" scope=\"col\">Attendance</th> <th aria-label=\"Top Team Scorer\" class=\"poptip center\" data-stat=\"top_team_scorers\" data-tip=\"Only includes league matches for that season\" scope=\"col\">Top Team Scorer</th> <th aria-label=\"Goalkeeper\" class=\"poptip center\" data-stat=\"top_keeper\" data-tip=\"Goalkeeper with the most minutes in league play\" scope=\"col\">Goalkeeper</th> <th aria-label=\"Notes\" class=\"poptip center\" data-stat=\"notes\" scope=\"col\">Notes</th> </tr>]"
      ]
     },
     "execution_count": 19,
     "metadata": {},
     "output_type": "execute_result"
    }
   ],
   "source": [
    "content_to_list(table_tags.thead.contents)"
   ]
  },
  {
   "cell_type": "code",
   "execution_count": 20,
   "id": "220000f3",
   "metadata": {},
   "outputs": [],
   "source": [
    "table_header_tags = content_to_list(table_tags.thead.contents)"
   ]
  },
  {
   "cell_type": "code",
   "execution_count": 21,
   "id": "dfa7ed33",
   "metadata": {},
   "outputs": [
    {
     "data": {
      "text/plain": [
       "[<tr> <th aria-label=\"Rank\" class=\"poptip sort_default_asc center\" data-stat=\"rank\" data-tip=\"&lt;strong&gt;Rank&lt;/strong&gt;&lt;br&gt;Squad finish in competition&lt;br&gt;Finish within the league or competition.&lt;br&gt;For knockout competitions may show final round reached.&lt;br&gt;Colors and arrows represent promotion/relegation or qualifiation for continental cups.&lt;br&gt;Trophy indicates team won league whether by playoffs or by leading the table.&lt;br&gt;Star indicates topped table in league USING another means of naming champion.\" scope=\"col\">Rk</th> <th aria-label=\"Squad\" class=\"poptip sort_default_asc center\" data-stat=\"team\" scope=\"col\">Squad</th> <th aria-label=\"Matches Played\" class=\"poptip center\" data-stat=\"games\" data-tip=\"&lt;strong&gt;Matches Played&lt;/strong&gt;&lt;br&gt;Matches Played by the player or squad\" scope=\"col\">MP</th> <th aria-label=\"Wins\" class=\"poptip center\" data-stat=\"wins\" data-tip=\"&lt;strong&gt;Wins&lt;/strong&gt;&lt;br&gt;Wins\" scope=\"col\">W</th> <th aria-label=\"Draws\" class=\"poptip center\" data-stat=\"ties\" data-tip=\"&lt;strong&gt;Draws&lt;/strong&gt;&lt;br&gt;Draws\" scope=\"col\">D</th> <th aria-label=\"Losses\" class=\"poptip center\" data-stat=\"losses\" data-tip=\"&lt;strong&gt;Losses&lt;/strong&gt;&lt;br&gt;Losses\" scope=\"col\">L</th> <th aria-label=\"Goals For\" class=\"poptip center\" data-stat=\"goals_for\" data-tip=\"&lt;strong&gt;Goals For&lt;/strong&gt;&lt;br&gt;Goals For\" scope=\"col\">GF</th> <th aria-label=\"Goals Against\" class=\"poptip center\" data-stat=\"goals_against\" data-tip=\"&lt;strong&gt;Goals Against&lt;/strong&gt;&lt;br&gt;Goals Against\" scope=\"col\">GA</th> <th aria-label=\"Goal Difference\" class=\"poptip center\" data-stat=\"goal_diff\" data-tip=\"&lt;strong&gt;Goal Difference&lt;/strong&gt;&lt;br&gt;Goal Difference\" scope=\"col\">GD</th> <th aria-label=\"Points\" class=\"poptip center\" data-stat=\"points\" data-tip=\"&lt;strong&gt;Points&lt;/strong&gt;&lt;br&gt;Most leagues are ordered by points.&lt;br&gt;Three for a win and one for a draw.\" scope=\"col\">Pts</th> <th aria-label=\"Points/Game\" class=\"poptip center\" data-stat=\"points_avg\" data-tip=\"&lt;strong&gt;Points/Game&lt;/strong&gt;&lt;br&gt;Points per Match Played\" scope=\"col\">Pts/MP</th> <th aria-label=\"xG\" class=\"poptip center\" data-filter=\"1\" data-name=\"xG\" data-stat=\"xg_for\" data-tip=\"&lt;strong&gt;Expected Goals&lt;/strong&gt;&lt;br&gt;xG totals include penalty kicks, but do not include penalty shootouts (unless otherwise noted).&lt;br&gt;Provided by Opta.&lt;br&gt;An underline indicates there is a match that is missing data, but will be updated when available.\" scope=\"col\">xG</th> <th aria-label=\"xG Allowed\" class=\"poptip sort_default_asc center\" data-stat=\"xg_against\" data-tip=\"&lt;strong&gt;xG Allowed&lt;/strong&gt;&lt;br&gt;&lt;strong&gt;Expected Goals Allowed&lt;/strong&gt;&lt;br&gt;xG totals include penalty kicks, but do not include penalty shootouts (unless otherwise noted).&lt;br&gt;Provided by Opta.&lt;br&gt;An underline indicates there is a match that is missing data, but will be updated when available.\" scope=\"col\">xGA</th> <th aria-label=\"xG Difference\" class=\"poptip center\" data-filter=\"1\" data-name=\"xG Difference\" data-stat=\"xg_diff\" data-tip=\"&lt;strong&gt;xG Difference&lt;/strong&gt;&lt;br&gt;&lt;strong&gt;Expected Goals Difference&lt;/strong&gt;&lt;br&gt;xG totals include penalty kicks, but do not include penalty shootouts (unless otherwise noted).&lt;br&gt;Provided by Opta.&lt;br&gt;An underline indicates there is a match that is missing data, but will be updated when available.\" scope=\"col\">xGD</th> <th aria-label=\"xG Difference/90\" class=\"poptip hide_non_quals center\" data-stat=\"xg_diff_per90\" data-tip=\"&lt;strong&gt;xG Difference/90&lt;/strong&gt;&lt;br&gt;&lt;strong&gt;Expected Goals Difference per 90 Minutes&lt;/strong&gt;&lt;br&gt;xG totals include penalty kicks, but do not include penalty shootouts (unless otherwise noted).&lt;br&gt;Provided by Opta.&lt;br&gt;An underline indicates there is a match that is missing data, but will be updated when available.\" scope=\"col\">xGD/90</th> <th aria-label=\"Attendance/Game\" class=\"poptip center\" data-stat=\"attendance_per_g\" data-tip=\"&lt;strong&gt;Attendance/Game&lt;/strong&gt;&lt;br&gt;Attendance per game during this season, only for home matches\" scope=\"col\">Attendance</th> <th aria-label=\"Top Team Scorer\" class=\"poptip center\" data-stat=\"top_team_scorers\" data-tip=\"Only includes league matches for that season\" scope=\"col\">Top Team Scorer</th> <th aria-label=\"Goalkeeper\" class=\"poptip center\" data-stat=\"top_keeper\" data-tip=\"Goalkeeper with the most minutes in league play\" scope=\"col\">Goalkeeper</th> <th aria-label=\"Notes\" class=\"poptip center\" data-stat=\"notes\" scope=\"col\">Notes</th> </tr>]"
      ]
     },
     "execution_count": 21,
     "metadata": {},
     "output_type": "execute_result"
    }
   ],
   "source": [
    "table_header_tags"
   ]
  },
  {
   "cell_type": "markdown",
   "id": "89ce0915",
   "metadata": {},
   "source": [
    "#### Creating a list containing the table headers"
   ]
  },
  {
   "cell_type": "code",
   "execution_count": 22,
   "id": "7fe4877e",
   "metadata": {},
   "outputs": [],
   "source": [
    "table_header_tags = table_header_tags[0]"
   ]
  },
  {
   "cell_type": "code",
   "execution_count": 23,
   "id": "d4d92fbc",
   "metadata": {},
   "outputs": [],
   "source": [
    "table_header_tags = content_to_list(table_header_tags.contents)"
   ]
  },
  {
   "cell_type": "code",
   "execution_count": 24,
   "id": "2654713f",
   "metadata": {},
   "outputs": [],
   "source": [
    "list_of_table_header = []\n",
    "for i in table_header_tags:\n",
    "    list_of_table_header.append(i.text)"
   ]
  },
  {
   "cell_type": "code",
   "execution_count": 25,
   "id": "35ea3223",
   "metadata": {},
   "outputs": [
    {
     "data": {
      "text/plain": [
       "['Rk',\n",
       " 'Squad',\n",
       " 'MP',\n",
       " 'W',\n",
       " 'D',\n",
       " 'L',\n",
       " 'GF',\n",
       " 'GA',\n",
       " 'GD',\n",
       " 'Pts',\n",
       " 'Pts/MP',\n",
       " 'xG',\n",
       " 'xGA',\n",
       " 'xGD',\n",
       " 'xGD/90',\n",
       " 'Attendance',\n",
       " 'Top Team Scorer',\n",
       " 'Goalkeeper',\n",
       " 'Notes']"
      ]
     },
     "execution_count": 25,
     "metadata": {},
     "output_type": "execute_result"
    }
   ],
   "source": [
    "list_of_table_header"
   ]
  },
  {
   "cell_type": "markdown",
   "id": "b0aafc02",
   "metadata": {},
   "source": [
    "#### Creating a list of content of table body"
   ]
  },
  {
   "cell_type": "code",
   "execution_count": 26,
   "id": "b4583b67",
   "metadata": {},
   "outputs": [],
   "source": [
    "table_body_tags = content_to_list(table_tags.tbody.contents)"
   ]
  },
  {
   "cell_type": "markdown",
   "id": "dd3a7e1b",
   "metadata": {},
   "source": [
    "#### Creating a dictionary of table "
   ]
  },
  {
   "cell_type": "code",
   "execution_count": 27,
   "id": "93b93bf9",
   "metadata": {},
   "outputs": [],
   "source": [
    "header_dictionary = create_dictionary(list_of_table_header)"
   ]
  },
  {
   "cell_type": "code",
   "execution_count": 28,
   "id": "95d20e73",
   "metadata": {},
   "outputs": [],
   "source": [
    "for i in table_body_tags:\n",
    "    team_detail = text_extract_from_contents(i.contents)\n",
    "    for j in range(len(header_dictionary)):\n",
    "        header_dictionary[list_of_table_header[j]].append(team_detail[j])\n",
    "        "
   ]
  },
  {
   "cell_type": "code",
   "execution_count": 29,
   "id": "4c102518",
   "metadata": {},
   "outputs": [
    {
     "data": {
      "text/html": [
       "<div>\n",
       "<style scoped>\n",
       "    .dataframe tbody tr th:only-of-type {\n",
       "        vertical-align: middle;\n",
       "    }\n",
       "\n",
       "    .dataframe tbody tr th {\n",
       "        vertical-align: top;\n",
       "    }\n",
       "\n",
       "    .dataframe thead th {\n",
       "        text-align: right;\n",
       "    }\n",
       "</style>\n",
       "<table border=\"1\" class=\"dataframe\">\n",
       "  <thead>\n",
       "    <tr style=\"text-align: right;\">\n",
       "      <th></th>\n",
       "      <th>Rk</th>\n",
       "      <th>Squad</th>\n",
       "      <th>MP</th>\n",
       "      <th>W</th>\n",
       "      <th>D</th>\n",
       "      <th>L</th>\n",
       "      <th>GF</th>\n",
       "      <th>GA</th>\n",
       "      <th>GD</th>\n",
       "      <th>Pts</th>\n",
       "      <th>Pts/MP</th>\n",
       "      <th>xG</th>\n",
       "      <th>xGA</th>\n",
       "      <th>xGD</th>\n",
       "      <th>xGD/90</th>\n",
       "      <th>Attendance</th>\n",
       "      <th>Top Team Scorer</th>\n",
       "      <th>Goalkeeper</th>\n",
       "      <th>Notes</th>\n",
       "    </tr>\n",
       "  </thead>\n",
       "  <tbody>\n",
       "    <tr>\n",
       "      <th>0</th>\n",
       "      <td>1</td>\n",
       "      <td>Manchester City</td>\n",
       "      <td>38</td>\n",
       "      <td>28</td>\n",
       "      <td>5</td>\n",
       "      <td>5</td>\n",
       "      <td>94</td>\n",
       "      <td>33</td>\n",
       "      <td>+61</td>\n",
       "      <td>89</td>\n",
       "      <td>2.34</td>\n",
       "      <td>78.7</td>\n",
       "      <td>32.1</td>\n",
       "      <td>+46.6</td>\n",
       "      <td>+1.23</td>\n",
       "      <td>53,249</td>\n",
       "      <td>Erling Haaland - 36</td>\n",
       "      <td>Ederson</td>\n",
       "      <td>→ Champions League via league finish</td>\n",
       "    </tr>\n",
       "    <tr>\n",
       "      <th>1</th>\n",
       "      <td>2</td>\n",
       "      <td>Arsenal</td>\n",
       "      <td>38</td>\n",
       "      <td>26</td>\n",
       "      <td>6</td>\n",
       "      <td>6</td>\n",
       "      <td>88</td>\n",
       "      <td>43</td>\n",
       "      <td>+45</td>\n",
       "      <td>84</td>\n",
       "      <td>2.21</td>\n",
       "      <td>71.9</td>\n",
       "      <td>42.0</td>\n",
       "      <td>+29.9</td>\n",
       "      <td>+0.79</td>\n",
       "      <td>60,191</td>\n",
       "      <td>Martin Ødegaard, Martinelli - 15</td>\n",
       "      <td>Aaron Ramsdale</td>\n",
       "      <td>→ Champions League via league finish</td>\n",
       "    </tr>\n",
       "    <tr>\n",
       "      <th>2</th>\n",
       "      <td>3</td>\n",
       "      <td>Manchester Utd</td>\n",
       "      <td>38</td>\n",
       "      <td>23</td>\n",
       "      <td>6</td>\n",
       "      <td>9</td>\n",
       "      <td>58</td>\n",
       "      <td>43</td>\n",
       "      <td>+15</td>\n",
       "      <td>75</td>\n",
       "      <td>1.97</td>\n",
       "      <td>67.7</td>\n",
       "      <td>50.4</td>\n",
       "      <td>+17.3</td>\n",
       "      <td>+0.45</td>\n",
       "      <td>73,671</td>\n",
       "      <td>Marcus Rashford - 17</td>\n",
       "      <td>David de Gea</td>\n",
       "      <td>→ Champions League via league finish</td>\n",
       "    </tr>\n",
       "    <tr>\n",
       "      <th>3</th>\n",
       "      <td>4</td>\n",
       "      <td>Newcastle Utd</td>\n",
       "      <td>38</td>\n",
       "      <td>19</td>\n",
       "      <td>14</td>\n",
       "      <td>5</td>\n",
       "      <td>68</td>\n",
       "      <td>33</td>\n",
       "      <td>+35</td>\n",
       "      <td>71</td>\n",
       "      <td>1.87</td>\n",
       "      <td>72.0</td>\n",
       "      <td>39.6</td>\n",
       "      <td>+32.4</td>\n",
       "      <td>+0.85</td>\n",
       "      <td>52,127</td>\n",
       "      <td>Callum Wilson - 18</td>\n",
       "      <td>Nick Pope</td>\n",
       "      <td>→ Champions League via league finish</td>\n",
       "    </tr>\n",
       "    <tr>\n",
       "      <th>4</th>\n",
       "      <td>5</td>\n",
       "      <td>Liverpool</td>\n",
       "      <td>38</td>\n",
       "      <td>19</td>\n",
       "      <td>10</td>\n",
       "      <td>9</td>\n",
       "      <td>75</td>\n",
       "      <td>47</td>\n",
       "      <td>+28</td>\n",
       "      <td>67</td>\n",
       "      <td>1.76</td>\n",
       "      <td>72.6</td>\n",
       "      <td>50.9</td>\n",
       "      <td>+21.7</td>\n",
       "      <td>+0.57</td>\n",
       "      <td>53,163</td>\n",
       "      <td>Mohamed Salah - 19</td>\n",
       "      <td>Alisson</td>\n",
       "      <td>→ Europa League via league finish</td>\n",
       "    </tr>\n",
       "    <tr>\n",
       "      <th>5</th>\n",
       "      <td>6</td>\n",
       "      <td>Brighton</td>\n",
       "      <td>38</td>\n",
       "      <td>18</td>\n",
       "      <td>8</td>\n",
       "      <td>12</td>\n",
       "      <td>72</td>\n",
       "      <td>53</td>\n",
       "      <td>+19</td>\n",
       "      <td>62</td>\n",
       "      <td>1.63</td>\n",
       "      <td>73.3</td>\n",
       "      <td>50.2</td>\n",
       "      <td>+23.1</td>\n",
       "      <td>+0.61</td>\n",
       "      <td>31,477</td>\n",
       "      <td>Alexis Mac Allister - 10</td>\n",
       "      <td>Robert Sánchez</td>\n",
       "      <td>→ Europa League via league finish</td>\n",
       "    </tr>\n",
       "    <tr>\n",
       "      <th>6</th>\n",
       "      <td>7</td>\n",
       "      <td>Aston Villa</td>\n",
       "      <td>38</td>\n",
       "      <td>18</td>\n",
       "      <td>7</td>\n",
       "      <td>13</td>\n",
       "      <td>51</td>\n",
       "      <td>46</td>\n",
       "      <td>+5</td>\n",
       "      <td>61</td>\n",
       "      <td>1.61</td>\n",
       "      <td>50.2</td>\n",
       "      <td>52.5</td>\n",
       "      <td>-2.2</td>\n",
       "      <td>-0.06</td>\n",
       "      <td>39,485</td>\n",
       "      <td>Ollie Watkins - 15</td>\n",
       "      <td>Emiliano Martínez</td>\n",
       "      <td>→ Europa Conference League via league finish</td>\n",
       "    </tr>\n",
       "    <tr>\n",
       "      <th>7</th>\n",
       "      <td>8</td>\n",
       "      <td>Tottenham</td>\n",
       "      <td>38</td>\n",
       "      <td>18</td>\n",
       "      <td>6</td>\n",
       "      <td>14</td>\n",
       "      <td>70</td>\n",
       "      <td>63</td>\n",
       "      <td>+7</td>\n",
       "      <td>60</td>\n",
       "      <td>1.58</td>\n",
       "      <td>57.1</td>\n",
       "      <td>49.7</td>\n",
       "      <td>+7.4</td>\n",
       "      <td>+0.20</td>\n",
       "      <td>61,585</td>\n",
       "      <td>Harry Kane - 30</td>\n",
       "      <td>Hugo Lloris</td>\n",
       "      <td></td>\n",
       "    </tr>\n",
       "    <tr>\n",
       "      <th>8</th>\n",
       "      <td>9</td>\n",
       "      <td>Brentford</td>\n",
       "      <td>38</td>\n",
       "      <td>15</td>\n",
       "      <td>14</td>\n",
       "      <td>9</td>\n",
       "      <td>58</td>\n",
       "      <td>46</td>\n",
       "      <td>+12</td>\n",
       "      <td>59</td>\n",
       "      <td>1.55</td>\n",
       "      <td>56.8</td>\n",
       "      <td>49.9</td>\n",
       "      <td>+6.8</td>\n",
       "      <td>+0.18</td>\n",
       "      <td>17,078</td>\n",
       "      <td>Ivan Toney - 20</td>\n",
       "      <td>David Raya</td>\n",
       "      <td></td>\n",
       "    </tr>\n",
       "    <tr>\n",
       "      <th>9</th>\n",
       "      <td>10</td>\n",
       "      <td>Fulham</td>\n",
       "      <td>38</td>\n",
       "      <td>15</td>\n",
       "      <td>7</td>\n",
       "      <td>16</td>\n",
       "      <td>55</td>\n",
       "      <td>53</td>\n",
       "      <td>+2</td>\n",
       "      <td>52</td>\n",
       "      <td>1.37</td>\n",
       "      <td>46.2</td>\n",
       "      <td>63.8</td>\n",
       "      <td>-17.6</td>\n",
       "      <td>-0.46</td>\n",
       "      <td>23,746</td>\n",
       "      <td>Aleksandar Mitrović - 14</td>\n",
       "      <td>Bernd Leno</td>\n",
       "      <td></td>\n",
       "    </tr>\n",
       "    <tr>\n",
       "      <th>10</th>\n",
       "      <td>11</td>\n",
       "      <td>Crystal Palace</td>\n",
       "      <td>38</td>\n",
       "      <td>11</td>\n",
       "      <td>12</td>\n",
       "      <td>15</td>\n",
       "      <td>40</td>\n",
       "      <td>49</td>\n",
       "      <td>-9</td>\n",
       "      <td>45</td>\n",
       "      <td>1.18</td>\n",
       "      <td>39.3</td>\n",
       "      <td>48.1</td>\n",
       "      <td>-8.8</td>\n",
       "      <td>-0.23</td>\n",
       "      <td>24,952</td>\n",
       "      <td>Eberechi Eze - 10</td>\n",
       "      <td>Vicente Guaita</td>\n",
       "      <td></td>\n",
       "    </tr>\n",
       "    <tr>\n",
       "      <th>11</th>\n",
       "      <td>12</td>\n",
       "      <td>Chelsea</td>\n",
       "      <td>38</td>\n",
       "      <td>11</td>\n",
       "      <td>11</td>\n",
       "      <td>16</td>\n",
       "      <td>38</td>\n",
       "      <td>47</td>\n",
       "      <td>-9</td>\n",
       "      <td>44</td>\n",
       "      <td>1.16</td>\n",
       "      <td>49.5</td>\n",
       "      <td>52.5</td>\n",
       "      <td>-3.0</td>\n",
       "      <td>-0.08</td>\n",
       "      <td>40,002</td>\n",
       "      <td>Kai Havertz - 7</td>\n",
       "      <td>Kepa Arrizabalaga</td>\n",
       "      <td></td>\n",
       "    </tr>\n",
       "    <tr>\n",
       "      <th>12</th>\n",
       "      <td>13</td>\n",
       "      <td>Wolves</td>\n",
       "      <td>38</td>\n",
       "      <td>11</td>\n",
       "      <td>8</td>\n",
       "      <td>19</td>\n",
       "      <td>31</td>\n",
       "      <td>58</td>\n",
       "      <td>-27</td>\n",
       "      <td>41</td>\n",
       "      <td>1.08</td>\n",
       "      <td>36.8</td>\n",
       "      <td>59.9</td>\n",
       "      <td>-23.1</td>\n",
       "      <td>-0.61</td>\n",
       "      <td>31,482</td>\n",
       "      <td>Rúben Neves, Daniel Podence - 6</td>\n",
       "      <td>José Sá</td>\n",
       "      <td></td>\n",
       "    </tr>\n",
       "    <tr>\n",
       "      <th>13</th>\n",
       "      <td>14</td>\n",
       "      <td>West Ham</td>\n",
       "      <td>38</td>\n",
       "      <td>11</td>\n",
       "      <td>7</td>\n",
       "      <td>20</td>\n",
       "      <td>42</td>\n",
       "      <td>55</td>\n",
       "      <td>-13</td>\n",
       "      <td>40</td>\n",
       "      <td>1.05</td>\n",
       "      <td>49.2</td>\n",
       "      <td>53.0</td>\n",
       "      <td>-3.9</td>\n",
       "      <td>-0.10</td>\n",
       "      <td>62,462</td>\n",
       "      <td>Saïd Benrahma, Jarrod Bowen - 6</td>\n",
       "      <td>Łukasz Fabiański</td>\n",
       "      <td></td>\n",
       "    </tr>\n",
       "    <tr>\n",
       "      <th>14</th>\n",
       "      <td>15</td>\n",
       "      <td>Bournemouth</td>\n",
       "      <td>38</td>\n",
       "      <td>11</td>\n",
       "      <td>6</td>\n",
       "      <td>21</td>\n",
       "      <td>37</td>\n",
       "      <td>71</td>\n",
       "      <td>-34</td>\n",
       "      <td>39</td>\n",
       "      <td>1.03</td>\n",
       "      <td>38.6</td>\n",
       "      <td>63.9</td>\n",
       "      <td>-25.3</td>\n",
       "      <td>-0.67</td>\n",
       "      <td>10,362</td>\n",
       "      <td>Philip Billing - 7</td>\n",
       "      <td>Neto</td>\n",
       "      <td></td>\n",
       "    </tr>\n",
       "    <tr>\n",
       "      <th>15</th>\n",
       "      <td>16</td>\n",
       "      <td>Nott'ham Forest</td>\n",
       "      <td>38</td>\n",
       "      <td>9</td>\n",
       "      <td>11</td>\n",
       "      <td>18</td>\n",
       "      <td>38</td>\n",
       "      <td>68</td>\n",
       "      <td>-30</td>\n",
       "      <td>38</td>\n",
       "      <td>1.00</td>\n",
       "      <td>39.3</td>\n",
       "      <td>64.2</td>\n",
       "      <td>-24.9</td>\n",
       "      <td>-0.66</td>\n",
       "      <td>29,188</td>\n",
       "      <td>Taiwo Awoniyi - 10</td>\n",
       "      <td>Dean Henderson</td>\n",
       "      <td></td>\n",
       "    </tr>\n",
       "    <tr>\n",
       "      <th>16</th>\n",
       "      <td>17</td>\n",
       "      <td>Everton</td>\n",
       "      <td>38</td>\n",
       "      <td>8</td>\n",
       "      <td>12</td>\n",
       "      <td>18</td>\n",
       "      <td>34</td>\n",
       "      <td>57</td>\n",
       "      <td>-23</td>\n",
       "      <td>36</td>\n",
       "      <td>0.95</td>\n",
       "      <td>45.2</td>\n",
       "      <td>65.7</td>\n",
       "      <td>-20.5</td>\n",
       "      <td>-0.54</td>\n",
       "      <td>39,243</td>\n",
       "      <td>Dwight McNeil - 7</td>\n",
       "      <td>Jordan Pickford</td>\n",
       "      <td></td>\n",
       "    </tr>\n",
       "    <tr>\n",
       "      <th>17</th>\n",
       "      <td>18</td>\n",
       "      <td>Leicester City</td>\n",
       "      <td>38</td>\n",
       "      <td>9</td>\n",
       "      <td>7</td>\n",
       "      <td>22</td>\n",
       "      <td>51</td>\n",
       "      <td>68</td>\n",
       "      <td>-17</td>\n",
       "      <td>34</td>\n",
       "      <td>0.89</td>\n",
       "      <td>50.6</td>\n",
       "      <td>63.4</td>\n",
       "      <td>-12.8</td>\n",
       "      <td>-0.34</td>\n",
       "      <td>31,887</td>\n",
       "      <td>Harvey Barnes - 13</td>\n",
       "      <td>Danny Ward</td>\n",
       "      <td>Relegated</td>\n",
       "    </tr>\n",
       "    <tr>\n",
       "      <th>18</th>\n",
       "      <td>19</td>\n",
       "      <td>Leeds United</td>\n",
       "      <td>38</td>\n",
       "      <td>7</td>\n",
       "      <td>10</td>\n",
       "      <td>21</td>\n",
       "      <td>48</td>\n",
       "      <td>78</td>\n",
       "      <td>-30</td>\n",
       "      <td>31</td>\n",
       "      <td>0.82</td>\n",
       "      <td>47.4</td>\n",
       "      <td>67.2</td>\n",
       "      <td>-19.8</td>\n",
       "      <td>-0.52</td>\n",
       "      <td>36,566</td>\n",
       "      <td>Rodrigo - 13</td>\n",
       "      <td>Illan Meslier</td>\n",
       "      <td>Relegated</td>\n",
       "    </tr>\n",
       "    <tr>\n",
       "      <th>19</th>\n",
       "      <td>20</td>\n",
       "      <td>Southampton</td>\n",
       "      <td>38</td>\n",
       "      <td>6</td>\n",
       "      <td>7</td>\n",
       "      <td>25</td>\n",
       "      <td>36</td>\n",
       "      <td>73</td>\n",
       "      <td>-37</td>\n",
       "      <td>25</td>\n",
       "      <td>0.66</td>\n",
       "      <td>37.7</td>\n",
       "      <td>61.0</td>\n",
       "      <td>-23.3</td>\n",
       "      <td>-0.61</td>\n",
       "      <td>30,440</td>\n",
       "      <td>James Ward-Prowse - 9</td>\n",
       "      <td>Gavin Bazunu</td>\n",
       "      <td>Relegated</td>\n",
       "    </tr>\n",
       "  </tbody>\n",
       "</table>\n",
       "</div>"
      ],
      "text/plain": [
       "    Rk             Squad  MP   W   D   L  GF  GA   GD Pts Pts/MP    xG   xGA  \\\n",
       "0    1   Manchester City  38  28   5   5  94  33  +61  89   2.34  78.7  32.1   \n",
       "1    2           Arsenal  38  26   6   6  88  43  +45  84   2.21  71.9  42.0   \n",
       "2    3    Manchester Utd  38  23   6   9  58  43  +15  75   1.97  67.7  50.4   \n",
       "3    4     Newcastle Utd  38  19  14   5  68  33  +35  71   1.87  72.0  39.6   \n",
       "4    5         Liverpool  38  19  10   9  75  47  +28  67   1.76  72.6  50.9   \n",
       "5    6          Brighton  38  18   8  12  72  53  +19  62   1.63  73.3  50.2   \n",
       "6    7       Aston Villa  38  18   7  13  51  46   +5  61   1.61  50.2  52.5   \n",
       "7    8         Tottenham  38  18   6  14  70  63   +7  60   1.58  57.1  49.7   \n",
       "8    9         Brentford  38  15  14   9  58  46  +12  59   1.55  56.8  49.9   \n",
       "9   10            Fulham  38  15   7  16  55  53   +2  52   1.37  46.2  63.8   \n",
       "10  11    Crystal Palace  38  11  12  15  40  49   -9  45   1.18  39.3  48.1   \n",
       "11  12           Chelsea  38  11  11  16  38  47   -9  44   1.16  49.5  52.5   \n",
       "12  13            Wolves  38  11   8  19  31  58  -27  41   1.08  36.8  59.9   \n",
       "13  14          West Ham  38  11   7  20  42  55  -13  40   1.05  49.2  53.0   \n",
       "14  15       Bournemouth  38  11   6  21  37  71  -34  39   1.03  38.6  63.9   \n",
       "15  16   Nott'ham Forest  38   9  11  18  38  68  -30  38   1.00  39.3  64.2   \n",
       "16  17           Everton  38   8  12  18  34  57  -23  36   0.95  45.2  65.7   \n",
       "17  18    Leicester City  38   9   7  22  51  68  -17  34   0.89  50.6  63.4   \n",
       "18  19      Leeds United  38   7  10  21  48  78  -30  31   0.82  47.4  67.2   \n",
       "19  20       Southampton  38   6   7  25  36  73  -37  25   0.66  37.7  61.0   \n",
       "\n",
       "      xGD xGD/90 Attendance                   Top Team Scorer  \\\n",
       "0   +46.6  +1.23     53,249               Erling Haaland - 36   \n",
       "1   +29.9  +0.79     60,191  Martin Ødegaard, Martinelli - 15   \n",
       "2   +17.3  +0.45     73,671              Marcus Rashford - 17   \n",
       "3   +32.4  +0.85     52,127                Callum Wilson - 18   \n",
       "4   +21.7  +0.57     53,163                Mohamed Salah - 19   \n",
       "5   +23.1  +0.61     31,477          Alexis Mac Allister - 10   \n",
       "6    -2.2  -0.06     39,485                Ollie Watkins - 15   \n",
       "7    +7.4  +0.20     61,585                   Harry Kane - 30   \n",
       "8    +6.8  +0.18     17,078                   Ivan Toney - 20   \n",
       "9   -17.6  -0.46     23,746          Aleksandar Mitrović - 14   \n",
       "10   -8.8  -0.23     24,952                 Eberechi Eze - 10   \n",
       "11   -3.0  -0.08     40,002                   Kai Havertz - 7   \n",
       "12  -23.1  -0.61     31,482   Rúben Neves, Daniel Podence - 6   \n",
       "13   -3.9  -0.10     62,462   Saïd Benrahma, Jarrod Bowen - 6   \n",
       "14  -25.3  -0.67     10,362                Philip Billing - 7   \n",
       "15  -24.9  -0.66     29,188                Taiwo Awoniyi - 10   \n",
       "16  -20.5  -0.54     39,243                 Dwight McNeil - 7   \n",
       "17  -12.8  -0.34     31,887                Harvey Barnes - 13   \n",
       "18  -19.8  -0.52     36,566                      Rodrigo - 13   \n",
       "19  -23.3  -0.61     30,440             James Ward-Prowse - 9   \n",
       "\n",
       "           Goalkeeper                                         Notes  \n",
       "0             Ederson          → Champions League via league finish  \n",
       "1      Aaron Ramsdale          → Champions League via league finish  \n",
       "2        David de Gea          → Champions League via league finish  \n",
       "3           Nick Pope          → Champions League via league finish  \n",
       "4             Alisson             → Europa League via league finish  \n",
       "5      Robert Sánchez             → Europa League via league finish  \n",
       "6   Emiliano Martínez  → Europa Conference League via league finish  \n",
       "7         Hugo Lloris                                                \n",
       "8          David Raya                                                \n",
       "9          Bernd Leno                                                \n",
       "10     Vicente Guaita                                                \n",
       "11  Kepa Arrizabalaga                                                \n",
       "12            José Sá                                                \n",
       "13   Łukasz Fabiański                                                \n",
       "14               Neto                                                \n",
       "15     Dean Henderson                                                \n",
       "16    Jordan Pickford                                                \n",
       "17         Danny Ward                                     Relegated  \n",
       "18      Illan Meslier                                     Relegated  \n",
       "19       Gavin Bazunu                                     Relegated  "
      ]
     },
     "execution_count": 29,
     "metadata": {},
     "output_type": "execute_result"
    }
   ],
   "source": [
    "pd.DataFrame(header_dictionary)"
   ]
  },
  {
   "cell_type": "markdown",
   "id": "4f3f1d12",
   "metadata": {},
   "source": [
    "### Making  a function for scraping more season table from different seasons"
   ]
  },
  {
   "cell_type": "code",
   "execution_count": 30,
   "id": "4957e447",
   "metadata": {},
   "outputs": [],
   "source": [
    "def request_to_soup(url):\n",
    "    # Requesting web server to get acces to the web page and converting it into text\n",
    "    page = requests.get(url)\n",
    "\n",
    "    # Checking status code for URL\n",
    "    code = page.status_code\n",
    "    print(code)\n",
    "    \n",
    "    # Instantiating BeautifulSoup library\n",
    "    soup = BeautifulSoup(page.text)\n",
    "    \n",
    "    return soup"
   ]
  },
  {
   "cell_type": "markdown",
   "id": "0d9278cd",
   "metadata": {},
   "source": [
    "### Create a scaper funtion get needed table tags and convert them into soutable form."
   ]
  },
  {
   "cell_type": "code",
   "execution_count": 31,
   "id": "3674f939",
   "metadata": {},
   "outputs": [],
   "source": [
    "def scraper(soup_):\n",
    "    \n",
    "    # Finding tags which contain the season table    \n",
    "    table_tags = soup_.find('table')\n",
    "    \n",
    "    # Separating the table header tags and table body tags..\n",
    "    table_header_tags = table_tags.thead\n",
    "    table_body_tags = table_tags.tbody\n",
    "    \n",
    "    # Creating a list of heading from header tags\n",
    "    table_header_contents_list = content_to_list(table_tags.thead.contents)\n",
    "    table_header_contents_list = table_header_contents_list[0]\n",
    "    \n",
    "    table_header_contents_list = content_to_list(table_header_contents_list.contents)\n",
    "    \n",
    "    list_of_table_header = []\n",
    "    for i in table_header_contents_list:\n",
    "        list_of_table_header.append(i.text)\n",
    "    \n",
    "    # Creating a list which contain table content in the row-wise from\n",
    "    table_body_content_tags = content_to_list(table_tags.tbody.contents)\n",
    "    \n",
    "    return list_of_table_header,table_body_content_tags\n"
   ]
  },
  {
   "cell_type": "markdown",
   "id": "afe1bbc2",
   "metadata": {},
   "source": [
    "### Create final_table function return a dictionary or data from which connect header list to body contents of table"
   ]
  },
  {
   "cell_type": "code",
   "execution_count": 32,
   "id": "704eb1d6",
   "metadata": {},
   "outputs": [],
   "source": [
    "def final_table(list_of_table_header,table_body_content_tags):\n",
    "    \n",
    "    # Creating header dictionary\n",
    "    header_dictionary = create_dictionary(list_of_table_header)\n",
    "    \n",
    "    for i in table_body_content_tags:\n",
    "        team_detail = text_extract_from_contents(i.contents)\n",
    "        for j in range(len(header_dictionary)):\n",
    "            header_dictionary[list_of_table_header[j]].append(team_detail[j])\n",
    "\n",
    "    \n",
    "    return pd.DataFrame(header_dictionary)"
   ]
  },
  {
   "cell_type": "markdown",
   "id": "4dfac1d3",
   "metadata": {},
   "source": [
    "### Finally create a function which returns all season table according to inputs like season year and number of seasons to scrape"
   ]
  },
  {
   "cell_type": "code",
   "execution_count": 33,
   "id": "c35d6dcf",
   "metadata": {},
   "outputs": [],
   "source": [
    "def URL_to_table_csv(start_year,number_of_seasons):\n",
    "\n",
    "    for i in range(number_of_seasons):\n",
    "        # Creating a template of years for url\n",
    "        dummy_years = f\"{start_year+i}-{start_year+i+1}\"\n",
    "        base_dummy_url = f\"https://fbref.com/en/comps/9/{str(dummy_years)}/{str(dummy_years)}-Premier-League-Stats\"\n",
    "        print(base_dummy_url)\n",
    "\n",
    "        # Getting tags\n",
    "        soup = request_to_soup(url= base_dummy_url)\n",
    "\n",
    "        # Calling the scraper function\n",
    "        tags = scraper(soup_= soup)\n",
    "        \n",
    "        # Creating a final table\n",
    "        Season_table = final_table(list_of_table_header=tags[0],table_body_content_tags=tags[1])\n",
    "\n",
    "        # Creating a template for naming the files \n",
    "        file_name =f\"Premier_league_season_table_{dummy_years}\"\n",
    "\n",
    "        # Converting the dataframe to csv file\n",
    "        Season_table.to_csv(f'Season_tables/{file_name}',index=False)\n",
    "        if i == 0: \n",
    "            print(f\"{i+1} season successfully scraped ✔ \")\n",
    "        elif i >0:\n",
    "            print(f\"{i+1} seasons successfully scraped ✔ \")\n",
    "        if i == number_of_seasons-1:\n",
    "            print(f'All seasons scraped')\n",
    "        \n",
    "        time.sleep(5)"
   ]
  },
  {
   "cell_type": "code",
   "execution_count": 34,
   "id": "4133c839",
   "metadata": {},
   "outputs": [
    {
     "name": "stdout",
     "output_type": "stream",
     "text": [
      "https://fbref.com/en/comps/9/1992-1993/1992-1993-Premier-League-Stats\n",
      "200\n",
      "1 season successfully scraped ✔ \n",
      "https://fbref.com/en/comps/9/1993-1994/1993-1994-Premier-League-Stats\n",
      "403\n"
     ]
    },
    {
     "ename": "AttributeError",
     "evalue": "'NoneType' object has no attribute 'thead'",
     "output_type": "error",
     "traceback": [
      "\u001b[1;31m---------------------------------------------------------------------------\u001b[0m",
      "\u001b[1;31mAttributeError\u001b[0m                            Traceback (most recent call last)",
      "\u001b[1;32m~\\AppData\\Local\\Temp/ipykernel_10704/4230681478.py\u001b[0m in \u001b[0;36m<module>\u001b[1;34m\u001b[0m\n\u001b[1;32m----> 1\u001b[1;33m \u001b[0mURL_to_table_csv\u001b[0m\u001b[1;33m(\u001b[0m\u001b[0mstart_year\u001b[0m\u001b[1;33m=\u001b[0m\u001b[1;36m1992\u001b[0m\u001b[1;33m,\u001b[0m\u001b[0mnumber_of_seasons\u001b[0m\u001b[1;33m=\u001b[0m\u001b[1;36m31\u001b[0m\u001b[1;33m)\u001b[0m\u001b[1;33m\u001b[0m\u001b[1;33m\u001b[0m\u001b[0m\n\u001b[0m",
      "\u001b[1;32m~\\AppData\\Local\\Temp/ipykernel_10704/261325085.py\u001b[0m in \u001b[0;36mURL_to_table_csv\u001b[1;34m(start_year, number_of_seasons)\u001b[0m\n\u001b[0;32m     11\u001b[0m \u001b[1;33m\u001b[0m\u001b[0m\n\u001b[0;32m     12\u001b[0m         \u001b[1;31m# Calling the scraper function\u001b[0m\u001b[1;33m\u001b[0m\u001b[1;33m\u001b[0m\u001b[0m\n\u001b[1;32m---> 13\u001b[1;33m         \u001b[0mtags\u001b[0m \u001b[1;33m=\u001b[0m \u001b[0mscraper\u001b[0m\u001b[1;33m(\u001b[0m\u001b[0msoup_\u001b[0m\u001b[1;33m=\u001b[0m \u001b[0msoup\u001b[0m\u001b[1;33m)\u001b[0m\u001b[1;33m\u001b[0m\u001b[1;33m\u001b[0m\u001b[0m\n\u001b[0m\u001b[0;32m     14\u001b[0m \u001b[1;33m\u001b[0m\u001b[0m\n\u001b[0;32m     15\u001b[0m         \u001b[1;31m# Creating a final table\u001b[0m\u001b[1;33m\u001b[0m\u001b[1;33m\u001b[0m\u001b[0m\n",
      "\u001b[1;32m~\\AppData\\Local\\Temp/ipykernel_10704/2378478089.py\u001b[0m in \u001b[0;36mscraper\u001b[1;34m(soup_)\u001b[0m\n\u001b[0;32m      5\u001b[0m \u001b[1;33m\u001b[0m\u001b[0m\n\u001b[0;32m      6\u001b[0m     \u001b[1;31m# Separating the table header tags and table body tags..\u001b[0m\u001b[1;33m\u001b[0m\u001b[1;33m\u001b[0m\u001b[0m\n\u001b[1;32m----> 7\u001b[1;33m     \u001b[0mtable_header_tags\u001b[0m \u001b[1;33m=\u001b[0m \u001b[0mtable_tags\u001b[0m\u001b[1;33m.\u001b[0m\u001b[0mthead\u001b[0m\u001b[1;33m\u001b[0m\u001b[1;33m\u001b[0m\u001b[0m\n\u001b[0m\u001b[0;32m      8\u001b[0m     \u001b[0mtable_body_tags\u001b[0m \u001b[1;33m=\u001b[0m \u001b[0mtable_tags\u001b[0m\u001b[1;33m.\u001b[0m\u001b[0mtbody\u001b[0m\u001b[1;33m\u001b[0m\u001b[1;33m\u001b[0m\u001b[0m\n\u001b[0;32m      9\u001b[0m \u001b[1;33m\u001b[0m\u001b[0m\n",
      "\u001b[1;31mAttributeError\u001b[0m: 'NoneType' object has no attribute 'thead'"
     ]
    }
   ],
   "source": [
    "URL_to_table_csv(start_year=1992,number_of_seasons=31)"
   ]
  },
  {
   "cell_type": "code",
   "execution_count": null,
   "id": "ba893eef",
   "metadata": {},
   "outputs": [],
   "source": []
  }
 ],
 "metadata": {
  "kernelspec": {
   "display_name": "Python 3 (ipykernel)",
   "language": "python",
   "name": "python3"
  },
  "language_info": {
   "codemirror_mode": {
    "name": "ipython",
    "version": 3
   },
   "file_extension": ".py",
   "mimetype": "text/x-python",
   "name": "python",
   "nbconvert_exporter": "python",
   "pygments_lexer": "ipython3",
   "version": "3.12.4"
  }
 },
 "nbformat": 4,
 "nbformat_minor": 5
}
