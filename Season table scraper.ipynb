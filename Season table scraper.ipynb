{
 "cells": [
  {
   "cell_type": "markdown",
   "id": "7f8ee7e4",
   "metadata": {},
   "source": [
    "# Season table scraper"
   ]
  },
  {
   "cell_type": "markdown",
   "id": "dce9f758",
   "metadata": {},
   "source": [
    "### To get our data we will get it from fbref.com "
   ]
  },
  {
   "cell_type": "code",
   "execution_count": 1,
   "id": "7a822935",
   "metadata": {
    "scrolled": true
   },
   "outputs": [
    {
     "name": "stderr",
     "output_type": "stream",
     "text": [
      "'[season_table_screenshot.png]' is not recognized as an internal or external command,\n",
      "operable program or batch file.\n"
     ]
    }
   ],
   "source": [
    "![season_table_screenshot.png](season_table_screenshot.png)"
   ]
  },
  {
   "cell_type": "code",
   "execution_count": 2,
   "id": "e8824018",
   "metadata": {},
   "outputs": [],
   "source": [
    "# Importing libraries\n",
    "\n",
    "# Web scraping liberaries\n",
    "from bs4 import BeautifulSoup\n",
    "import requests\n",
    "import time\n",
    "\n",
    "# Data analysis liberaries\n",
    "import pandas as pd\n",
    "import numpy as np\n",
    "import matplotlib.pyplot as plt\n",
    "import seaborn as sns"
   ]
  },
  {
   "cell_type": "code",
   "execution_count": 3,
   "id": "f6be6909",
   "metadata": {},
   "outputs": [],
   "source": [
    "def text_extract_from_contents(contents_list):\n",
    "    '''\n",
    "    Input : \n",
    "    Output :  \n",
    "    \n",
    "    '''\n",
    "    list_ = []\n",
    "    for i in range(len(contents_list)):\n",
    "        if contents_list[i] == \" \" or contents_list[i] == \"\\n\":\n",
    "            pass\n",
    "        else:\n",
    "            list_.append(contents_list[i].text)\n",
    "    \n",
    "    return list_"
   ]
  },
  {
   "cell_type": "code",
   "execution_count": 5,
   "id": "bc0b5cd7",
   "metadata": {},
   "outputs": [],
   "source": [
    "def content_to_list(content_list):\n",
    "    '''\n",
    "    Input : Content of tags \n",
    "    Output : Return a list without space and tags as element of list.\n",
    "    \n",
    "    '''\n",
    "    list_ = []\n",
    "    for i in range(len(content_list)):\n",
    "        if content_list[i] == \" \" or content_list[i] == \"\\n\":\n",
    "            pass\n",
    "        else:\n",
    "            list_.append(content_list[i])\n",
    "    return list_"
   ]
  },
  {
   "cell_type": "code",
   "execution_count": 6,
   "id": "8547cc22",
   "metadata": {},
   "outputs": [],
   "source": [
    "def create_dictionary(list_):\n",
    "    '''\n",
    "    Input : List of elements as keys \n",
    "    Output : Return a dictionary with \n",
    "    '''\n",
    "    dictionary = {}\n",
    "    for i in list_:\n",
    "        dictionary[i] = []\n",
    "    return dictionary\n"
   ]
  },
  {
   "cell_type": "code",
   "execution_count": 7,
   "id": "cbb5b2c4",
   "metadata": {},
   "outputs": [],
   "source": [
    "def final_table(table_headers_list,table_content):\n",
    "    dictionary = create_dictionary(table_headers_list)\n",
    "    \n",
    "    for i in range(len(table_content)):\n",
    "        detail = text_extract_from_contents(table_content[i].contents)\n",
    "        for j in range(len(table_headers_list)):\n",
    "            dictionary[table_headers_list[j]].append(detail[j])\n",
    "        \n",
    "    return dictionary"
   ]
  },
  {
   "cell_type": "code",
   "execution_count": null,
   "id": "12fd7fa2",
   "metadata": {},
   "outputs": [],
   "source": []
  },
  {
   "cell_type": "markdown",
   "id": "27b59c2b",
   "metadata": {},
   "source": [
    "### Understanding the structure and code of the website"
   ]
  },
  {
   "cell_type": "code",
   "execution_count": 8,
   "id": "97132a03",
   "metadata": {},
   "outputs": [],
   "source": [
    "URL = \"https://fbref.com/en/comps/9/2015-2016/2015-2016-Premier-League-Stats\""
   ]
  },
  {
   "cell_type": "code",
   "execution_count": 9,
   "id": "6eef4608",
   "metadata": {},
   "outputs": [],
   "source": [
    "page = requests.get(URL)"
   ]
  },
  {
   "cell_type": "code",
   "execution_count": 10,
   "id": "c5b8b3f7",
   "metadata": {},
   "outputs": [
    {
     "data": {
      "text/plain": [
       "200"
      ]
     },
     "execution_count": 10,
     "metadata": {},
     "output_type": "execute_result"
    }
   ],
   "source": [
    "code = page.status_code\n",
    "code"
   ]
  },
  {
   "cell_type": "code",
   "execution_count": 11,
   "id": "8d4ddc82",
   "metadata": {},
   "outputs": [],
   "source": [
    "soup = BeautifulSoup(page.text)"
   ]
  },
  {
   "cell_type": "markdown",
   "id": "df33ddc8",
   "metadata": {},
   "source": [
    "#### Find the table tags from web page"
   ]
  },
  {
   "cell_type": "code",
   "execution_count": 12,
   "id": "00957f25",
   "metadata": {},
   "outputs": [],
   "source": [
    "table_tags = soup.find('table')"
   ]
  },
  {
   "cell_type": "code",
   "execution_count": null,
   "id": "0ab30797",
   "metadata": {},
   "outputs": [],
   "source": []
  },
  {
   "cell_type": "markdown",
   "id": "829774a5",
   "metadata": {},
   "source": [
    "#### Table head tags "
   ]
  },
  {
   "cell_type": "code",
   "execution_count": 13,
   "id": "ed213e49",
   "metadata": {
    "scrolled": false
   },
   "outputs": [
    {
     "data": {
      "text/plain": [
       "<thead> <tr> <th aria-label=\"Rank\" class=\"poptip sort_default_asc center\" data-stat=\"rank\" data-tip=\"&lt;strong&gt;Rank&lt;/strong&gt;&lt;br&gt;Squad finish in competition&lt;br&gt;Finish within the league or competition.&lt;br&gt;For knockout competitions may show final round reached.&lt;br&gt;Colors and arrows represent promotion/relegation or qualifiation for continental cups.&lt;br&gt;Trophy indicates team won league whether by playoffs or by leading the table.&lt;br&gt;Star indicates topped table in league USING another means of naming champion.\" scope=\"col\">Rk</th> <th aria-label=\"Squad\" class=\"poptip sort_default_asc center\" data-stat=\"team\" scope=\"col\">Squad</th> <th aria-label=\"Matches Played\" class=\"poptip center\" data-stat=\"games\" data-tip=\"&lt;strong&gt;Matches Played&lt;/strong&gt;&lt;br&gt;Matches Played by the player or squad\" scope=\"col\">MP</th> <th aria-label=\"Wins\" class=\"poptip center\" data-stat=\"wins\" data-tip=\"&lt;strong&gt;Wins&lt;/strong&gt;&lt;br&gt;Wins\" scope=\"col\">W</th> <th aria-label=\"Draws\" class=\"poptip center\" data-stat=\"ties\" data-tip=\"&lt;strong&gt;Draws&lt;/strong&gt;&lt;br&gt;Draws\" scope=\"col\">D</th> <th aria-label=\"Losses\" class=\"poptip center\" data-stat=\"losses\" data-tip=\"&lt;strong&gt;Losses&lt;/strong&gt;&lt;br&gt;Losses\" scope=\"col\">L</th> <th aria-label=\"Goals For\" class=\"poptip center\" data-stat=\"goals_for\" data-tip=\"&lt;strong&gt;Goals For&lt;/strong&gt;&lt;br&gt;Goals For\" scope=\"col\">GF</th> <th aria-label=\"Goals Against\" class=\"poptip center\" data-stat=\"goals_against\" data-tip=\"&lt;strong&gt;Goals Against&lt;/strong&gt;&lt;br&gt;Goals Against\" scope=\"col\">GA</th> <th aria-label=\"Goal Difference\" class=\"poptip center\" data-stat=\"goal_diff\" data-tip=\"&lt;strong&gt;Goal Difference&lt;/strong&gt;&lt;br&gt;Goal Difference\" scope=\"col\">GD</th> <th aria-label=\"Points\" class=\"poptip center\" data-stat=\"points\" data-tip=\"&lt;strong&gt;Points&lt;/strong&gt;&lt;br&gt;Most leagues are ordered by points.&lt;br&gt;Three for a win and one for a draw.\" scope=\"col\">Pts</th> <th aria-label=\"Points/Game\" class=\"poptip center\" data-stat=\"points_avg\" data-tip=\"&lt;strong&gt;Points/Game&lt;/strong&gt;&lt;br&gt;Points per Match Played\" scope=\"col\">Pts/MP</th> <th aria-label=\"Attendance/Game\" class=\"poptip center\" data-stat=\"attendance_per_g\" data-tip=\"&lt;strong&gt;Attendance/Game&lt;/strong&gt;&lt;br&gt;Attendance per game during this season, only for home matches\" scope=\"col\">Attendance</th> <th aria-label=\"Top Team Scorer\" class=\"poptip center\" data-stat=\"top_team_scorers\" data-tip=\"Only includes league matches for that season\" scope=\"col\">Top Team Scorer</th> <th aria-label=\"Goalkeeper\" class=\"poptip center\" data-stat=\"top_keeper\" data-tip=\"Goalkeeper with the most minutes in league play\" scope=\"col\">Goalkeeper</th> <th aria-label=\"Notes\" class=\"poptip center\" data-stat=\"notes\" scope=\"col\">Notes</th> </tr> </thead>"
      ]
     },
     "execution_count": 13,
     "metadata": {},
     "output_type": "execute_result"
    }
   ],
   "source": [
    "table_tags.thead"
   ]
  },
  {
   "cell_type": "markdown",
   "id": "e33d47d5",
   "metadata": {},
   "source": [
    "#### Table body tags "
   ]
  },
  {
   "cell_type": "code",
   "execution_count": 14,
   "id": "bd850b00",
   "metadata": {
    "collapsed": true
   },
   "outputs": [
    {
     "data": {
      "text/plain": [
       "<tbody> <tr><th class=\"right qualifier qualification_indicator1\" csk=\"1\" data-stat=\"rank\" scope=\"row\">1</th><td class=\"left\" data-stat=\"team\"><img alt=\"Club Crest\" height=\"13\" itemscope=\"image\" src=\"https://cdn.ssref.net/req/202303201/tlogo/fb/mini.a2d435b3.png\" style=\"vertical-align:text-top\" width=\"13\"/> <a href=\"/en/squads/a2d435b3/2015-2016/Leicester-City-Stats\">Leicester City</a></td><td class=\"right\" data-stat=\"games\">38</td><td class=\"right\" data-stat=\"wins\">23</td><td class=\"right\" data-stat=\"ties\">12</td><td class=\"right\" data-stat=\"losses\">3</td><td class=\"right\" data-stat=\"goals_for\">68</td><td class=\"right\" data-stat=\"goals_against\">36</td><td class=\"right\" data-stat=\"goal_diff\">+32</td><td class=\"right\" data-stat=\"points\">81</td><td class=\"right\" data-stat=\"points_avg\">2.13</td><td class=\"right\" csk=\"31998\" data-stat=\"attendance_per_g\">31,998</td><td class=\"right\" csk=\"24\" data-stat=\"top_team_scorers\"><a href=\"/en/players/45963054/Jamie-Vardy\">Jamie Vardy</a> - <span>24</span></td><td class=\"right\" data-stat=\"top_keeper\"><a href=\"/en/players/53af52f3/Kasper-Schmeichel\">Kasper Schmeichel</a></td><td class=\"left\" data-stat=\"notes\">→ Champions League via league finish</td></tr> <tr><th class=\"right qualifier qualification_indicator1\" csk=\"2\" data-stat=\"rank\" scope=\"row\">2</th><td class=\"left\" data-stat=\"team\"><img alt=\"Club Crest\" height=\"13\" itemscope=\"image\" src=\"https://cdn.ssref.net/req/202303201/tlogo/fb/mini.18bb7c10.png\" style=\"vertical-align:text-top\" width=\"13\"/> <a href=\"/en/squads/18bb7c10/2015-2016/Arsenal-Stats\">Arsenal</a></td><td class=\"right\" data-stat=\"games\">38</td><td class=\"right\" data-stat=\"wins\">20</td><td class=\"right\" data-stat=\"ties\">11</td><td class=\"right\" data-stat=\"losses\">7</td><td class=\"right\" data-stat=\"goals_for\">65</td><td class=\"right\" data-stat=\"goals_against\">36</td><td class=\"right\" data-stat=\"goal_diff\">+29</td><td class=\"right\" data-stat=\"points\">71</td><td class=\"right\" data-stat=\"points_avg\">1.87</td><td class=\"right\" csk=\"59944\" data-stat=\"attendance_per_g\">59,944</td><td class=\"right\" csk=\"16\" data-stat=\"top_team_scorers\"><a href=\"/en/players/16ceb862/Olivier-Giroud\">Olivier Giroud</a> - <span>16</span></td><td class=\"right\" data-stat=\"top_keeper\"><a href=\"/en/players/71672fa0/Petr-Cech\">Petr Čech</a></td><td class=\"left\" data-stat=\"notes\">→ Champions League via league finish</td></tr> <tr><th class=\"right qualifier qualification_indicator1\" csk=\"3\" data-stat=\"rank\" scope=\"row\">3</th><td class=\"left\" data-stat=\"team\"><img alt=\"Club Crest\" height=\"13\" itemscope=\"image\" src=\"https://cdn.ssref.net/req/202303201/tlogo/fb/mini.361ca564.png\" style=\"vertical-align:text-top\" width=\"13\"/> <a href=\"/en/squads/361ca564/2015-2016/Tottenham-Hotspur-Stats\">Tottenham</a></td><td class=\"right\" data-stat=\"games\">38</td><td class=\"right\" data-stat=\"wins\">19</td><td class=\"right\" data-stat=\"ties\">13</td><td class=\"right\" data-stat=\"losses\">6</td><td class=\"right\" data-stat=\"goals_for\">69</td><td class=\"right\" data-stat=\"goals_against\">35</td><td class=\"right\" data-stat=\"goal_diff\">+34</td><td class=\"right\" data-stat=\"points\">70</td><td class=\"right\" data-stat=\"points_avg\">1.84</td><td class=\"right\" csk=\"35776\" data-stat=\"attendance_per_g\">35,776</td><td class=\"right\" csk=\"25\" data-stat=\"top_team_scorers\"><a href=\"/en/players/21a66f6a/Harry-Kane\">Harry Kane</a> - <span>25</span></td><td class=\"right\" data-stat=\"top_keeper\"><a href=\"/en/players/8f62b6ee/Hugo-Lloris\">Hugo Lloris</a></td><td class=\"left\" data-stat=\"notes\">→ Champions League via league finish</td></tr> <tr><th class=\"right qualifier qualification_indicator1\" csk=\"4\" data-stat=\"rank\" scope=\"row\">4</th><td class=\"left\" data-stat=\"team\"><img alt=\"Club Crest\" height=\"13\" itemscope=\"image\" src=\"https://cdn.ssref.net/req/202303201/tlogo/fb/mini.b8fd03ef.png\" style=\"vertical-align:text-top\" width=\"13\"/> <a href=\"/en/squads/b8fd03ef/2015-2016/Manchester-City-Stats\">Manchester City</a></td><td class=\"right\" data-stat=\"games\">38</td><td class=\"right\" data-stat=\"wins\">19</td><td class=\"right\" data-stat=\"ties\">9</td><td class=\"right\" data-stat=\"losses\">10</td><td class=\"right\" data-stat=\"goals_for\">71</td><td class=\"right\" data-stat=\"goals_against\">41</td><td class=\"right\" data-stat=\"goal_diff\">+30</td><td class=\"right\" data-stat=\"points\">66</td><td class=\"right\" data-stat=\"points_avg\">1.74</td><td class=\"right\" csk=\"54041\" data-stat=\"attendance_per_g\">54,041</td><td class=\"right\" csk=\"24\" data-stat=\"top_team_scorers\"><a href=\"/en/players/4d034881/Sergio-Aguero\">Sergio Agüero</a> - <span>24</span></td><td class=\"right\" data-stat=\"top_keeper\"><a href=\"/en/players/cb4f24c6/Joe-Hart\">Joe Hart</a></td><td class=\"left\" data-stat=\"notes\">→ Champions League via league finish</td></tr> <tr><th class=\"right qualifier qualification_indicator2\" csk=\"5\" data-stat=\"rank\" scope=\"row\">5</th><td class=\"left\" data-stat=\"team\"><img alt=\"Club Crest\" height=\"13\" itemscope=\"image\" src=\"https://cdn.ssref.net/req/202303201/tlogo/fb/mini.19538871.png\" style=\"vertical-align:text-top\" width=\"13\"/> <a href=\"/en/squads/19538871/2015-2016/Manchester-United-Stats\">Manchester Utd</a></td><td class=\"right\" data-stat=\"games\">38</td><td class=\"right\" data-stat=\"wins\">19</td><td class=\"right\" data-stat=\"ties\">9</td><td class=\"right\" data-stat=\"losses\">10</td><td class=\"right\" data-stat=\"goals_for\">49</td><td class=\"right\" data-stat=\"goals_against\">35</td><td class=\"right\" data-stat=\"goal_diff\">+14</td><td class=\"right\" data-stat=\"points\">66</td><td class=\"right\" data-stat=\"points_avg\">1.74</td><td class=\"right\" csk=\"75286\" data-stat=\"attendance_per_g\">75,286</td><td class=\"right\" csk=\"11\" data-stat=\"top_team_scorers\"><a href=\"/en/players/8b788c01/Anthony-Martial\">Anthony Martial</a> - <span>11</span></td><td class=\"right\" data-stat=\"top_keeper\"><a href=\"/en/players/7ba6d84e/David-de-Gea\">David de Gea</a></td><td class=\"left\" data-stat=\"notes\">→ Europa League via cup win <sup><span class=\"tooltip\" tip=\"Manchester United qualified for a Europa League group stage berth by virtue of winning the FA Cup.\">1</span></sup></td></tr> <tr><th class=\"right qualifier qualification_indicator2\" csk=\"6\" data-stat=\"rank\" scope=\"row\">6</th><td class=\"left\" data-stat=\"team\"><img alt=\"Club Crest\" height=\"13\" itemscope=\"image\" src=\"https://cdn.ssref.net/req/202303201/tlogo/fb/mini.33c895d4.png\" style=\"vertical-align:text-top\" width=\"13\"/> <a href=\"/en/squads/33c895d4/2015-2016/Southampton-Stats\">Southampton</a></td><td class=\"right\" data-stat=\"games\">38</td><td class=\"right\" data-stat=\"wins\">18</td><td class=\"right\" data-stat=\"ties\">9</td><td class=\"right\" data-stat=\"losses\">11</td><td class=\"right\" data-stat=\"goals_for\">59</td><td class=\"right\" data-stat=\"goals_against\">41</td><td class=\"right\" data-stat=\"goal_diff\">+18</td><td class=\"right\" data-stat=\"points\">63</td><td class=\"right\" data-stat=\"points_avg\">1.66</td><td class=\"right\" csk=\"30751\" data-stat=\"attendance_per_g\">30,751</td><td class=\"right\" csk=\"11\" data-stat=\"top_team_scorers\"><a href=\"/en/players/c691bfe2/Sadio-Mane\">Sadio Mané</a>, <a href=\"/en/players/9654d8de/Graziano-Pelle\">Graziano Pellè</a> - <span>11</span></td><td class=\"right\" data-stat=\"top_keeper\"><a href=\"/en/players/c3e39f12/Fraser-Forster\">Fraser Forster</a></td><td class=\"left\" data-stat=\"notes\">→ Europa League via league finish <sup><span class=\"tooltip\" tip=\"Since FA Cup winners Manchester United qualified for Champions League, all Europa League berths were awarded based on league position.\">2</span></sup></td></tr> <tr><th class=\"right qualifier qualification_indicator2\" csk=\"7\" data-stat=\"rank\" scope=\"row\">7</th><td class=\"left\" data-stat=\"team\"><img alt=\"Club Crest\" height=\"13\" itemscope=\"image\" src=\"https://cdn.ssref.net/req/202303201/tlogo/fb/mini.7c21e445.png\" style=\"vertical-align:text-top\" width=\"13\"/> <a href=\"/en/squads/7c21e445/2015-2016/West-Ham-United-Stats\">West Ham</a></td><td class=\"right\" data-stat=\"games\">38</td><td class=\"right\" data-stat=\"wins\">16</td><td class=\"right\" data-stat=\"ties\">14</td><td class=\"right\" data-stat=\"losses\">8</td><td class=\"right\" data-stat=\"goals_for\">65</td><td class=\"right\" data-stat=\"goals_against\">51</td><td class=\"right\" data-stat=\"goal_diff\">+14</td><td class=\"right\" data-stat=\"points\">62</td><td class=\"right\" data-stat=\"points_avg\">1.63</td><td class=\"right\" csk=\"34910\" data-stat=\"attendance_per_g\">34,910</td><td class=\"right\" csk=\"9\" data-stat=\"top_team_scorers\"><a href=\"/en/players/58ae47b2/Dimitri-Payet\">Dimitri Payet</a>, <a href=\"/en/players/b581987a/Andy-Carroll\">Andy Carroll</a> - <span>9</span></td><td class=\"right\" data-stat=\"top_keeper\"><a href=\"/en/players/f76e6b4e/Adrian\">Adrián</a></td><td class=\"left\" data-stat=\"notes\">→ Europa League via league finish <sup><span class=\"tooltip\" tip=\"Since League Cup winners Manchester City qualified for Champions League, all Europa League berths were awarded based on league position.\">3</span></sup></td></tr> <tr><th class=\"right\" csk=\"8\" data-stat=\"rank\" scope=\"row\">8</th><td class=\"left\" data-stat=\"team\"><img alt=\"Club Crest\" height=\"13\" itemscope=\"image\" src=\"https://cdn.ssref.net/req/202303201/tlogo/fb/mini.822bd0ba.png\" style=\"vertical-align:text-top\" width=\"13\"/> <a href=\"/en/squads/822bd0ba/2015-2016/Liverpool-Stats\">Liverpool</a></td><td class=\"right\" data-stat=\"games\">38</td><td class=\"right\" data-stat=\"wins\">16</td><td class=\"right\" data-stat=\"ties\">12</td><td class=\"right\" data-stat=\"losses\">10</td><td class=\"right\" data-stat=\"goals_for\">63</td><td class=\"right\" data-stat=\"goals_against\">50</td><td class=\"right\" data-stat=\"goal_diff\">+13</td><td class=\"right\" data-stat=\"points\">60</td><td class=\"right\" data-stat=\"points_avg\">1.58</td><td class=\"right\" csk=\"43910\" data-stat=\"attendance_per_g\">43,910</td><td class=\"right\" csk=\"10\" data-stat=\"top_team_scorers\"><a href=\"/en/players/4c370d81/Roberto-Firmino\">Roberto Firmino</a> - <span>10</span></td><td class=\"right\" data-stat=\"top_keeper\"><a href=\"/en/players/d436eb94/Simon-Mignolet\">Simon Mignolet</a></td><td class=\"left iz\" data-stat=\"notes\"></td></tr> <tr><th class=\"right\" csk=\"9\" data-stat=\"rank\" scope=\"row\">9</th><td class=\"left\" data-stat=\"team\"><img alt=\"Club Crest\" height=\"13\" itemscope=\"image\" src=\"https://cdn.ssref.net/req/202303201/tlogo/fb/mini.17892952.png\" style=\"vertical-align:text-top\" width=\"13\"/> <a href=\"/en/squads/17892952/2015-2016/Stoke-City-Stats\">Stoke City</a></td><td class=\"right\" data-stat=\"games\">38</td><td class=\"right\" data-stat=\"wins\">14</td><td class=\"right\" data-stat=\"ties\">9</td><td class=\"right\" data-stat=\"losses\">15</td><td class=\"right\" data-stat=\"goals_for\">41</td><td class=\"right\" data-stat=\"goals_against\">55</td><td class=\"right\" data-stat=\"goal_diff\">-14</td><td class=\"right\" data-stat=\"points\">51</td><td class=\"right\" data-stat=\"points_avg\">1.34</td><td class=\"right\" csk=\"27534\" data-stat=\"attendance_per_g\">27,534</td><td class=\"right\" csk=\"11\" data-stat=\"top_team_scorers\"><a href=\"/en/players/00459419/Marko-Arnautovic\">Marko Arnautović</a> - <span>11</span></td><td class=\"right\" data-stat=\"top_keeper\"><a href=\"/en/players/cc70a1d5/Jack-Butland\">Jack Butland</a></td><td class=\"left iz\" data-stat=\"notes\"></td></tr> <tr><th class=\"right\" csk=\"10\" data-stat=\"rank\" scope=\"row\">10</th><td class=\"left\" data-stat=\"team\"><img alt=\"Club Crest\" height=\"13\" itemscope=\"image\" src=\"https://cdn.ssref.net/req/202303201/tlogo/fb/mini.cff3d9bb.png\" style=\"vertical-align:text-top\" width=\"13\"/> <a href=\"/en/squads/cff3d9bb/2015-2016/Chelsea-Stats\">Chelsea</a></td><td class=\"right\" data-stat=\"games\">38</td><td class=\"right\" data-stat=\"wins\">12</td><td class=\"right\" data-stat=\"ties\">14</td><td class=\"right\" data-stat=\"losses\">12</td><td class=\"right\" data-stat=\"goals_for\">59</td><td class=\"right\" data-stat=\"goals_against\">53</td><td class=\"right\" data-stat=\"goal_diff\">+6</td><td class=\"right\" data-stat=\"points\">50</td><td class=\"right\" data-stat=\"points_avg\">1.32</td><td class=\"right\" csk=\"41500\" data-stat=\"attendance_per_g\">41,500</td><td class=\"right\" csk=\"12\" data-stat=\"top_team_scorers\"><a href=\"/en/players/a190d597/Diego-Costa\">Diego Costa</a> - <span>12</span></td><td class=\"right\" data-stat=\"top_keeper\"><a href=\"/en/players/1840e36d/Thibaut-Courtois\">Thibaut Courtois</a></td><td class=\"left iz\" data-stat=\"notes\"></td></tr> <tr><th class=\"right\" csk=\"11\" data-stat=\"rank\" scope=\"row\">11</th><td class=\"left\" data-stat=\"team\"><img alt=\"Club Crest\" height=\"13\" itemscope=\"image\" src=\"https://cdn.ssref.net/req/202303201/tlogo/fb/mini.d3fd31cc.png\" style=\"vertical-align:text-top\" width=\"13\"/> <a href=\"/en/squads/d3fd31cc/2015-2016/Everton-Stats\">Everton</a></td><td class=\"right\" data-stat=\"games\">38</td><td class=\"right\" data-stat=\"wins\">11</td><td class=\"right\" data-stat=\"ties\">14</td><td class=\"right\" data-stat=\"losses\">13</td><td class=\"right\" data-stat=\"goals_for\">59</td><td class=\"right\" data-stat=\"goals_against\">55</td><td class=\"right\" data-stat=\"goal_diff\">+4</td><td class=\"right\" data-stat=\"points\">47</td><td class=\"right\" data-stat=\"points_avg\">1.24</td><td class=\"right\" csk=\"38124\" data-stat=\"attendance_per_g\">38,124</td><td class=\"right\" csk=\"18\" data-stat=\"top_team_scorers\"><a href=\"/en/players/5eae500a/Romelu-Lukaku\">Romelu Lukaku</a> - <span>18</span></td><td class=\"right\" data-stat=\"top_keeper\"><a href=\"/en/players/c444465e/Tim-Howard\">Tim Howard</a></td><td class=\"left iz\" data-stat=\"notes\"></td></tr> <tr><th class=\"right\" csk=\"12\" data-stat=\"rank\" scope=\"row\">12</th><td class=\"left\" data-stat=\"team\"><img alt=\"Club Crest\" height=\"13\" itemscope=\"image\" src=\"https://cdn.ssref.net/req/202303201/tlogo/fb/mini.fb10988f.png\" style=\"vertical-align:text-top\" width=\"13\"/> <a href=\"/en/squads/fb10988f/2015-2016/Swansea-City-Stats\">Swansea City</a></td><td class=\"right\" data-stat=\"games\">38</td><td class=\"right\" data-stat=\"wins\">12</td><td class=\"right\" data-stat=\"ties\">11</td><td class=\"right\" data-stat=\"losses\">15</td><td class=\"right\" data-stat=\"goals_for\">42</td><td class=\"right\" data-stat=\"goals_against\">52</td><td class=\"right\" data-stat=\"goal_diff\">-10</td><td class=\"right\" data-stat=\"points\">47</td><td class=\"right\" data-stat=\"points_avg\">1.24</td><td class=\"right\" csk=\"20711\" data-stat=\"attendance_per_g\">20,711</td><td class=\"right\" csk=\"12\" data-stat=\"top_team_scorers\"><a href=\"/en/players/5dbefa9d/Andre-Ayew\">André Ayew</a> - <span>12</span></td><td class=\"right\" data-stat=\"top_keeper\"><a href=\"/en/players/9328b835/Lukasz-Fabianski\">Łukasz Fabiański</a></td><td class=\"left iz\" data-stat=\"notes\"></td></tr> <tr><th class=\"right\" csk=\"13\" data-stat=\"rank\" scope=\"row\">13</th><td class=\"left\" data-stat=\"team\"><img alt=\"Club Crest\" height=\"13\" itemscope=\"image\" src=\"https://cdn.ssref.net/req/202303201/tlogo/fb/mini.2abfe087.png\" style=\"vertical-align:text-top\" width=\"13\"/> <a href=\"/en/squads/2abfe087/2015-2016/Watford-Stats\">Watford</a></td><td class=\"right\" data-stat=\"games\">38</td><td class=\"right\" data-stat=\"wins\">12</td><td class=\"right\" data-stat=\"ties\">9</td><td class=\"right\" data-stat=\"losses\">17</td><td class=\"right\" data-stat=\"goals_for\">40</td><td class=\"right\" data-stat=\"goals_against\">50</td><td class=\"right\" data-stat=\"goal_diff\">-10</td><td class=\"right\" data-stat=\"points\">45</td><td class=\"right\" data-stat=\"points_avg\">1.18</td><td class=\"right\" csk=\"20594\" data-stat=\"attendance_per_g\">20,594</td><td class=\"right\" csk=\"15\" data-stat=\"top_team_scorers\"><a href=\"/en/players/03622183/Odion-Ighalo\">Odion Ighalo</a> - <span>15</span></td><td class=\"right\" data-stat=\"top_keeper\"><a href=\"/en/players/d596e193/Heurelho-Gomes\">Heurelho Gomes</a></td><td class=\"left iz\" data-stat=\"notes\"></td></tr> <tr><th class=\"right\" csk=\"14\" data-stat=\"rank\" scope=\"row\">14</th><td class=\"left\" data-stat=\"team\"><img alt=\"Club Crest\" height=\"13\" itemscope=\"image\" src=\"https://cdn.ssref.net/req/202303201/tlogo/fb/mini.60c6b05f.png\" style=\"vertical-align:text-top\" width=\"13\"/> <a href=\"/en/squads/60c6b05f/2015-2016/West-Bromwich-Albion-Stats\">West Brom</a></td><td class=\"right\" data-stat=\"games\">38</td><td class=\"right\" data-stat=\"wins\">10</td><td class=\"right\" data-stat=\"ties\">13</td><td class=\"right\" data-stat=\"losses\">15</td><td class=\"right\" data-stat=\"goals_for\">34</td><td class=\"right\" data-stat=\"goals_against\">48</td><td class=\"right\" data-stat=\"goal_diff\">-14</td><td class=\"right\" data-stat=\"points\">43</td><td class=\"right\" data-stat=\"points_avg\">1.13</td><td class=\"right\" csk=\"24631\" data-stat=\"attendance_per_g\">24,631</td><td class=\"right\" csk=\"9\" data-stat=\"top_team_scorers\"><a href=\"/en/players/b318a643/Salomon-Rondon\">Salomón Rondón</a> - <span>9</span></td><td class=\"right\" data-stat=\"top_keeper\"><a href=\"/en/players/7ca2d989/Boaz-Myhill\">Boaz Myhill</a></td><td class=\"left iz\" data-stat=\"notes\"></td></tr> <tr><th class=\"right\" csk=\"15\" data-stat=\"rank\" scope=\"row\">15</th><td class=\"left\" data-stat=\"team\"><img alt=\"Club Crest\" height=\"13\" itemscope=\"image\" src=\"https://cdn.ssref.net/req/202303201/tlogo/fb/mini.47c64c55.png\" style=\"vertical-align:text-top\" width=\"13\"/> <a href=\"/en/squads/47c64c55/2015-2016/Crystal-Palace-Stats\">Crystal Palace</a></td><td class=\"right\" data-stat=\"games\">38</td><td class=\"right\" data-stat=\"wins\">11</td><td class=\"right\" data-stat=\"ties\">9</td><td class=\"right\" data-stat=\"losses\">18</td><td class=\"right\" data-stat=\"goals_for\">39</td><td class=\"right\" data-stat=\"goals_against\">51</td><td class=\"right\" data-stat=\"goal_diff\">-12</td><td class=\"right\" data-stat=\"points\">42</td><td class=\"right\" data-stat=\"points_avg\">1.11</td><td class=\"right\" csk=\"24825\" data-stat=\"attendance_per_g\">24,825</td><td class=\"right\" csk=\"5\" data-stat=\"top_team_scorers\"><a href=\"/en/players/52105203/Scott-Dann\">Scott Dann</a>, <a href=\"/en/players/ad7b19ef/Yohan-Cabaye\">Yohan Cabaye</a>... - <span>5</span></td><td class=\"right\" data-stat=\"top_keeper\"><a href=\"/en/players/76eca7e2/Wayne-Hennessey\">Wayne Hennessey</a></td><td class=\"left iz\" data-stat=\"notes\"></td></tr> <tr><th class=\"right\" csk=\"16\" data-stat=\"rank\" scope=\"row\">16</th><td class=\"left\" data-stat=\"team\"><img alt=\"Club Crest\" height=\"13\" itemscope=\"image\" src=\"https://cdn.ssref.net/req/202303201/tlogo/fb/mini.4ba7cbea.png\" style=\"vertical-align:text-top\" width=\"13\"/> <a href=\"/en/squads/4ba7cbea/2015-2016/Bournemouth-Stats\">Bournemouth</a></td><td class=\"right\" data-stat=\"games\">38</td><td class=\"right\" data-stat=\"wins\">11</td><td class=\"right\" data-stat=\"ties\">9</td><td class=\"right\" data-stat=\"losses\">18</td><td class=\"right\" data-stat=\"goals_for\">45</td><td class=\"right\" data-stat=\"goals_against\">67</td><td class=\"right\" data-stat=\"goal_diff\">-22</td><td class=\"right\" data-stat=\"points\">42</td><td class=\"right\" data-stat=\"points_avg\">1.11</td><td class=\"right\" csk=\"11189\" data-stat=\"attendance_per_g\">11,189</td><td class=\"right\" csk=\"6\" data-stat=\"top_team_scorers\"><a href=\"/en/players/43458538/Joshua-King\">Joshua King</a> - <span>6</span></td><td class=\"right\" data-stat=\"top_keeper\"><a href=\"/en/players/34ccf6fa/Artur-Boruc\">Artur Boruc</a></td><td class=\"left iz\" data-stat=\"notes\"></td></tr> <tr><th class=\"right\" csk=\"17\" data-stat=\"rank\" scope=\"row\">17</th><td class=\"left\" data-stat=\"team\"><img alt=\"Club Crest\" height=\"13\" itemscope=\"image\" src=\"https://cdn.ssref.net/req/202303201/tlogo/fb/mini.8ef52968.png\" style=\"vertical-align:text-top\" width=\"13\"/> <a href=\"/en/squads/8ef52968/2015-2016/Sunderland-Stats\">Sunderland</a></td><td class=\"right\" data-stat=\"games\">38</td><td class=\"right\" data-stat=\"wins\">9</td><td class=\"right\" data-stat=\"ties\">12</td><td class=\"right\" data-stat=\"losses\">17</td><td class=\"right\" data-stat=\"goals_for\">48</td><td class=\"right\" data-stat=\"goals_against\">62</td><td class=\"right\" data-stat=\"goal_diff\">-14</td><td class=\"right\" data-stat=\"points\">39</td><td class=\"right\" data-stat=\"points_avg\">1.03</td><td class=\"right\" csk=\"43071\" data-stat=\"attendance_per_g\">43,071</td><td class=\"right\" csk=\"15\" data-stat=\"top_team_scorers\"><a href=\"/en/players/f1e8372d/Jermain-Defoe\">Jermain Defoe</a> - <span>15</span></td><td class=\"right\" data-stat=\"top_keeper\"><a href=\"/en/players/c4173f1a/Vito-Mannone\">Vito Mannone</a></td><td class=\"left iz\" data-stat=\"notes\"></td></tr> <tr><th class=\"right relegate qualification_indicator\" csk=\"18\" data-stat=\"rank\" scope=\"row\">18</th><td class=\"left\" data-stat=\"team\"><img alt=\"Club Crest\" height=\"13\" itemscope=\"image\" src=\"https://cdn.ssref.net/req/202303201/tlogo/fb/mini.b2b47a98.png\" style=\"vertical-align:text-top\" width=\"13\"/> <a href=\"/en/squads/b2b47a98/2015-2016/Newcastle-United-Stats\">Newcastle Utd</a></td><td class=\"right\" data-stat=\"games\">38</td><td class=\"right\" data-stat=\"wins\">9</td><td class=\"right\" data-stat=\"ties\">10</td><td class=\"right\" data-stat=\"losses\">19</td><td class=\"right\" data-stat=\"goals_for\">44</td><td class=\"right\" data-stat=\"goals_against\">65</td><td class=\"right\" data-stat=\"goal_diff\">-21</td><td class=\"right\" data-stat=\"points\">37</td><td class=\"right\" data-stat=\"points_avg\">0.97</td><td class=\"right\" csk=\"49754\" data-stat=\"attendance_per_g\">49,754</td><td class=\"right\" csk=\"11\" data-stat=\"top_team_scorers\"><a href=\"/en/players/eb58eef0/Georginio-Wijnaldum\">Georginio Wijnaldum</a> - <span>11</span></td><td class=\"right\" data-stat=\"top_keeper\"><a href=\"/en/players/b1b25949/Rob-Elliot\">Rob Elliot</a></td><td class=\"left\" data-stat=\"notes\">Relegated</td></tr> <tr><th class=\"right relegate qualification_indicator\" csk=\"19\" data-stat=\"rank\" scope=\"row\">19</th><td class=\"left\" data-stat=\"team\"><img alt=\"Club Crest\" height=\"13\" itemscope=\"image\" src=\"https://cdn.ssref.net/req/202303201/tlogo/fb/mini.1c781004.png\" style=\"vertical-align:text-top\" width=\"13\"/> <a href=\"/en/squads/1c781004/2015-2016/Norwich-City-Stats\">Norwich City</a></td><td class=\"right\" data-stat=\"games\">38</td><td class=\"right\" data-stat=\"wins\">9</td><td class=\"right\" data-stat=\"ties\">7</td><td class=\"right\" data-stat=\"losses\">22</td><td class=\"right\" data-stat=\"goals_for\">39</td><td class=\"right\" data-stat=\"goals_against\">67</td><td class=\"right\" data-stat=\"goal_diff\">-28</td><td class=\"right\" data-stat=\"points\">34</td><td class=\"right\" data-stat=\"points_avg\">0.89</td><td class=\"right\" csk=\"26972\" data-stat=\"attendance_per_g\">26,972</td><td class=\"right\" csk=\"7\" data-stat=\"top_team_scorers\"><a href=\"/en/players/d9847696/Dieumerci-Mbokani\">Dieumerci Mbokani</a> - <span>7</span></td><td class=\"right\" data-stat=\"top_keeper\"><a href=\"/en/players/da8b19e2/John-Ruddy\">John Ruddy</a></td><td class=\"left\" data-stat=\"notes\">Relegated</td></tr> <tr><th class=\"right relegate qualification_indicator\" csk=\"20\" data-stat=\"rank\" scope=\"row\">20</th><td class=\"left\" data-stat=\"team\"><img alt=\"Club Crest\" height=\"13\" itemscope=\"image\" src=\"https://cdn.ssref.net/req/202303201/tlogo/fb/mini.8602292d.png\" style=\"vertical-align:text-top\" width=\"13\"/> <a href=\"/en/squads/8602292d/2015-2016/Aston-Villa-Stats\">Aston Villa</a></td><td class=\"right\" data-stat=\"games\">38</td><td class=\"right\" data-stat=\"wins\">3</td><td class=\"right\" data-stat=\"ties\">8</td><td class=\"right\" data-stat=\"losses\">27</td><td class=\"right\" data-stat=\"goals_for\">27</td><td class=\"right\" data-stat=\"goals_against\">76</td><td class=\"right\" data-stat=\"goal_diff\">-49</td><td class=\"right\" data-stat=\"points\">17</td><td class=\"right\" data-stat=\"points_avg\">0.45</td><td class=\"right\" csk=\"33690\" data-stat=\"attendance_per_g\">33,690</td><td class=\"right\" csk=\"7\" data-stat=\"top_team_scorers\"><a href=\"/en/players/da052c14/Jordan-Ayew\">Jordan Ayew</a> - <span>7</span></td><td class=\"right\" data-stat=\"top_keeper\"><a href=\"/en/players/d899e3bf/Brad-Guzan\">Brad Guzan</a></td><td class=\"left\" data-stat=\"notes\">Relegated</td></tr> </tbody>"
      ]
     },
     "execution_count": 14,
     "metadata": {},
     "output_type": "execute_result"
    }
   ],
   "source": [
    "table_tags.tbody"
   ]
  },
  {
   "cell_type": "code",
   "execution_count": 15,
   "id": "12deba66",
   "metadata": {
    "scrolled": false
   },
   "outputs": [
    {
     "data": {
      "text/plain": [
       "[<tr> <th aria-label=\"Rank\" class=\"poptip sort_default_asc center\" data-stat=\"rank\" data-tip=\"&lt;strong&gt;Rank&lt;/strong&gt;&lt;br&gt;Squad finish in competition&lt;br&gt;Finish within the league or competition.&lt;br&gt;For knockout competitions may show final round reached.&lt;br&gt;Colors and arrows represent promotion/relegation or qualifiation for continental cups.&lt;br&gt;Trophy indicates team won league whether by playoffs or by leading the table.&lt;br&gt;Star indicates topped table in league USING another means of naming champion.\" scope=\"col\">Rk</th> <th aria-label=\"Squad\" class=\"poptip sort_default_asc center\" data-stat=\"team\" scope=\"col\">Squad</th> <th aria-label=\"Matches Played\" class=\"poptip center\" data-stat=\"games\" data-tip=\"&lt;strong&gt;Matches Played&lt;/strong&gt;&lt;br&gt;Matches Played by the player or squad\" scope=\"col\">MP</th> <th aria-label=\"Wins\" class=\"poptip center\" data-stat=\"wins\" data-tip=\"&lt;strong&gt;Wins&lt;/strong&gt;&lt;br&gt;Wins\" scope=\"col\">W</th> <th aria-label=\"Draws\" class=\"poptip center\" data-stat=\"ties\" data-tip=\"&lt;strong&gt;Draws&lt;/strong&gt;&lt;br&gt;Draws\" scope=\"col\">D</th> <th aria-label=\"Losses\" class=\"poptip center\" data-stat=\"losses\" data-tip=\"&lt;strong&gt;Losses&lt;/strong&gt;&lt;br&gt;Losses\" scope=\"col\">L</th> <th aria-label=\"Goals For\" class=\"poptip center\" data-stat=\"goals_for\" data-tip=\"&lt;strong&gt;Goals For&lt;/strong&gt;&lt;br&gt;Goals For\" scope=\"col\">GF</th> <th aria-label=\"Goals Against\" class=\"poptip center\" data-stat=\"goals_against\" data-tip=\"&lt;strong&gt;Goals Against&lt;/strong&gt;&lt;br&gt;Goals Against\" scope=\"col\">GA</th> <th aria-label=\"Goal Difference\" class=\"poptip center\" data-stat=\"goal_diff\" data-tip=\"&lt;strong&gt;Goal Difference&lt;/strong&gt;&lt;br&gt;Goal Difference\" scope=\"col\">GD</th> <th aria-label=\"Points\" class=\"poptip center\" data-stat=\"points\" data-tip=\"&lt;strong&gt;Points&lt;/strong&gt;&lt;br&gt;Most leagues are ordered by points.&lt;br&gt;Three for a win and one for a draw.\" scope=\"col\">Pts</th> <th aria-label=\"Points/Game\" class=\"poptip center\" data-stat=\"points_avg\" data-tip=\"&lt;strong&gt;Points/Game&lt;/strong&gt;&lt;br&gt;Points per Match Played\" scope=\"col\">Pts/MP</th> <th aria-label=\"Attendance/Game\" class=\"poptip center\" data-stat=\"attendance_per_g\" data-tip=\"&lt;strong&gt;Attendance/Game&lt;/strong&gt;&lt;br&gt;Attendance per game during this season, only for home matches\" scope=\"col\">Attendance</th> <th aria-label=\"Top Team Scorer\" class=\"poptip center\" data-stat=\"top_team_scorers\" data-tip=\"Only includes league matches for that season\" scope=\"col\">Top Team Scorer</th> <th aria-label=\"Goalkeeper\" class=\"poptip center\" data-stat=\"top_keeper\" data-tip=\"Goalkeeper with the most minutes in league play\" scope=\"col\">Goalkeeper</th> <th aria-label=\"Notes\" class=\"poptip center\" data-stat=\"notes\" scope=\"col\">Notes</th> </tr>]"
      ]
     },
     "execution_count": 15,
     "metadata": {},
     "output_type": "execute_result"
    }
   ],
   "source": [
    "content_to_list(table_tags.thead.contents)"
   ]
  },
  {
   "cell_type": "code",
   "execution_count": 16,
   "id": "220000f3",
   "metadata": {},
   "outputs": [],
   "source": [
    "table_header_tags = content_to_list(table_tags.thead.contents)"
   ]
  },
  {
   "cell_type": "code",
   "execution_count": 17,
   "id": "dfa7ed33",
   "metadata": {},
   "outputs": [
    {
     "data": {
      "text/plain": [
       "[<tr> <th aria-label=\"Rank\" class=\"poptip sort_default_asc center\" data-stat=\"rank\" data-tip=\"&lt;strong&gt;Rank&lt;/strong&gt;&lt;br&gt;Squad finish in competition&lt;br&gt;Finish within the league or competition.&lt;br&gt;For knockout competitions may show final round reached.&lt;br&gt;Colors and arrows represent promotion/relegation or qualifiation for continental cups.&lt;br&gt;Trophy indicates team won league whether by playoffs or by leading the table.&lt;br&gt;Star indicates topped table in league USING another means of naming champion.\" scope=\"col\">Rk</th> <th aria-label=\"Squad\" class=\"poptip sort_default_asc center\" data-stat=\"team\" scope=\"col\">Squad</th> <th aria-label=\"Matches Played\" class=\"poptip center\" data-stat=\"games\" data-tip=\"&lt;strong&gt;Matches Played&lt;/strong&gt;&lt;br&gt;Matches Played by the player or squad\" scope=\"col\">MP</th> <th aria-label=\"Wins\" class=\"poptip center\" data-stat=\"wins\" data-tip=\"&lt;strong&gt;Wins&lt;/strong&gt;&lt;br&gt;Wins\" scope=\"col\">W</th> <th aria-label=\"Draws\" class=\"poptip center\" data-stat=\"ties\" data-tip=\"&lt;strong&gt;Draws&lt;/strong&gt;&lt;br&gt;Draws\" scope=\"col\">D</th> <th aria-label=\"Losses\" class=\"poptip center\" data-stat=\"losses\" data-tip=\"&lt;strong&gt;Losses&lt;/strong&gt;&lt;br&gt;Losses\" scope=\"col\">L</th> <th aria-label=\"Goals For\" class=\"poptip center\" data-stat=\"goals_for\" data-tip=\"&lt;strong&gt;Goals For&lt;/strong&gt;&lt;br&gt;Goals For\" scope=\"col\">GF</th> <th aria-label=\"Goals Against\" class=\"poptip center\" data-stat=\"goals_against\" data-tip=\"&lt;strong&gt;Goals Against&lt;/strong&gt;&lt;br&gt;Goals Against\" scope=\"col\">GA</th> <th aria-label=\"Goal Difference\" class=\"poptip center\" data-stat=\"goal_diff\" data-tip=\"&lt;strong&gt;Goal Difference&lt;/strong&gt;&lt;br&gt;Goal Difference\" scope=\"col\">GD</th> <th aria-label=\"Points\" class=\"poptip center\" data-stat=\"points\" data-tip=\"&lt;strong&gt;Points&lt;/strong&gt;&lt;br&gt;Most leagues are ordered by points.&lt;br&gt;Three for a win and one for a draw.\" scope=\"col\">Pts</th> <th aria-label=\"Points/Game\" class=\"poptip center\" data-stat=\"points_avg\" data-tip=\"&lt;strong&gt;Points/Game&lt;/strong&gt;&lt;br&gt;Points per Match Played\" scope=\"col\">Pts/MP</th> <th aria-label=\"Attendance/Game\" class=\"poptip center\" data-stat=\"attendance_per_g\" data-tip=\"&lt;strong&gt;Attendance/Game&lt;/strong&gt;&lt;br&gt;Attendance per game during this season, only for home matches\" scope=\"col\">Attendance</th> <th aria-label=\"Top Team Scorer\" class=\"poptip center\" data-stat=\"top_team_scorers\" data-tip=\"Only includes league matches for that season\" scope=\"col\">Top Team Scorer</th> <th aria-label=\"Goalkeeper\" class=\"poptip center\" data-stat=\"top_keeper\" data-tip=\"Goalkeeper with the most minutes in league play\" scope=\"col\">Goalkeeper</th> <th aria-label=\"Notes\" class=\"poptip center\" data-stat=\"notes\" scope=\"col\">Notes</th> </tr>]"
      ]
     },
     "execution_count": 17,
     "metadata": {},
     "output_type": "execute_result"
    }
   ],
   "source": [
    "table_header_tags"
   ]
  },
  {
   "cell_type": "markdown",
   "id": "89ce0915",
   "metadata": {},
   "source": [
    "#### Creating a list containing the table headers"
   ]
  },
  {
   "cell_type": "code",
   "execution_count": 18,
   "id": "7fe4877e",
   "metadata": {},
   "outputs": [],
   "source": [
    "table_header_tags = table_header_tags[0]"
   ]
  },
  {
   "cell_type": "code",
   "execution_count": 19,
   "id": "d4d92fbc",
   "metadata": {},
   "outputs": [],
   "source": [
    "table_header_tags = content_to_list(table_header_tags.contents)"
   ]
  },
  {
   "cell_type": "code",
   "execution_count": 20,
   "id": "2654713f",
   "metadata": {},
   "outputs": [],
   "source": [
    "list_of_table_header = []\n",
    "for i in table_header_tags:\n",
    "    list_of_table_header.append(i.text)"
   ]
  },
  {
   "cell_type": "code",
   "execution_count": 21,
   "id": "35ea3223",
   "metadata": {},
   "outputs": [
    {
     "data": {
      "text/plain": [
       "['Rk',\n",
       " 'Squad',\n",
       " 'MP',\n",
       " 'W',\n",
       " 'D',\n",
       " 'L',\n",
       " 'GF',\n",
       " 'GA',\n",
       " 'GD',\n",
       " 'Pts',\n",
       " 'Pts/MP',\n",
       " 'Attendance',\n",
       " 'Top Team Scorer',\n",
       " 'Goalkeeper',\n",
       " 'Notes']"
      ]
     },
     "execution_count": 21,
     "metadata": {},
     "output_type": "execute_result"
    }
   ],
   "source": [
    "list_of_table_header"
   ]
  },
  {
   "cell_type": "code",
   "execution_count": 22,
   "id": "b4583b67",
   "metadata": {},
   "outputs": [],
   "source": [
    "table_body_tags = content_to_list(table_tags.tbody.contents)"
   ]
  },
  {
   "cell_type": "code",
   "execution_count": 23,
   "id": "93b93bf9",
   "metadata": {},
   "outputs": [],
   "source": [
    "header_dictionary = create_dictionary(list_of_table_header)"
   ]
  },
  {
   "cell_type": "code",
   "execution_count": 24,
   "id": "95d20e73",
   "metadata": {},
   "outputs": [],
   "source": [
    "for i in table_body_tags:\n",
    "    team_detail = text_extract_from_contents(i.contents)\n",
    "    for j in range(len(header_dictionary)):\n",
    "        header_dictionary[list_of_table_header[j]].append(team_detail[j])\n",
    "        "
   ]
  },
  {
   "cell_type": "code",
   "execution_count": 25,
   "id": "4c102518",
   "metadata": {},
   "outputs": [
    {
     "data": {
      "text/html": [
       "<div>\n",
       "<style scoped>\n",
       "    .dataframe tbody tr th:only-of-type {\n",
       "        vertical-align: middle;\n",
       "    }\n",
       "\n",
       "    .dataframe tbody tr th {\n",
       "        vertical-align: top;\n",
       "    }\n",
       "\n",
       "    .dataframe thead th {\n",
       "        text-align: right;\n",
       "    }\n",
       "</style>\n",
       "<table border=\"1\" class=\"dataframe\">\n",
       "  <thead>\n",
       "    <tr style=\"text-align: right;\">\n",
       "      <th></th>\n",
       "      <th>Rk</th>\n",
       "      <th>Squad</th>\n",
       "      <th>MP</th>\n",
       "      <th>W</th>\n",
       "      <th>D</th>\n",
       "      <th>L</th>\n",
       "      <th>GF</th>\n",
       "      <th>GA</th>\n",
       "      <th>GD</th>\n",
       "      <th>Pts</th>\n",
       "      <th>Pts/MP</th>\n",
       "      <th>Attendance</th>\n",
       "      <th>Top Team Scorer</th>\n",
       "      <th>Goalkeeper</th>\n",
       "      <th>Notes</th>\n",
       "    </tr>\n",
       "  </thead>\n",
       "  <tbody>\n",
       "    <tr>\n",
       "      <th>0</th>\n",
       "      <td>1</td>\n",
       "      <td>Leicester City</td>\n",
       "      <td>38</td>\n",
       "      <td>23</td>\n",
       "      <td>12</td>\n",
       "      <td>3</td>\n",
       "      <td>68</td>\n",
       "      <td>36</td>\n",
       "      <td>+32</td>\n",
       "      <td>81</td>\n",
       "      <td>2.13</td>\n",
       "      <td>31,998</td>\n",
       "      <td>Jamie Vardy - 24</td>\n",
       "      <td>Kasper Schmeichel</td>\n",
       "      <td>→ Champions League via league finish</td>\n",
       "    </tr>\n",
       "    <tr>\n",
       "      <th>1</th>\n",
       "      <td>2</td>\n",
       "      <td>Arsenal</td>\n",
       "      <td>38</td>\n",
       "      <td>20</td>\n",
       "      <td>11</td>\n",
       "      <td>7</td>\n",
       "      <td>65</td>\n",
       "      <td>36</td>\n",
       "      <td>+29</td>\n",
       "      <td>71</td>\n",
       "      <td>1.87</td>\n",
       "      <td>59,944</td>\n",
       "      <td>Olivier Giroud - 16</td>\n",
       "      <td>Petr Čech</td>\n",
       "      <td>→ Champions League via league finish</td>\n",
       "    </tr>\n",
       "    <tr>\n",
       "      <th>2</th>\n",
       "      <td>3</td>\n",
       "      <td>Tottenham</td>\n",
       "      <td>38</td>\n",
       "      <td>19</td>\n",
       "      <td>13</td>\n",
       "      <td>6</td>\n",
       "      <td>69</td>\n",
       "      <td>35</td>\n",
       "      <td>+34</td>\n",
       "      <td>70</td>\n",
       "      <td>1.84</td>\n",
       "      <td>35,776</td>\n",
       "      <td>Harry Kane - 25</td>\n",
       "      <td>Hugo Lloris</td>\n",
       "      <td>→ Champions League via league finish</td>\n",
       "    </tr>\n",
       "    <tr>\n",
       "      <th>3</th>\n",
       "      <td>4</td>\n",
       "      <td>Manchester City</td>\n",
       "      <td>38</td>\n",
       "      <td>19</td>\n",
       "      <td>9</td>\n",
       "      <td>10</td>\n",
       "      <td>71</td>\n",
       "      <td>41</td>\n",
       "      <td>+30</td>\n",
       "      <td>66</td>\n",
       "      <td>1.74</td>\n",
       "      <td>54,041</td>\n",
       "      <td>Sergio Agüero - 24</td>\n",
       "      <td>Joe Hart</td>\n",
       "      <td>→ Champions League via league finish</td>\n",
       "    </tr>\n",
       "    <tr>\n",
       "      <th>4</th>\n",
       "      <td>5</td>\n",
       "      <td>Manchester Utd</td>\n",
       "      <td>38</td>\n",
       "      <td>19</td>\n",
       "      <td>9</td>\n",
       "      <td>10</td>\n",
       "      <td>49</td>\n",
       "      <td>35</td>\n",
       "      <td>+14</td>\n",
       "      <td>66</td>\n",
       "      <td>1.74</td>\n",
       "      <td>75,286</td>\n",
       "      <td>Anthony Martial - 11</td>\n",
       "      <td>David de Gea</td>\n",
       "      <td>→ Europa League via cup win 1</td>\n",
       "    </tr>\n",
       "    <tr>\n",
       "      <th>5</th>\n",
       "      <td>6</td>\n",
       "      <td>Southampton</td>\n",
       "      <td>38</td>\n",
       "      <td>18</td>\n",
       "      <td>9</td>\n",
       "      <td>11</td>\n",
       "      <td>59</td>\n",
       "      <td>41</td>\n",
       "      <td>+18</td>\n",
       "      <td>63</td>\n",
       "      <td>1.66</td>\n",
       "      <td>30,751</td>\n",
       "      <td>Sadio Mané, Graziano Pellè - 11</td>\n",
       "      <td>Fraser Forster</td>\n",
       "      <td>→ Europa League via league finish 2</td>\n",
       "    </tr>\n",
       "    <tr>\n",
       "      <th>6</th>\n",
       "      <td>7</td>\n",
       "      <td>West Ham</td>\n",
       "      <td>38</td>\n",
       "      <td>16</td>\n",
       "      <td>14</td>\n",
       "      <td>8</td>\n",
       "      <td>65</td>\n",
       "      <td>51</td>\n",
       "      <td>+14</td>\n",
       "      <td>62</td>\n",
       "      <td>1.63</td>\n",
       "      <td>34,910</td>\n",
       "      <td>Dimitri Payet, Andy Carroll - 9</td>\n",
       "      <td>Adrián</td>\n",
       "      <td>→ Europa League via league finish 3</td>\n",
       "    </tr>\n",
       "    <tr>\n",
       "      <th>7</th>\n",
       "      <td>8</td>\n",
       "      <td>Liverpool</td>\n",
       "      <td>38</td>\n",
       "      <td>16</td>\n",
       "      <td>12</td>\n",
       "      <td>10</td>\n",
       "      <td>63</td>\n",
       "      <td>50</td>\n",
       "      <td>+13</td>\n",
       "      <td>60</td>\n",
       "      <td>1.58</td>\n",
       "      <td>43,910</td>\n",
       "      <td>Roberto Firmino - 10</td>\n",
       "      <td>Simon Mignolet</td>\n",
       "      <td></td>\n",
       "    </tr>\n",
       "    <tr>\n",
       "      <th>8</th>\n",
       "      <td>9</td>\n",
       "      <td>Stoke City</td>\n",
       "      <td>38</td>\n",
       "      <td>14</td>\n",
       "      <td>9</td>\n",
       "      <td>15</td>\n",
       "      <td>41</td>\n",
       "      <td>55</td>\n",
       "      <td>-14</td>\n",
       "      <td>51</td>\n",
       "      <td>1.34</td>\n",
       "      <td>27,534</td>\n",
       "      <td>Marko Arnautović - 11</td>\n",
       "      <td>Jack Butland</td>\n",
       "      <td></td>\n",
       "    </tr>\n",
       "    <tr>\n",
       "      <th>9</th>\n",
       "      <td>10</td>\n",
       "      <td>Chelsea</td>\n",
       "      <td>38</td>\n",
       "      <td>12</td>\n",
       "      <td>14</td>\n",
       "      <td>12</td>\n",
       "      <td>59</td>\n",
       "      <td>53</td>\n",
       "      <td>+6</td>\n",
       "      <td>50</td>\n",
       "      <td>1.32</td>\n",
       "      <td>41,500</td>\n",
       "      <td>Diego Costa - 12</td>\n",
       "      <td>Thibaut Courtois</td>\n",
       "      <td></td>\n",
       "    </tr>\n",
       "    <tr>\n",
       "      <th>10</th>\n",
       "      <td>11</td>\n",
       "      <td>Everton</td>\n",
       "      <td>38</td>\n",
       "      <td>11</td>\n",
       "      <td>14</td>\n",
       "      <td>13</td>\n",
       "      <td>59</td>\n",
       "      <td>55</td>\n",
       "      <td>+4</td>\n",
       "      <td>47</td>\n",
       "      <td>1.24</td>\n",
       "      <td>38,124</td>\n",
       "      <td>Romelu Lukaku - 18</td>\n",
       "      <td>Tim Howard</td>\n",
       "      <td></td>\n",
       "    </tr>\n",
       "    <tr>\n",
       "      <th>11</th>\n",
       "      <td>12</td>\n",
       "      <td>Swansea City</td>\n",
       "      <td>38</td>\n",
       "      <td>12</td>\n",
       "      <td>11</td>\n",
       "      <td>15</td>\n",
       "      <td>42</td>\n",
       "      <td>52</td>\n",
       "      <td>-10</td>\n",
       "      <td>47</td>\n",
       "      <td>1.24</td>\n",
       "      <td>20,711</td>\n",
       "      <td>André Ayew - 12</td>\n",
       "      <td>Łukasz Fabiański</td>\n",
       "      <td></td>\n",
       "    </tr>\n",
       "    <tr>\n",
       "      <th>12</th>\n",
       "      <td>13</td>\n",
       "      <td>Watford</td>\n",
       "      <td>38</td>\n",
       "      <td>12</td>\n",
       "      <td>9</td>\n",
       "      <td>17</td>\n",
       "      <td>40</td>\n",
       "      <td>50</td>\n",
       "      <td>-10</td>\n",
       "      <td>45</td>\n",
       "      <td>1.18</td>\n",
       "      <td>20,594</td>\n",
       "      <td>Odion Ighalo - 15</td>\n",
       "      <td>Heurelho Gomes</td>\n",
       "      <td></td>\n",
       "    </tr>\n",
       "    <tr>\n",
       "      <th>13</th>\n",
       "      <td>14</td>\n",
       "      <td>West Brom</td>\n",
       "      <td>38</td>\n",
       "      <td>10</td>\n",
       "      <td>13</td>\n",
       "      <td>15</td>\n",
       "      <td>34</td>\n",
       "      <td>48</td>\n",
       "      <td>-14</td>\n",
       "      <td>43</td>\n",
       "      <td>1.13</td>\n",
       "      <td>24,631</td>\n",
       "      <td>Salomón Rondón - 9</td>\n",
       "      <td>Boaz Myhill</td>\n",
       "      <td></td>\n",
       "    </tr>\n",
       "    <tr>\n",
       "      <th>14</th>\n",
       "      <td>15</td>\n",
       "      <td>Crystal Palace</td>\n",
       "      <td>38</td>\n",
       "      <td>11</td>\n",
       "      <td>9</td>\n",
       "      <td>18</td>\n",
       "      <td>39</td>\n",
       "      <td>51</td>\n",
       "      <td>-12</td>\n",
       "      <td>42</td>\n",
       "      <td>1.11</td>\n",
       "      <td>24,825</td>\n",
       "      <td>Scott Dann, Yohan Cabaye... - 5</td>\n",
       "      <td>Wayne Hennessey</td>\n",
       "      <td></td>\n",
       "    </tr>\n",
       "    <tr>\n",
       "      <th>15</th>\n",
       "      <td>16</td>\n",
       "      <td>Bournemouth</td>\n",
       "      <td>38</td>\n",
       "      <td>11</td>\n",
       "      <td>9</td>\n",
       "      <td>18</td>\n",
       "      <td>45</td>\n",
       "      <td>67</td>\n",
       "      <td>-22</td>\n",
       "      <td>42</td>\n",
       "      <td>1.11</td>\n",
       "      <td>11,189</td>\n",
       "      <td>Joshua King - 6</td>\n",
       "      <td>Artur Boruc</td>\n",
       "      <td></td>\n",
       "    </tr>\n",
       "    <tr>\n",
       "      <th>16</th>\n",
       "      <td>17</td>\n",
       "      <td>Sunderland</td>\n",
       "      <td>38</td>\n",
       "      <td>9</td>\n",
       "      <td>12</td>\n",
       "      <td>17</td>\n",
       "      <td>48</td>\n",
       "      <td>62</td>\n",
       "      <td>-14</td>\n",
       "      <td>39</td>\n",
       "      <td>1.03</td>\n",
       "      <td>43,071</td>\n",
       "      <td>Jermain Defoe - 15</td>\n",
       "      <td>Vito Mannone</td>\n",
       "      <td></td>\n",
       "    </tr>\n",
       "    <tr>\n",
       "      <th>17</th>\n",
       "      <td>18</td>\n",
       "      <td>Newcastle Utd</td>\n",
       "      <td>38</td>\n",
       "      <td>9</td>\n",
       "      <td>10</td>\n",
       "      <td>19</td>\n",
       "      <td>44</td>\n",
       "      <td>65</td>\n",
       "      <td>-21</td>\n",
       "      <td>37</td>\n",
       "      <td>0.97</td>\n",
       "      <td>49,754</td>\n",
       "      <td>Georginio Wijnaldum - 11</td>\n",
       "      <td>Rob Elliot</td>\n",
       "      <td>Relegated</td>\n",
       "    </tr>\n",
       "    <tr>\n",
       "      <th>18</th>\n",
       "      <td>19</td>\n",
       "      <td>Norwich City</td>\n",
       "      <td>38</td>\n",
       "      <td>9</td>\n",
       "      <td>7</td>\n",
       "      <td>22</td>\n",
       "      <td>39</td>\n",
       "      <td>67</td>\n",
       "      <td>-28</td>\n",
       "      <td>34</td>\n",
       "      <td>0.89</td>\n",
       "      <td>26,972</td>\n",
       "      <td>Dieumerci Mbokani - 7</td>\n",
       "      <td>John Ruddy</td>\n",
       "      <td>Relegated</td>\n",
       "    </tr>\n",
       "    <tr>\n",
       "      <th>19</th>\n",
       "      <td>20</td>\n",
       "      <td>Aston Villa</td>\n",
       "      <td>38</td>\n",
       "      <td>3</td>\n",
       "      <td>8</td>\n",
       "      <td>27</td>\n",
       "      <td>27</td>\n",
       "      <td>76</td>\n",
       "      <td>-49</td>\n",
       "      <td>17</td>\n",
       "      <td>0.45</td>\n",
       "      <td>33,690</td>\n",
       "      <td>Jordan Ayew - 7</td>\n",
       "      <td>Brad Guzan</td>\n",
       "      <td>Relegated</td>\n",
       "    </tr>\n",
       "  </tbody>\n",
       "</table>\n",
       "</div>"
      ],
      "text/plain": [
       "    Rk             Squad  MP   W   D   L  GF  GA   GD Pts Pts/MP Attendance  \\\n",
       "0    1    Leicester City  38  23  12   3  68  36  +32  81   2.13     31,998   \n",
       "1    2           Arsenal  38  20  11   7  65  36  +29  71   1.87     59,944   \n",
       "2    3         Tottenham  38  19  13   6  69  35  +34  70   1.84     35,776   \n",
       "3    4   Manchester City  38  19   9  10  71  41  +30  66   1.74     54,041   \n",
       "4    5    Manchester Utd  38  19   9  10  49  35  +14  66   1.74     75,286   \n",
       "5    6       Southampton  38  18   9  11  59  41  +18  63   1.66     30,751   \n",
       "6    7          West Ham  38  16  14   8  65  51  +14  62   1.63     34,910   \n",
       "7    8         Liverpool  38  16  12  10  63  50  +13  60   1.58     43,910   \n",
       "8    9        Stoke City  38  14   9  15  41  55  -14  51   1.34     27,534   \n",
       "9   10           Chelsea  38  12  14  12  59  53   +6  50   1.32     41,500   \n",
       "10  11           Everton  38  11  14  13  59  55   +4  47   1.24     38,124   \n",
       "11  12      Swansea City  38  12  11  15  42  52  -10  47   1.24     20,711   \n",
       "12  13           Watford  38  12   9  17  40  50  -10  45   1.18     20,594   \n",
       "13  14         West Brom  38  10  13  15  34  48  -14  43   1.13     24,631   \n",
       "14  15    Crystal Palace  38  11   9  18  39  51  -12  42   1.11     24,825   \n",
       "15  16       Bournemouth  38  11   9  18  45  67  -22  42   1.11     11,189   \n",
       "16  17        Sunderland  38   9  12  17  48  62  -14  39   1.03     43,071   \n",
       "17  18     Newcastle Utd  38   9  10  19  44  65  -21  37   0.97     49,754   \n",
       "18  19      Norwich City  38   9   7  22  39  67  -28  34   0.89     26,972   \n",
       "19  20       Aston Villa  38   3   8  27  27  76  -49  17   0.45     33,690   \n",
       "\n",
       "                    Top Team Scorer         Goalkeeper  \\\n",
       "0                  Jamie Vardy - 24  Kasper Schmeichel   \n",
       "1               Olivier Giroud - 16          Petr Čech   \n",
       "2                   Harry Kane - 25        Hugo Lloris   \n",
       "3                Sergio Agüero - 24           Joe Hart   \n",
       "4              Anthony Martial - 11       David de Gea   \n",
       "5   Sadio Mané, Graziano Pellè - 11     Fraser Forster   \n",
       "6   Dimitri Payet, Andy Carroll - 9             Adrián   \n",
       "7              Roberto Firmino - 10     Simon Mignolet   \n",
       "8             Marko Arnautović - 11       Jack Butland   \n",
       "9                  Diego Costa - 12   Thibaut Courtois   \n",
       "10               Romelu Lukaku - 18         Tim Howard   \n",
       "11                  André Ayew - 12   Łukasz Fabiański   \n",
       "12                Odion Ighalo - 15     Heurelho Gomes   \n",
       "13               Salomón Rondón - 9        Boaz Myhill   \n",
       "14  Scott Dann, Yohan Cabaye... - 5    Wayne Hennessey   \n",
       "15                  Joshua King - 6        Artur Boruc   \n",
       "16               Jermain Defoe - 15       Vito Mannone   \n",
       "17         Georginio Wijnaldum - 11         Rob Elliot   \n",
       "18            Dieumerci Mbokani - 7         John Ruddy   \n",
       "19                  Jordan Ayew - 7         Brad Guzan   \n",
       "\n",
       "                                   Notes  \n",
       "0   → Champions League via league finish  \n",
       "1   → Champions League via league finish  \n",
       "2   → Champions League via league finish  \n",
       "3   → Champions League via league finish  \n",
       "4          → Europa League via cup win 1  \n",
       "5    → Europa League via league finish 2  \n",
       "6    → Europa League via league finish 3  \n",
       "7                                         \n",
       "8                                         \n",
       "9                                         \n",
       "10                                        \n",
       "11                                        \n",
       "12                                        \n",
       "13                                        \n",
       "14                                        \n",
       "15                                        \n",
       "16                                        \n",
       "17                             Relegated  \n",
       "18                             Relegated  \n",
       "19                             Relegated  "
      ]
     },
     "execution_count": 25,
     "metadata": {},
     "output_type": "execute_result"
    }
   ],
   "source": [
    "pd.DataFrame(header_dictionary)"
   ]
  },
  {
   "cell_type": "code",
   "execution_count": null,
   "id": "a2b57f93",
   "metadata": {},
   "outputs": [],
   "source": []
  },
  {
   "cell_type": "markdown",
   "id": "dd997db9",
   "metadata": {},
   "source": [
    "## Making  a function for scraping more season table from different seasons"
   ]
  },
  {
   "cell_type": "code",
   "execution_count": 4,
   "id": "4957e447",
   "metadata": {},
   "outputs": [],
   "source": [
    "def request_to_soup(url):\n",
    "    # Requesting web server to get acces to the web page and converting it into text\n",
    "    page = requests.get(url)\n",
    "\n",
    "    # Checking status code for URL\n",
    "    code = page.status_code\n",
    "    print(code)\n",
    "    \n",
    "    # Instantiating BeautifulSoup library\n",
    "    soup = BeautifulSoup(page.text)\n",
    "    \n",
    "    return soup"
   ]
  },
  {
   "cell_type": "markdown",
   "id": "d98eefc5",
   "metadata": {},
   "source": [
    "### Create a scaper funtion get needed table tags and convert them into soutable form."
   ]
  },
  {
   "cell_type": "code",
   "execution_count": null,
   "id": "ed177508",
   "metadata": {},
   "outputs": [],
   "source": [
    "def scraper(soup_):\n",
    "    \n",
    "    # Finding tags which contain the season table    \n",
    "    table_tags = soup_.find('table')\n",
    "    \n",
    "    # Separating the table header tags and table body tags..\n",
    "    table_header_tags = table_tags.thead\n",
    "    table_body_tags = table_tags.tbody\n",
    "    \n",
    "    # Creating a list of heading from header tags\n",
    "    \n",
    "    \n",
    "    # Creating a list which cont    "
   ]
  },
  {
   "cell_type": "markdown",
   "id": "5d72b840",
   "metadata": {},
   "source": [
    "### Create final_table function return a dictionary or data from which connect header list to body contents of table"
   ]
  },
  {
   "cell_type": "code",
   "execution_count": null,
   "id": "b2def8cb",
   "metadata": {},
   "outputs": [],
   "source": []
  },
  {
   "cell_type": "code",
   "execution_count": null,
   "id": "91deee23",
   "metadata": {},
   "outputs": [],
   "source": []
  },
  {
   "cell_type": "markdown",
   "id": "a023e066",
   "metadata": {},
   "source": [
    "### Finally create a function which returns all season table according to inputs like season year and number of seasons to scrape"
   ]
  },
  {
   "cell_type": "code",
   "execution_count": 13,
   "id": "0f1c36bb",
   "metadata": {},
   "outputs": [
    {
     "name": "stdout",
     "output_type": "stream",
     "text": [
      "https://fbref.com/en/comps/9/2015-2016/2015-2016-Premier-League-Stats\n",
      "200\n"
     ]
    },
    {
     "ename": "TypeError",
     "evalue": "final_table() got an unexpected keyword argument 'headers_list'",
     "output_type": "error",
     "traceback": [
      "\u001b[1;31m---------------------------------------------------------------------------\u001b[0m",
      "\u001b[1;31mTypeError\u001b[0m                                 Traceback (most recent call last)",
      "\u001b[1;32m~\\AppData\\Local\\Temp/ipykernel_4560/2763234511.py\u001b[0m in \u001b[0;36m<module>\u001b[1;34m\u001b[0m\n\u001b[1;32m----> 1\u001b[1;33m \u001b[0mURL_to_table_csv\u001b[0m\u001b[1;33m(\u001b[0m\u001b[0mstart_year\u001b[0m\u001b[1;33m=\u001b[0m\u001b[1;36m2015\u001b[0m\u001b[1;33m,\u001b[0m\u001b[0mnumber_of_seasons\u001b[0m\u001b[1;33m=\u001b[0m\u001b[1;36m2\u001b[0m\u001b[1;33m)\u001b[0m\u001b[1;33m\u001b[0m\u001b[1;33m\u001b[0m\u001b[0m\n\u001b[0m",
      "\u001b[1;32m~\\AppData\\Local\\Temp/ipykernel_4560/1352496547.py\u001b[0m in \u001b[0;36mURL_to_table_csv\u001b[1;34m(start_year, number_of_seasons)\u001b[0m\n\u001b[0;32m     11\u001b[0m \u001b[1;33m\u001b[0m\u001b[0m\n\u001b[0;32m     12\u001b[0m         \u001b[1;31m# Calling the scraper function\u001b[0m\u001b[1;33m\u001b[0m\u001b[1;33m\u001b[0m\u001b[0m\n\u001b[1;32m---> 13\u001b[1;33m         \u001b[0mSquad_stats\u001b[0m \u001b[1;33m=\u001b[0m \u001b[0mscraper\u001b[0m\u001b[1;33m(\u001b[0m\u001b[0msoup_\u001b[0m\u001b[1;33m=\u001b[0m \u001b[0msoup\u001b[0m\u001b[1;33m)\u001b[0m\u001b[1;33m\u001b[0m\u001b[1;33m\u001b[0m\u001b[0m\n\u001b[0m\u001b[0;32m     14\u001b[0m \u001b[1;33m\u001b[0m\u001b[0m\n\u001b[0;32m     15\u001b[0m         \u001b[1;31m# Creating a template for naming the files\u001b[0m\u001b[1;33m\u001b[0m\u001b[1;33m\u001b[0m\u001b[0m\n",
      "\u001b[1;32m~\\AppData\\Local\\Temp/ipykernel_4560/1682201469.py\u001b[0m in \u001b[0;36mscraper\u001b[1;34m(soup_)\u001b[0m\n\u001b[0;32m     15\u001b[0m \u001b[1;33m\u001b[0m\u001b[0m\n\u001b[0;32m     16\u001b[0m     \u001b[1;31m# Creating a final table in the as dictionary\u001b[0m\u001b[1;33m\u001b[0m\u001b[1;33m\u001b[0m\u001b[0m\n\u001b[1;32m---> 17\u001b[1;33m     \u001b[0mtable\u001b[0m \u001b[1;33m=\u001b[0m \u001b[0mfinal_table\u001b[0m\u001b[1;33m(\u001b[0m\u001b[0mheaders_list\u001b[0m\u001b[1;33m=\u001b[0m\u001b[0mtable_header_list\u001b[0m\u001b[1;33m,\u001b[0m\u001b[0mtable_content\u001b[0m\u001b[1;33m=\u001b[0m\u001b[0mtable_details\u001b[0m\u001b[1;33m)\u001b[0m\u001b[1;33m\u001b[0m\u001b[1;33m\u001b[0m\u001b[0m\n\u001b[0m\u001b[0;32m     18\u001b[0m \u001b[1;33m\u001b[0m\u001b[0m\n\u001b[0;32m     19\u001b[0m     \u001b[1;32mreturn\u001b[0m \u001b[0mpd\u001b[0m\u001b[1;33m.\u001b[0m\u001b[0mDataFrame\u001b[0m\u001b[1;33m(\u001b[0m\u001b[0mtable\u001b[0m\u001b[1;33m)\u001b[0m\u001b[1;33m\u001b[0m\u001b[1;33m\u001b[0m\u001b[0m\n",
      "\u001b[1;31mTypeError\u001b[0m: final_table() got an unexpected keyword argument 'headers_list'"
     ]
    }
   ],
   "source": [
    "URL_to_table_csv(start_year=2015,number_of_seasons=2)"
   ]
  },
  {
   "cell_type": "code",
   "execution_count": 19,
   "id": "0bb4583d",
   "metadata": {},
   "outputs": [],
   "source": [
    "dummy_years = 2015"
   ]
  },
  {
   "cell_type": "code",
   "execution_count": 23,
   "id": "a1213dbc",
   "metadata": {},
   "outputs": [
    {
     "name": "stdout",
     "output_type": "stream",
     "text": [
      "https://fbref.com/en/comps/9/2015/2015-Premier-League-Stats\n",
      "200\n"
     ]
    }
   ],
   "source": [
    "base_dummy_url = f\"https://fbref.com/en/comps/9/{str(dummy_years)}/{str(dummy_years)}-Premier-League-Stats\"\n",
    "print(base_dummy_url)\n",
    "\n",
    "        # Getting tags\n",
    "soup_ = request_to_soup(url= base_dummy_url)"
   ]
  },
  {
   "cell_type": "code",
   "execution_count": 21,
   "id": "b69fa26a",
   "metadata": {},
   "outputs": [
    {
     "ename": "NameError",
     "evalue": "name 'table_tags' is not defined",
     "output_type": "error",
     "traceback": [
      "\u001b[1;31m---------------------------------------------------------------------------\u001b[0m",
      "\u001b[1;31mNameError\u001b[0m                                 Traceback (most recent call last)",
      "\u001b[1;32m~\\AppData\\Local\\Temp/ipykernel_4560/3695059181.py\u001b[0m in \u001b[0;36m<module>\u001b[1;34m\u001b[0m\n\u001b[1;32m----> 1\u001b[1;33m \u001b[0mtable_header_list\u001b[0m \u001b[1;33m=\u001b[0m \u001b[0mtext_extract_from_contents\u001b[0m\u001b[1;33m(\u001b[0m\u001b[0mtable_tags\u001b[0m\u001b[1;33m.\u001b[0m\u001b[0mthead\u001b[0m\u001b[1;33m.\u001b[0m\u001b[0mtr\u001b[0m\u001b[1;33m.\u001b[0m\u001b[0mcontents\u001b[0m\u001b[1;33m)\u001b[0m\u001b[1;33m\u001b[0m\u001b[1;33m\u001b[0m\u001b[0m\n\u001b[0m",
      "\u001b[1;31mNameError\u001b[0m: name 'table_tags' is not defined"
     ]
    }
   ],
   "source": [
    "table_header_list = text_extract_from_contents(table_tags.thead.tr.contents)"
   ]
  },
  {
   "cell_type": "code",
   "execution_count": 24,
   "id": "3c71a2c7",
   "metadata": {},
   "outputs": [],
   "source": [
    "table_tags = soup_.find('table')\n",
    "    \n",
    "    # Table header section    \n",
    "    # Separating tags for scraping the text\n",
    "content_to_list(table_tags.thead.tr.contents)\n",
    "\n",
    "    # Scraping the text from tags contents\n",
    "table_header_list = text_extract_from_contents(table_tags.thead.tr.contents)\n",
    "    \n",
    "    # Table body section \n",
    "    # Scraping the body tags from table    \n",
    "table_details = content_to_list(table_tags.tbody.contents)\n",
    "    "
   ]
  },
  {
   "cell_type": "code",
   "execution_count": null,
   "id": "ec6ff7dd",
   "metadata": {},
   "outputs": [],
   "source": [
    "scraper"
   ]
  },
  {
   "cell_type": "code",
   "execution_count": 12,
   "id": "00b23a7b",
   "metadata": {},
   "outputs": [],
   "source": [
    "def URL_to_table_csv(start_year,number_of_seasons):\n",
    "\n",
    "    for i in range(number_of_seasons):\n",
    "        # Creating a template of years for url\n",
    "        dummy_years = f\"{start_year+i}-{start_year+i+1}\"\n",
    "        base_dummy_url = f\"https://fbref.com/en/comps/9/{str(dummy_years)}/{str(dummy_years)}-Premier-League-Stats\"\n",
    "        print(base_dummy_url)\n",
    "\n",
    "        # Getting tags\n",
    "        soup = request_to_soup(url= base_dummy_url)\n",
    "\n",
    "        # Calling the scraper function\n",
    "        Squad_stats = scraper(soup_= soup)\n",
    "\n",
    "        # Creating a template for naming the files \n",
    "        file_name =f\"Premier_league_season_table_{dummy_years}\"\n",
    "\n",
    "        # Converting the dataframe to csv file\n",
    "        Season_table.to_csv(file_name)\n",
    "        if i == 0: \n",
    "            print(f\"{i+1} season successfully scraped ✔ \")\n",
    "        elif i >0:\n",
    "            print(f\"{i+1} seasons successfully scraped ✔ \")\n",
    "        if i == number_of_seasons-1:\n",
    "            print(f'All seasons scraped')\n",
    "        \n",
    "        time.sleep(5)"
   ]
  },
  {
   "cell_type": "code",
   "execution_count": 11,
   "id": "6ce87e1d",
   "metadata": {},
   "outputs": [],
   "source": [
    "def scraper(soup_):\n",
    "    # Getting tags for regular season tabel\n",
    "    table_tags = soup_.find('table')\n",
    "    \n",
    "    # Table header section    \n",
    "    # Separating tags for scraping the text\n",
    "    content_to_list(table_tags.thead.tr.contents)\n",
    "\n",
    "    # Scraping the text from tags contents\n",
    "    table_header_list = text_extract_from_contents(table_tags.thead.tr.contents)\n",
    "    \n",
    "    # Table body section \n",
    "    # Scraping the body tags from table    \n",
    "    table_details = content_to_list(table_tags.tbody.contents)\n",
    "    \n",
    "    # Creating a final table in the as dictionary\n",
    "    table = final_table(headers_list=table_header_list,table_content=table_details)\n",
    "    \n",
    "    return pd.DataFrame(table)"
   ]
  }
 ],
 "metadata": {
  "kernelspec": {
   "display_name": "Python 3 (ipykernel)",
   "language": "python",
   "name": "python3"
  },
  "language_info": {
   "codemirror_mode": {
    "name": "ipython",
    "version": 3
   },
   "file_extension": ".py",
   "mimetype": "text/x-python",
   "name": "python",
   "nbconvert_exporter": "python",
   "pygments_lexer": "ipython3",
   "version": "3.9.7"
  }
 },
 "nbformat": 4,
 "nbformat_minor": 5
}
