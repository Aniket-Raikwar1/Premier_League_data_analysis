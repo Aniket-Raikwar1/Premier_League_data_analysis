{
 "cells": [
  {
   "cell_type": "markdown",
   "id": "7f8ee7e4",
   "metadata": {},
   "source": [
    "# Season table scraper"
   ]
  },
  {
   "cell_type": "markdown",
   "id": "dce9f758",
   "metadata": {},
   "source": [
    "### To get our data we will get it from fbref.com "
   ]
  },
  {
   "cell_type": "code",
   "execution_count": 1,
   "id": "e8824018",
   "metadata": {},
   "outputs": [],
   "source": [
    "# Importing libraries\n",
    "\n",
    "# Web scraping liberaries\n",
    "from bs4 import BeautifulSoup\n",
    "import requests\n",
    "import time\n",
    "\n",
    "# Data analysis liberaries\n",
    "import pandas as pd\n",
    "import numpy as np\n",
    "import matplotlib.pyplot as plt\n",
    "import seaborn as sns"
   ]
  },
  {
   "cell_type": "markdown",
   "id": "518cec5b",
   "metadata": {},
   "source": [
    "### Important funtion for scraping the website"
   ]
  },
  {
   "cell_type": "code",
   "execution_count": 2,
   "id": "f6be6909",
   "metadata": {},
   "outputs": [],
   "source": [
    "def text_extract_from_contents(contents_list):\n",
    "    '''\n",
    "    Input : \n",
    "    Output :  \n",
    "    \n",
    "    '''\n",
    "    list_ = []\n",
    "    for i in range(len(contents_list)):\n",
    "        if contents_list[i] == \" \" or contents_list[i] == \"\\n\":\n",
    "            pass\n",
    "        else:\n",
    "            list_.append(contents_list[i].text)\n",
    "    \n",
    "    return list_"
   ]
  },
  {
   "cell_type": "code",
   "execution_count": 3,
   "id": "bc0b5cd7",
   "metadata": {},
   "outputs": [],
   "source": [
    "def content_to_list(content_list):\n",
    "    '''\n",
    "    Input : Content of tags \n",
    "    Output : Return a list without space and tags as element of list.\n",
    "    \n",
    "    '''\n",
    "    list_ = []\n",
    "    for i in range(len(content_list)):\n",
    "        if content_list[i] == \" \" or content_list[i] == \"\\n\":\n",
    "            pass\n",
    "        else:\n",
    "            list_.append(content_list[i])\n",
    "    return list_"
   ]
  },
  {
   "cell_type": "code",
   "execution_count": 4,
   "id": "8547cc22",
   "metadata": {},
   "outputs": [],
   "source": [
    "def create_dictionary(list_):\n",
    "    '''\n",
    "    Input : List of elements as keys \n",
    "    Output : Return a dictionary with \n",
    "    '''\n",
    "    dictionary = {}\n",
    "    for i in list_:\n",
    "        dictionary[i] = []\n",
    "    return dictionary\n"
   ]
  },
  {
   "cell_type": "code",
   "execution_count": 5,
   "id": "cbb5b2c4",
   "metadata": {},
   "outputs": [],
   "source": [
    "def final_table(table_headers_list,table_content):\n",
    "    dictionary = create_dictionary(table_headers_list)\n",
    "    \n",
    "    for i in range(len(table_content)):\n",
    "        detail = text_extract_from_contents(table_content[i].contents)\n",
    "        for j in range(len(table_headers_list)):\n",
    "            dictionary[table_headers_list[j]].append(detail[j])\n",
    "        \n",
    "    return dictionary"
   ]
  },
  {
   "cell_type": "markdown",
   "id": "27b59c2b",
   "metadata": {},
   "source": [
    "### Understanding the structure and code of the website"
   ]
  },
  {
   "cell_type": "code",
   "execution_count": 9,
   "id": "97132a03",
   "metadata": {},
   "outputs": [],
   "source": [
    "URL = \"https://fbref.com/en/comps/9/2015-2016/2015-2016-Premier-League-Stats\""
   ]
  },
  {
   "cell_type": "code",
   "execution_count": 10,
   "id": "6eef4608",
   "metadata": {},
   "outputs": [],
   "source": [
    "page = requests.get(URL)"
   ]
  },
  {
   "cell_type": "code",
   "execution_count": 11,
   "id": "c5b8b3f7",
   "metadata": {},
   "outputs": [
    {
     "data": {
      "text/plain": [
       "200"
      ]
     },
     "execution_count": 11,
     "metadata": {},
     "output_type": "execute_result"
    }
   ],
   "source": [
    "code = page.status_code\n",
    "code"
   ]
  },
  {
   "cell_type": "code",
   "execution_count": 12,
   "id": "8d4ddc82",
   "metadata": {},
   "outputs": [],
   "source": [
    "soup = BeautifulSoup(page.text)"
   ]
  },
  {
   "cell_type": "markdown",
   "id": "df33ddc8",
   "metadata": {},
   "source": [
    "#### Find the table tags from web page"
   ]
  },
  {
   "cell_type": "code",
   "execution_count": 13,
   "id": "00957f25",
   "metadata": {},
   "outputs": [],
   "source": [
    "table_tags = soup.find('table')"
   ]
  },
  {
   "cell_type": "code",
   "execution_count": null,
   "id": "0ab30797",
   "metadata": {},
   "outputs": [],
   "source": []
  },
  {
   "cell_type": "markdown",
   "id": "829774a5",
   "metadata": {},
   "source": [
    "#### Table head tags "
   ]
  },
  {
   "cell_type": "code",
   "execution_count": 14,
   "id": "ed213e49",
   "metadata": {
    "scrolled": false
   },
   "outputs": [
    {
     "data": {
      "text/plain": [
       "<thead> <tr> <th aria-label=\"Rank\" class=\"poptip sort_default_asc center\" data-stat=\"rank\" data-tip=\"&lt;strong&gt;Rank&lt;/strong&gt;&lt;br&gt;Squad finish in competition&lt;br&gt;Finish within the league or competition.&lt;br&gt;For knockout competitions may show final round reached.&lt;br&gt;Colors and arrows represent promotion/relegation or qualifiation for continental cups.&lt;br&gt;Trophy indicates team won league whether by playoffs or by leading the table.&lt;br&gt;Star indicates topped table in league USING another means of naming champion.\" scope=\"col\">Rk</th> <th aria-label=\"Squad\" class=\"poptip sort_default_asc center\" data-stat=\"team\" scope=\"col\">Squad</th> <th aria-label=\"Matches Played\" class=\"poptip center\" data-stat=\"games\" data-tip=\"&lt;strong&gt;Matches Played&lt;/strong&gt;&lt;br&gt;Matches Played by the player or squad\" scope=\"col\">MP</th> <th aria-label=\"Wins\" class=\"poptip center\" data-stat=\"wins\" data-tip=\"&lt;strong&gt;Wins&lt;/strong&gt;&lt;br&gt;Wins\" scope=\"col\">W</th> <th aria-label=\"Draws\" class=\"poptip center\" data-stat=\"ties\" data-tip=\"&lt;strong&gt;Draws&lt;/strong&gt;&lt;br&gt;Draws\" scope=\"col\">D</th> <th aria-label=\"Losses\" class=\"poptip center\" data-stat=\"losses\" data-tip=\"&lt;strong&gt;Losses&lt;/strong&gt;&lt;br&gt;Losses\" scope=\"col\">L</th> <th aria-label=\"Goals For\" class=\"poptip center\" data-stat=\"goals_for\" data-tip=\"&lt;strong&gt;Goals For&lt;/strong&gt;&lt;br&gt;Goals For\" scope=\"col\">GF</th> <th aria-label=\"Goals Against\" class=\"poptip center\" data-stat=\"goals_against\" data-tip=\"&lt;strong&gt;Goals Against&lt;/strong&gt;&lt;br&gt;Goals Against\" scope=\"col\">GA</th> <th aria-label=\"Goal Difference\" class=\"poptip center\" data-stat=\"goal_diff\" data-tip=\"&lt;strong&gt;Goal Difference&lt;/strong&gt;&lt;br&gt;Goal Difference\" scope=\"col\">GD</th> <th aria-label=\"Points\" class=\"poptip center\" data-stat=\"points\" data-tip=\"&lt;strong&gt;Points&lt;/strong&gt;&lt;br&gt;Most leagues are ordered by points.&lt;br&gt;Three for a win and one for a draw.\" scope=\"col\">Pts</th> <th aria-label=\"Points/Game\" class=\"poptip center\" data-stat=\"points_avg\" data-tip=\"&lt;strong&gt;Points/Game&lt;/strong&gt;&lt;br&gt;Points per Match Played\" scope=\"col\">Pts/MP</th> <th aria-label=\"Attendance/Game\" class=\"poptip center\" data-stat=\"attendance_per_g\" data-tip=\"&lt;strong&gt;Attendance/Game&lt;/strong&gt;&lt;br&gt;Attendance per game during this season, only for home matches\" scope=\"col\">Attendance</th> <th aria-label=\"Top Team Scorer\" class=\"poptip center\" data-stat=\"top_team_scorers\" data-tip=\"Only includes league matches for that season\" scope=\"col\">Top Team Scorer</th> <th aria-label=\"Goalkeeper\" class=\"poptip center\" data-stat=\"top_keeper\" data-tip=\"Goalkeeper with the most minutes in league play\" scope=\"col\">Goalkeeper</th> <th aria-label=\"Notes\" class=\"poptip center\" data-stat=\"notes\" scope=\"col\">Notes</th> </tr> </thead>"
      ]
     },
     "execution_count": 14,
     "metadata": {},
     "output_type": "execute_result"
    }
   ],
   "source": [
    "table_tags.thead"
   ]
  },
  {
   "cell_type": "code",
   "execution_count": null,
   "id": "eecc60ae",
   "metadata": {},
   "outputs": [],
   "source": []
  },
  {
   "cell_type": "markdown",
   "id": "e33d47d5",
   "metadata": {},
   "source": [
    "#### Table body tags "
   ]
  },
  {
   "cell_type": "code",
   "execution_count": 15,
   "id": "bd850b00",
   "metadata": {},
   "outputs": [],
   "source": [
    "body_tags = table_tags.tbody"
   ]
  },
  {
   "cell_type": "code",
   "execution_count": 16,
   "id": "12deba66",
   "metadata": {
    "scrolled": false
   },
   "outputs": [
    {
     "data": {
      "text/plain": [
       "[<tr> <th aria-label=\"Rank\" class=\"poptip sort_default_asc center\" data-stat=\"rank\" data-tip=\"&lt;strong&gt;Rank&lt;/strong&gt;&lt;br&gt;Squad finish in competition&lt;br&gt;Finish within the league or competition.&lt;br&gt;For knockout competitions may show final round reached.&lt;br&gt;Colors and arrows represent promotion/relegation or qualifiation for continental cups.&lt;br&gt;Trophy indicates team won league whether by playoffs or by leading the table.&lt;br&gt;Star indicates topped table in league USING another means of naming champion.\" scope=\"col\">Rk</th> <th aria-label=\"Squad\" class=\"poptip sort_default_asc center\" data-stat=\"team\" scope=\"col\">Squad</th> <th aria-label=\"Matches Played\" class=\"poptip center\" data-stat=\"games\" data-tip=\"&lt;strong&gt;Matches Played&lt;/strong&gt;&lt;br&gt;Matches Played by the player or squad\" scope=\"col\">MP</th> <th aria-label=\"Wins\" class=\"poptip center\" data-stat=\"wins\" data-tip=\"&lt;strong&gt;Wins&lt;/strong&gt;&lt;br&gt;Wins\" scope=\"col\">W</th> <th aria-label=\"Draws\" class=\"poptip center\" data-stat=\"ties\" data-tip=\"&lt;strong&gt;Draws&lt;/strong&gt;&lt;br&gt;Draws\" scope=\"col\">D</th> <th aria-label=\"Losses\" class=\"poptip center\" data-stat=\"losses\" data-tip=\"&lt;strong&gt;Losses&lt;/strong&gt;&lt;br&gt;Losses\" scope=\"col\">L</th> <th aria-label=\"Goals For\" class=\"poptip center\" data-stat=\"goals_for\" data-tip=\"&lt;strong&gt;Goals For&lt;/strong&gt;&lt;br&gt;Goals For\" scope=\"col\">GF</th> <th aria-label=\"Goals Against\" class=\"poptip center\" data-stat=\"goals_against\" data-tip=\"&lt;strong&gt;Goals Against&lt;/strong&gt;&lt;br&gt;Goals Against\" scope=\"col\">GA</th> <th aria-label=\"Goal Difference\" class=\"poptip center\" data-stat=\"goal_diff\" data-tip=\"&lt;strong&gt;Goal Difference&lt;/strong&gt;&lt;br&gt;Goal Difference\" scope=\"col\">GD</th> <th aria-label=\"Points\" class=\"poptip center\" data-stat=\"points\" data-tip=\"&lt;strong&gt;Points&lt;/strong&gt;&lt;br&gt;Most leagues are ordered by points.&lt;br&gt;Three for a win and one for a draw.\" scope=\"col\">Pts</th> <th aria-label=\"Points/Game\" class=\"poptip center\" data-stat=\"points_avg\" data-tip=\"&lt;strong&gt;Points/Game&lt;/strong&gt;&lt;br&gt;Points per Match Played\" scope=\"col\">Pts/MP</th> <th aria-label=\"Attendance/Game\" class=\"poptip center\" data-stat=\"attendance_per_g\" data-tip=\"&lt;strong&gt;Attendance/Game&lt;/strong&gt;&lt;br&gt;Attendance per game during this season, only for home matches\" scope=\"col\">Attendance</th> <th aria-label=\"Top Team Scorer\" class=\"poptip center\" data-stat=\"top_team_scorers\" data-tip=\"Only includes league matches for that season\" scope=\"col\">Top Team Scorer</th> <th aria-label=\"Goalkeeper\" class=\"poptip center\" data-stat=\"top_keeper\" data-tip=\"Goalkeeper with the most minutes in league play\" scope=\"col\">Goalkeeper</th> <th aria-label=\"Notes\" class=\"poptip center\" data-stat=\"notes\" scope=\"col\">Notes</th> </tr>]"
      ]
     },
     "execution_count": 16,
     "metadata": {},
     "output_type": "execute_result"
    }
   ],
   "source": [
    "content_to_list(table_tags.thead.contents)"
   ]
  },
  {
   "cell_type": "code",
   "execution_count": 17,
   "id": "220000f3",
   "metadata": {},
   "outputs": [],
   "source": [
    "table_header_tags = content_to_list(table_tags.thead.contents)"
   ]
  },
  {
   "cell_type": "code",
   "execution_count": 18,
   "id": "dfa7ed33",
   "metadata": {},
   "outputs": [
    {
     "data": {
      "text/plain": [
       "[<tr> <th aria-label=\"Rank\" class=\"poptip sort_default_asc center\" data-stat=\"rank\" data-tip=\"&lt;strong&gt;Rank&lt;/strong&gt;&lt;br&gt;Squad finish in competition&lt;br&gt;Finish within the league or competition.&lt;br&gt;For knockout competitions may show final round reached.&lt;br&gt;Colors and arrows represent promotion/relegation or qualifiation for continental cups.&lt;br&gt;Trophy indicates team won league whether by playoffs or by leading the table.&lt;br&gt;Star indicates topped table in league USING another means of naming champion.\" scope=\"col\">Rk</th> <th aria-label=\"Squad\" class=\"poptip sort_default_asc center\" data-stat=\"team\" scope=\"col\">Squad</th> <th aria-label=\"Matches Played\" class=\"poptip center\" data-stat=\"games\" data-tip=\"&lt;strong&gt;Matches Played&lt;/strong&gt;&lt;br&gt;Matches Played by the player or squad\" scope=\"col\">MP</th> <th aria-label=\"Wins\" class=\"poptip center\" data-stat=\"wins\" data-tip=\"&lt;strong&gt;Wins&lt;/strong&gt;&lt;br&gt;Wins\" scope=\"col\">W</th> <th aria-label=\"Draws\" class=\"poptip center\" data-stat=\"ties\" data-tip=\"&lt;strong&gt;Draws&lt;/strong&gt;&lt;br&gt;Draws\" scope=\"col\">D</th> <th aria-label=\"Losses\" class=\"poptip center\" data-stat=\"losses\" data-tip=\"&lt;strong&gt;Losses&lt;/strong&gt;&lt;br&gt;Losses\" scope=\"col\">L</th> <th aria-label=\"Goals For\" class=\"poptip center\" data-stat=\"goals_for\" data-tip=\"&lt;strong&gt;Goals For&lt;/strong&gt;&lt;br&gt;Goals For\" scope=\"col\">GF</th> <th aria-label=\"Goals Against\" class=\"poptip center\" data-stat=\"goals_against\" data-tip=\"&lt;strong&gt;Goals Against&lt;/strong&gt;&lt;br&gt;Goals Against\" scope=\"col\">GA</th> <th aria-label=\"Goal Difference\" class=\"poptip center\" data-stat=\"goal_diff\" data-tip=\"&lt;strong&gt;Goal Difference&lt;/strong&gt;&lt;br&gt;Goal Difference\" scope=\"col\">GD</th> <th aria-label=\"Points\" class=\"poptip center\" data-stat=\"points\" data-tip=\"&lt;strong&gt;Points&lt;/strong&gt;&lt;br&gt;Most leagues are ordered by points.&lt;br&gt;Three for a win and one for a draw.\" scope=\"col\">Pts</th> <th aria-label=\"Points/Game\" class=\"poptip center\" data-stat=\"points_avg\" data-tip=\"&lt;strong&gt;Points/Game&lt;/strong&gt;&lt;br&gt;Points per Match Played\" scope=\"col\">Pts/MP</th> <th aria-label=\"Attendance/Game\" class=\"poptip center\" data-stat=\"attendance_per_g\" data-tip=\"&lt;strong&gt;Attendance/Game&lt;/strong&gt;&lt;br&gt;Attendance per game during this season, only for home matches\" scope=\"col\">Attendance</th> <th aria-label=\"Top Team Scorer\" class=\"poptip center\" data-stat=\"top_team_scorers\" data-tip=\"Only includes league matches for that season\" scope=\"col\">Top Team Scorer</th> <th aria-label=\"Goalkeeper\" class=\"poptip center\" data-stat=\"top_keeper\" data-tip=\"Goalkeeper with the most minutes in league play\" scope=\"col\">Goalkeeper</th> <th aria-label=\"Notes\" class=\"poptip center\" data-stat=\"notes\" scope=\"col\">Notes</th> </tr>]"
      ]
     },
     "execution_count": 18,
     "metadata": {},
     "output_type": "execute_result"
    }
   ],
   "source": [
    "table_header_tags"
   ]
  },
  {
   "cell_type": "markdown",
   "id": "89ce0915",
   "metadata": {},
   "source": [
    "#### Creating a list containing the table headers"
   ]
  },
  {
   "cell_type": "code",
   "execution_count": 19,
   "id": "7fe4877e",
   "metadata": {},
   "outputs": [],
   "source": [
    "table_header_tags = table_header_tags[0]"
   ]
  },
  {
   "cell_type": "code",
   "execution_count": 20,
   "id": "d4d92fbc",
   "metadata": {},
   "outputs": [],
   "source": [
    "table_header_tags = content_to_list(table_header_tags.contents)"
   ]
  },
  {
   "cell_type": "code",
   "execution_count": 21,
   "id": "2654713f",
   "metadata": {},
   "outputs": [],
   "source": [
    "list_of_table_header = []\n",
    "for i in table_header_tags:\n",
    "    list_of_table_header.append(i.text)"
   ]
  },
  {
   "cell_type": "code",
   "execution_count": 22,
   "id": "35ea3223",
   "metadata": {},
   "outputs": [
    {
     "data": {
      "text/plain": [
       "['Rk',\n",
       " 'Squad',\n",
       " 'MP',\n",
       " 'W',\n",
       " 'D',\n",
       " 'L',\n",
       " 'GF',\n",
       " 'GA',\n",
       " 'GD',\n",
       " 'Pts',\n",
       " 'Pts/MP',\n",
       " 'Attendance',\n",
       " 'Top Team Scorer',\n",
       " 'Goalkeeper',\n",
       " 'Notes']"
      ]
     },
     "execution_count": 22,
     "metadata": {},
     "output_type": "execute_result"
    }
   ],
   "source": [
    "list_of_table_header"
   ]
  },
  {
   "cell_type": "markdown",
   "id": "b0aafc02",
   "metadata": {},
   "source": [
    "#### Creating a list of content of table body"
   ]
  },
  {
   "cell_type": "code",
   "execution_count": 23,
   "id": "b4583b67",
   "metadata": {},
   "outputs": [],
   "source": [
    "table_body_tags = content_to_list(table_tags.tbody.contents)"
   ]
  },
  {
   "cell_type": "markdown",
   "id": "dd3a7e1b",
   "metadata": {},
   "source": [
    "#### Creating a dictionary of table "
   ]
  },
  {
   "cell_type": "code",
   "execution_count": 24,
   "id": "93b93bf9",
   "metadata": {},
   "outputs": [],
   "source": [
    "header_dictionary = create_dictionary(list_of_table_header)"
   ]
  },
  {
   "cell_type": "code",
   "execution_count": 25,
   "id": "95d20e73",
   "metadata": {},
   "outputs": [],
   "source": [
    "for i in table_body_tags:\n",
    "    team_detail = text_extract_from_contents(i.contents)\n",
    "    for j in range(len(header_dictionary)):\n",
    "        header_dictionary[list_of_table_header[j]].append(team_detail[j])\n",
    "        "
   ]
  },
  {
   "cell_type": "code",
   "execution_count": 26,
   "id": "4c102518",
   "metadata": {},
   "outputs": [
    {
     "data": {
      "text/html": [
       "<div>\n",
       "<style scoped>\n",
       "    .dataframe tbody tr th:only-of-type {\n",
       "        vertical-align: middle;\n",
       "    }\n",
       "\n",
       "    .dataframe tbody tr th {\n",
       "        vertical-align: top;\n",
       "    }\n",
       "\n",
       "    .dataframe thead th {\n",
       "        text-align: right;\n",
       "    }\n",
       "</style>\n",
       "<table border=\"1\" class=\"dataframe\">\n",
       "  <thead>\n",
       "    <tr style=\"text-align: right;\">\n",
       "      <th></th>\n",
       "      <th>Rk</th>\n",
       "      <th>Squad</th>\n",
       "      <th>MP</th>\n",
       "      <th>W</th>\n",
       "      <th>D</th>\n",
       "      <th>L</th>\n",
       "      <th>GF</th>\n",
       "      <th>GA</th>\n",
       "      <th>GD</th>\n",
       "      <th>Pts</th>\n",
       "      <th>Pts/MP</th>\n",
       "      <th>Attendance</th>\n",
       "      <th>Top Team Scorer</th>\n",
       "      <th>Goalkeeper</th>\n",
       "      <th>Notes</th>\n",
       "    </tr>\n",
       "  </thead>\n",
       "  <tbody>\n",
       "    <tr>\n",
       "      <th>0</th>\n",
       "      <td>1</td>\n",
       "      <td>Leicester City</td>\n",
       "      <td>38</td>\n",
       "      <td>23</td>\n",
       "      <td>12</td>\n",
       "      <td>3</td>\n",
       "      <td>68</td>\n",
       "      <td>36</td>\n",
       "      <td>+32</td>\n",
       "      <td>81</td>\n",
       "      <td>2.13</td>\n",
       "      <td>31,998</td>\n",
       "      <td>Jamie Vardy - 24</td>\n",
       "      <td>Kasper Schmeichel</td>\n",
       "      <td>→ Champions League via league finish</td>\n",
       "    </tr>\n",
       "    <tr>\n",
       "      <th>1</th>\n",
       "      <td>2</td>\n",
       "      <td>Arsenal</td>\n",
       "      <td>38</td>\n",
       "      <td>20</td>\n",
       "      <td>11</td>\n",
       "      <td>7</td>\n",
       "      <td>65</td>\n",
       "      <td>36</td>\n",
       "      <td>+29</td>\n",
       "      <td>71</td>\n",
       "      <td>1.87</td>\n",
       "      <td>59,944</td>\n",
       "      <td>Olivier Giroud - 16</td>\n",
       "      <td>Petr Čech</td>\n",
       "      <td>→ Champions League via league finish</td>\n",
       "    </tr>\n",
       "    <tr>\n",
       "      <th>2</th>\n",
       "      <td>3</td>\n",
       "      <td>Tottenham</td>\n",
       "      <td>38</td>\n",
       "      <td>19</td>\n",
       "      <td>13</td>\n",
       "      <td>6</td>\n",
       "      <td>69</td>\n",
       "      <td>35</td>\n",
       "      <td>+34</td>\n",
       "      <td>70</td>\n",
       "      <td>1.84</td>\n",
       "      <td>35,776</td>\n",
       "      <td>Harry Kane - 25</td>\n",
       "      <td>Hugo Lloris</td>\n",
       "      <td>→ Champions League via league finish</td>\n",
       "    </tr>\n",
       "    <tr>\n",
       "      <th>3</th>\n",
       "      <td>4</td>\n",
       "      <td>Manchester City</td>\n",
       "      <td>38</td>\n",
       "      <td>19</td>\n",
       "      <td>9</td>\n",
       "      <td>10</td>\n",
       "      <td>71</td>\n",
       "      <td>41</td>\n",
       "      <td>+30</td>\n",
       "      <td>66</td>\n",
       "      <td>1.74</td>\n",
       "      <td>54,041</td>\n",
       "      <td>Sergio Agüero - 24</td>\n",
       "      <td>Joe Hart</td>\n",
       "      <td>→ Champions League via league finish</td>\n",
       "    </tr>\n",
       "    <tr>\n",
       "      <th>4</th>\n",
       "      <td>5</td>\n",
       "      <td>Manchester Utd</td>\n",
       "      <td>38</td>\n",
       "      <td>19</td>\n",
       "      <td>9</td>\n",
       "      <td>10</td>\n",
       "      <td>49</td>\n",
       "      <td>35</td>\n",
       "      <td>+14</td>\n",
       "      <td>66</td>\n",
       "      <td>1.74</td>\n",
       "      <td>75,286</td>\n",
       "      <td>Anthony Martial - 11</td>\n",
       "      <td>David de Gea</td>\n",
       "      <td>→ Europa League via cup win 1</td>\n",
       "    </tr>\n",
       "    <tr>\n",
       "      <th>5</th>\n",
       "      <td>6</td>\n",
       "      <td>Southampton</td>\n",
       "      <td>38</td>\n",
       "      <td>18</td>\n",
       "      <td>9</td>\n",
       "      <td>11</td>\n",
       "      <td>59</td>\n",
       "      <td>41</td>\n",
       "      <td>+18</td>\n",
       "      <td>63</td>\n",
       "      <td>1.66</td>\n",
       "      <td>30,751</td>\n",
       "      <td>Sadio Mané, Graziano Pellè - 11</td>\n",
       "      <td>Fraser Forster</td>\n",
       "      <td>→ Europa League via league finish 2</td>\n",
       "    </tr>\n",
       "    <tr>\n",
       "      <th>6</th>\n",
       "      <td>7</td>\n",
       "      <td>West Ham</td>\n",
       "      <td>38</td>\n",
       "      <td>16</td>\n",
       "      <td>14</td>\n",
       "      <td>8</td>\n",
       "      <td>65</td>\n",
       "      <td>51</td>\n",
       "      <td>+14</td>\n",
       "      <td>62</td>\n",
       "      <td>1.63</td>\n",
       "      <td>34,910</td>\n",
       "      <td>Dimitri Payet, Andy Carroll - 9</td>\n",
       "      <td>Adrián</td>\n",
       "      <td>→ Europa League via league finish 3</td>\n",
       "    </tr>\n",
       "    <tr>\n",
       "      <th>7</th>\n",
       "      <td>8</td>\n",
       "      <td>Liverpool</td>\n",
       "      <td>38</td>\n",
       "      <td>16</td>\n",
       "      <td>12</td>\n",
       "      <td>10</td>\n",
       "      <td>63</td>\n",
       "      <td>50</td>\n",
       "      <td>+13</td>\n",
       "      <td>60</td>\n",
       "      <td>1.58</td>\n",
       "      <td>43,910</td>\n",
       "      <td>Roberto Firmino - 10</td>\n",
       "      <td>Simon Mignolet</td>\n",
       "      <td></td>\n",
       "    </tr>\n",
       "    <tr>\n",
       "      <th>8</th>\n",
       "      <td>9</td>\n",
       "      <td>Stoke City</td>\n",
       "      <td>38</td>\n",
       "      <td>14</td>\n",
       "      <td>9</td>\n",
       "      <td>15</td>\n",
       "      <td>41</td>\n",
       "      <td>55</td>\n",
       "      <td>-14</td>\n",
       "      <td>51</td>\n",
       "      <td>1.34</td>\n",
       "      <td>27,534</td>\n",
       "      <td>Marko Arnautović - 11</td>\n",
       "      <td>Jack Butland</td>\n",
       "      <td></td>\n",
       "    </tr>\n",
       "    <tr>\n",
       "      <th>9</th>\n",
       "      <td>10</td>\n",
       "      <td>Chelsea</td>\n",
       "      <td>38</td>\n",
       "      <td>12</td>\n",
       "      <td>14</td>\n",
       "      <td>12</td>\n",
       "      <td>59</td>\n",
       "      <td>53</td>\n",
       "      <td>+6</td>\n",
       "      <td>50</td>\n",
       "      <td>1.32</td>\n",
       "      <td>41,500</td>\n",
       "      <td>Diego Costa - 12</td>\n",
       "      <td>Thibaut Courtois</td>\n",
       "      <td></td>\n",
       "    </tr>\n",
       "    <tr>\n",
       "      <th>10</th>\n",
       "      <td>11</td>\n",
       "      <td>Everton</td>\n",
       "      <td>38</td>\n",
       "      <td>11</td>\n",
       "      <td>14</td>\n",
       "      <td>13</td>\n",
       "      <td>59</td>\n",
       "      <td>55</td>\n",
       "      <td>+4</td>\n",
       "      <td>47</td>\n",
       "      <td>1.24</td>\n",
       "      <td>38,124</td>\n",
       "      <td>Romelu Lukaku - 18</td>\n",
       "      <td>Tim Howard</td>\n",
       "      <td></td>\n",
       "    </tr>\n",
       "    <tr>\n",
       "      <th>11</th>\n",
       "      <td>12</td>\n",
       "      <td>Swansea City</td>\n",
       "      <td>38</td>\n",
       "      <td>12</td>\n",
       "      <td>11</td>\n",
       "      <td>15</td>\n",
       "      <td>42</td>\n",
       "      <td>52</td>\n",
       "      <td>-10</td>\n",
       "      <td>47</td>\n",
       "      <td>1.24</td>\n",
       "      <td>20,711</td>\n",
       "      <td>André Ayew - 12</td>\n",
       "      <td>Łukasz Fabiański</td>\n",
       "      <td></td>\n",
       "    </tr>\n",
       "    <tr>\n",
       "      <th>12</th>\n",
       "      <td>13</td>\n",
       "      <td>Watford</td>\n",
       "      <td>38</td>\n",
       "      <td>12</td>\n",
       "      <td>9</td>\n",
       "      <td>17</td>\n",
       "      <td>40</td>\n",
       "      <td>50</td>\n",
       "      <td>-10</td>\n",
       "      <td>45</td>\n",
       "      <td>1.18</td>\n",
       "      <td>20,594</td>\n",
       "      <td>Odion Ighalo - 15</td>\n",
       "      <td>Heurelho Gomes</td>\n",
       "      <td></td>\n",
       "    </tr>\n",
       "    <tr>\n",
       "      <th>13</th>\n",
       "      <td>14</td>\n",
       "      <td>West Brom</td>\n",
       "      <td>38</td>\n",
       "      <td>10</td>\n",
       "      <td>13</td>\n",
       "      <td>15</td>\n",
       "      <td>34</td>\n",
       "      <td>48</td>\n",
       "      <td>-14</td>\n",
       "      <td>43</td>\n",
       "      <td>1.13</td>\n",
       "      <td>24,631</td>\n",
       "      <td>Salomón Rondón - 9</td>\n",
       "      <td>Boaz Myhill</td>\n",
       "      <td></td>\n",
       "    </tr>\n",
       "    <tr>\n",
       "      <th>14</th>\n",
       "      <td>15</td>\n",
       "      <td>Crystal Palace</td>\n",
       "      <td>38</td>\n",
       "      <td>11</td>\n",
       "      <td>9</td>\n",
       "      <td>18</td>\n",
       "      <td>39</td>\n",
       "      <td>51</td>\n",
       "      <td>-12</td>\n",
       "      <td>42</td>\n",
       "      <td>1.11</td>\n",
       "      <td>24,825</td>\n",
       "      <td>Scott Dann, Yohan Cabaye... - 5</td>\n",
       "      <td>Wayne Hennessey</td>\n",
       "      <td></td>\n",
       "    </tr>\n",
       "    <tr>\n",
       "      <th>15</th>\n",
       "      <td>16</td>\n",
       "      <td>Bournemouth</td>\n",
       "      <td>38</td>\n",
       "      <td>11</td>\n",
       "      <td>9</td>\n",
       "      <td>18</td>\n",
       "      <td>45</td>\n",
       "      <td>67</td>\n",
       "      <td>-22</td>\n",
       "      <td>42</td>\n",
       "      <td>1.11</td>\n",
       "      <td>11,189</td>\n",
       "      <td>Joshua King - 6</td>\n",
       "      <td>Artur Boruc</td>\n",
       "      <td></td>\n",
       "    </tr>\n",
       "    <tr>\n",
       "      <th>16</th>\n",
       "      <td>17</td>\n",
       "      <td>Sunderland</td>\n",
       "      <td>38</td>\n",
       "      <td>9</td>\n",
       "      <td>12</td>\n",
       "      <td>17</td>\n",
       "      <td>48</td>\n",
       "      <td>62</td>\n",
       "      <td>-14</td>\n",
       "      <td>39</td>\n",
       "      <td>1.03</td>\n",
       "      <td>43,071</td>\n",
       "      <td>Jermain Defoe - 15</td>\n",
       "      <td>Vito Mannone</td>\n",
       "      <td></td>\n",
       "    </tr>\n",
       "    <tr>\n",
       "      <th>17</th>\n",
       "      <td>18</td>\n",
       "      <td>Newcastle Utd</td>\n",
       "      <td>38</td>\n",
       "      <td>9</td>\n",
       "      <td>10</td>\n",
       "      <td>19</td>\n",
       "      <td>44</td>\n",
       "      <td>65</td>\n",
       "      <td>-21</td>\n",
       "      <td>37</td>\n",
       "      <td>0.97</td>\n",
       "      <td>49,754</td>\n",
       "      <td>Georginio Wijnaldum - 11</td>\n",
       "      <td>Rob Elliot</td>\n",
       "      <td>Relegated</td>\n",
       "    </tr>\n",
       "    <tr>\n",
       "      <th>18</th>\n",
       "      <td>19</td>\n",
       "      <td>Norwich City</td>\n",
       "      <td>38</td>\n",
       "      <td>9</td>\n",
       "      <td>7</td>\n",
       "      <td>22</td>\n",
       "      <td>39</td>\n",
       "      <td>67</td>\n",
       "      <td>-28</td>\n",
       "      <td>34</td>\n",
       "      <td>0.89</td>\n",
       "      <td>26,972</td>\n",
       "      <td>Dieumerci Mbokani - 7</td>\n",
       "      <td>John Ruddy</td>\n",
       "      <td>Relegated</td>\n",
       "    </tr>\n",
       "    <tr>\n",
       "      <th>19</th>\n",
       "      <td>20</td>\n",
       "      <td>Aston Villa</td>\n",
       "      <td>38</td>\n",
       "      <td>3</td>\n",
       "      <td>8</td>\n",
       "      <td>27</td>\n",
       "      <td>27</td>\n",
       "      <td>76</td>\n",
       "      <td>-49</td>\n",
       "      <td>17</td>\n",
       "      <td>0.45</td>\n",
       "      <td>33,690</td>\n",
       "      <td>Jordan Ayew - 7</td>\n",
       "      <td>Brad Guzan</td>\n",
       "      <td>Relegated</td>\n",
       "    </tr>\n",
       "  </tbody>\n",
       "</table>\n",
       "</div>"
      ],
      "text/plain": [
       "    Rk             Squad  MP   W   D   L  GF  GA   GD Pts Pts/MP Attendance  \\\n",
       "0    1    Leicester City  38  23  12   3  68  36  +32  81   2.13     31,998   \n",
       "1    2           Arsenal  38  20  11   7  65  36  +29  71   1.87     59,944   \n",
       "2    3         Tottenham  38  19  13   6  69  35  +34  70   1.84     35,776   \n",
       "3    4   Manchester City  38  19   9  10  71  41  +30  66   1.74     54,041   \n",
       "4    5    Manchester Utd  38  19   9  10  49  35  +14  66   1.74     75,286   \n",
       "5    6       Southampton  38  18   9  11  59  41  +18  63   1.66     30,751   \n",
       "6    7          West Ham  38  16  14   8  65  51  +14  62   1.63     34,910   \n",
       "7    8         Liverpool  38  16  12  10  63  50  +13  60   1.58     43,910   \n",
       "8    9        Stoke City  38  14   9  15  41  55  -14  51   1.34     27,534   \n",
       "9   10           Chelsea  38  12  14  12  59  53   +6  50   1.32     41,500   \n",
       "10  11           Everton  38  11  14  13  59  55   +4  47   1.24     38,124   \n",
       "11  12      Swansea City  38  12  11  15  42  52  -10  47   1.24     20,711   \n",
       "12  13           Watford  38  12   9  17  40  50  -10  45   1.18     20,594   \n",
       "13  14         West Brom  38  10  13  15  34  48  -14  43   1.13     24,631   \n",
       "14  15    Crystal Palace  38  11   9  18  39  51  -12  42   1.11     24,825   \n",
       "15  16       Bournemouth  38  11   9  18  45  67  -22  42   1.11     11,189   \n",
       "16  17        Sunderland  38   9  12  17  48  62  -14  39   1.03     43,071   \n",
       "17  18     Newcastle Utd  38   9  10  19  44  65  -21  37   0.97     49,754   \n",
       "18  19      Norwich City  38   9   7  22  39  67  -28  34   0.89     26,972   \n",
       "19  20       Aston Villa  38   3   8  27  27  76  -49  17   0.45     33,690   \n",
       "\n",
       "                    Top Team Scorer         Goalkeeper  \\\n",
       "0                  Jamie Vardy - 24  Kasper Schmeichel   \n",
       "1               Olivier Giroud - 16          Petr Čech   \n",
       "2                   Harry Kane - 25        Hugo Lloris   \n",
       "3                Sergio Agüero - 24           Joe Hart   \n",
       "4              Anthony Martial - 11       David de Gea   \n",
       "5   Sadio Mané, Graziano Pellè - 11     Fraser Forster   \n",
       "6   Dimitri Payet, Andy Carroll - 9             Adrián   \n",
       "7              Roberto Firmino - 10     Simon Mignolet   \n",
       "8             Marko Arnautović - 11       Jack Butland   \n",
       "9                  Diego Costa - 12   Thibaut Courtois   \n",
       "10               Romelu Lukaku - 18         Tim Howard   \n",
       "11                  André Ayew - 12   Łukasz Fabiański   \n",
       "12                Odion Ighalo - 15     Heurelho Gomes   \n",
       "13               Salomón Rondón - 9        Boaz Myhill   \n",
       "14  Scott Dann, Yohan Cabaye... - 5    Wayne Hennessey   \n",
       "15                  Joshua King - 6        Artur Boruc   \n",
       "16               Jermain Defoe - 15       Vito Mannone   \n",
       "17         Georginio Wijnaldum - 11         Rob Elliot   \n",
       "18            Dieumerci Mbokani - 7         John Ruddy   \n",
       "19                  Jordan Ayew - 7         Brad Guzan   \n",
       "\n",
       "                                   Notes  \n",
       "0   → Champions League via league finish  \n",
       "1   → Champions League via league finish  \n",
       "2   → Champions League via league finish  \n",
       "3   → Champions League via league finish  \n",
       "4          → Europa League via cup win 1  \n",
       "5    → Europa League via league finish 2  \n",
       "6    → Europa League via league finish 3  \n",
       "7                                         \n",
       "8                                         \n",
       "9                                         \n",
       "10                                        \n",
       "11                                        \n",
       "12                                        \n",
       "13                                        \n",
       "14                                        \n",
       "15                                        \n",
       "16                                        \n",
       "17                             Relegated  \n",
       "18                             Relegated  \n",
       "19                             Relegated  "
      ]
     },
     "execution_count": 26,
     "metadata": {},
     "output_type": "execute_result"
    }
   ],
   "source": [
    "pd.DataFrame(header_dictionary)"
   ]
  },
  {
   "cell_type": "markdown",
   "id": "4f3f1d12",
   "metadata": {},
   "source": [
    "### Making  a function for scraping more season table from different seasons"
   ]
  },
  {
   "cell_type": "code",
   "execution_count": 27,
   "id": "4957e447",
   "metadata": {},
   "outputs": [],
   "source": [
    "def request_to_soup(url):\n",
    "    # Requesting web server to get acces to the web page and converting it into text\n",
    "    page = requests.get(url)\n",
    "\n",
    "    # Checking status code for URL\n",
    "    code = page.status_code\n",
    "    print(code)\n",
    "    \n",
    "    # Instantiating BeautifulSoup library\n",
    "    soup = BeautifulSoup(page.text)\n",
    "    \n",
    "    return soup"
   ]
  },
  {
   "cell_type": "markdown",
   "id": "0d9278cd",
   "metadata": {},
   "source": [
    "### Create a scaper funtion get needed table tags and convert them into soutable form."
   ]
  },
  {
   "cell_type": "code",
   "execution_count": 28,
   "id": "3674f939",
   "metadata": {},
   "outputs": [],
   "source": [
    "def scraper(soup_):\n",
    "    \n",
    "    # Finding tags which contain the season table    \n",
    "    table_tags = soup_.find('table')\n",
    "    \n",
    "    # Separating the table header tags and table body tags..\n",
    "    table_header_tags = table_tags.thead\n",
    "    table_body_tags = table_tags.tbody\n",
    "    \n",
    "    # Creating a list of heading from header tags\n",
    "    table_header_contents_list = content_to_list(table_tags.thead.contents)\n",
    "    table_header_contents_list = table_header_contents_list[0]\n",
    "    \n",
    "    table_header_contents_list = content_to_list(table_header_contents_list.contents)\n",
    "    \n",
    "    list_of_table_header = []\n",
    "    for i in table_header_contents_list:\n",
    "        list_of_table_header.append(i.text)\n",
    "    \n",
    "    # Creating a list which contain table content in the row-wise from\n",
    "    table_body_content_tags = content_to_list(table_tags.tbody.contents)\n",
    "    \n",
    "    return list_of_table_header,table_body_content_tags\n"
   ]
  },
  {
   "cell_type": "markdown",
   "id": "afe1bbc2",
   "metadata": {},
   "source": [
    "### Create final_table function return a dictionary or data from which connect header list to body contents of table"
   ]
  },
  {
   "cell_type": "code",
   "execution_count": 29,
   "id": "704eb1d6",
   "metadata": {},
   "outputs": [],
   "source": [
    "def final_table(list_of_table_header,table_body_content_tags):\n",
    "    \n",
    "    # Creating header dictionary\n",
    "    header_dictionary = create_dictionary(list_of_table_header)\n",
    "    \n",
    "    for i in table_body_content_tags:\n",
    "        team_detail = text_extract_from_contents(i.contents)\n",
    "        for j in range(len(header_dictionary)):\n",
    "            header_dictionary[list_of_table_header[j]].append(team_detail[j])\n",
    "\n",
    "    \n",
    "    return pd.DataFrame(header_dictionary)"
   ]
  },
  {
   "cell_type": "markdown",
   "id": "4dfac1d3",
   "metadata": {},
   "source": [
    "### Finally create a function which returns all season table according to inputs like season year and number of seasons to scrape"
   ]
  },
  {
   "cell_type": "code",
   "execution_count": 30,
   "id": "c35d6dcf",
   "metadata": {},
   "outputs": [],
   "source": [
    "def URL_to_table_csv(start_year,number_of_seasons):\n",
    "\n",
    "    for i in range(number_of_seasons):\n",
    "        # Creating a template of years for url\n",
    "        dummy_years = f\"{start_year+i}-{start_year+i+1}\"\n",
    "        base_dummy_url = f\"https://fbref.com/en/comps/9/{str(dummy_years)}/{str(dummy_years)}-Premier-League-Stats\"\n",
    "        print(base_dummy_url)\n",
    "\n",
    "        # Getting tags\n",
    "        soup = request_to_soup(url= base_dummy_url)\n",
    "\n",
    "        # Calling the scraper function\n",
    "        tags = scraper(soup_= soup)\n",
    "        \n",
    "        # Creating a final table\n",
    "        Season_table = final_table(list_of_table_header=tags[0],table_body_content_tags=tags[1])\n",
    "\n",
    "        # Creating a template for naming the files \n",
    "        file_name =f\"Premier_league_season_table_{dummy_years}\"\n",
    "\n",
    "        # Converting the dataframe to csv file\n",
    "        Season_table.to_csv(f'Season_tables/{file_name}',index=False)\n",
    "        if i == 0: \n",
    "            print(f\"{i+1} season successfully scraped ✔ \")\n",
    "        elif i >0:\n",
    "            print(f\"{i+1} seasons successfully scraped ✔ \")\n",
    "        if i == number_of_seasons-1:\n",
    "            print(f'All seasons scraped')\n",
    "        \n",
    "        time.sleep(5)"
   ]
  },
  {
   "cell_type": "code",
   "execution_count": null,
   "id": "4133c839",
   "metadata": {},
   "outputs": [
    {
     "name": "stdout",
     "output_type": "stream",
     "text": [
      "https://fbref.com/en/comps/9/1992-1993/1992-1993-Premier-League-Stats\n",
      "200\n",
      "1 season successfully scraped ✔ \n",
      "https://fbref.com/en/comps/9/1993-1994/1993-1994-Premier-League-Stats\n",
      "200\n",
      "2 seasons successfully scraped ✔ \n",
      "https://fbref.com/en/comps/9/1994-1995/1994-1995-Premier-League-Stats\n",
      "200\n",
      "3 seasons successfully scraped ✔ \n",
      "https://fbref.com/en/comps/9/1995-1996/1995-1996-Premier-League-Stats\n",
      "200\n",
      "4 seasons successfully scraped ✔ \n",
      "https://fbref.com/en/comps/9/1996-1997/1996-1997-Premier-League-Stats\n",
      "200\n",
      "5 seasons successfully scraped ✔ \n",
      "https://fbref.com/en/comps/9/1997-1998/1997-1998-Premier-League-Stats\n",
      "200\n",
      "6 seasons successfully scraped ✔ \n",
      "https://fbref.com/en/comps/9/1998-1999/1998-1999-Premier-League-Stats\n",
      "200\n",
      "7 seasons successfully scraped ✔ \n",
      "https://fbref.com/en/comps/9/1999-2000/1999-2000-Premier-League-Stats\n",
      "200\n",
      "8 seasons successfully scraped ✔ \n",
      "https://fbref.com/en/comps/9/2000-2001/2000-2001-Premier-League-Stats\n",
      "200\n",
      "9 seasons successfully scraped ✔ \n",
      "https://fbref.com/en/comps/9/2001-2002/2001-2002-Premier-League-Stats\n",
      "200\n",
      "10 seasons successfully scraped ✔ \n",
      "https://fbref.com/en/comps/9/2002-2003/2002-2003-Premier-League-Stats\n",
      "200\n",
      "11 seasons successfully scraped ✔ \n",
      "https://fbref.com/en/comps/9/2003-2004/2003-2004-Premier-League-Stats\n",
      "200\n",
      "12 seasons successfully scraped ✔ \n",
      "https://fbref.com/en/comps/9/2004-2005/2004-2005-Premier-League-Stats\n",
      "200\n",
      "13 seasons successfully scraped ✔ \n",
      "https://fbref.com/en/comps/9/2005-2006/2005-2006-Premier-League-Stats\n",
      "200\n",
      "14 seasons successfully scraped ✔ \n",
      "https://fbref.com/en/comps/9/2006-2007/2006-2007-Premier-League-Stats\n",
      "200\n",
      "15 seasons successfully scraped ✔ \n",
      "https://fbref.com/en/comps/9/2007-2008/2007-2008-Premier-League-Stats\n",
      "200\n",
      "16 seasons successfully scraped ✔ \n",
      "https://fbref.com/en/comps/9/2008-2009/2008-2009-Premier-League-Stats\n",
      "200\n",
      "17 seasons successfully scraped ✔ \n",
      "https://fbref.com/en/comps/9/2009-2010/2009-2010-Premier-League-Stats\n",
      "200\n",
      "18 seasons successfully scraped ✔ \n",
      "https://fbref.com/en/comps/9/2010-2011/2010-2011-Premier-League-Stats\n",
      "200\n",
      "19 seasons successfully scraped ✔ \n",
      "https://fbref.com/en/comps/9/2011-2012/2011-2012-Premier-League-Stats\n",
      "200\n",
      "20 seasons successfully scraped ✔ \n",
      "https://fbref.com/en/comps/9/2012-2013/2012-2013-Premier-League-Stats\n",
      "200\n",
      "21 seasons successfully scraped ✔ \n",
      "https://fbref.com/en/comps/9/2013-2014/2013-2014-Premier-League-Stats\n",
      "200\n",
      "22 seasons successfully scraped ✔ \n",
      "https://fbref.com/en/comps/9/2014-2015/2014-2015-Premier-League-Stats\n",
      "200\n",
      "23 seasons successfully scraped ✔ \n",
      "https://fbref.com/en/comps/9/2015-2016/2015-2016-Premier-League-Stats\n",
      "200\n",
      "24 seasons successfully scraped ✔ \n"
     ]
    }
   ],
   "source": [
    "URL_to_table_csv(start_year=1992,number_of_seasons=30)"
   ]
  },
  {
   "cell_type": "code",
   "execution_count": null,
   "id": "ba893eef",
   "metadata": {},
   "outputs": [],
   "source": []
  }
 ],
 "metadata": {
  "kernelspec": {
   "display_name": "Python 3 (ipykernel)",
   "language": "python",
   "name": "python3"
  },
  "language_info": {
   "codemirror_mode": {
    "name": "ipython",
    "version": 3
   },
   "file_extension": ".py",
   "mimetype": "text/x-python",
   "name": "python",
   "nbconvert_exporter": "python",
   "pygments_lexer": "ipython3",
   "version": "3.9.7"
  }
 },
 "nbformat": 4,
 "nbformat_minor": 5
}
